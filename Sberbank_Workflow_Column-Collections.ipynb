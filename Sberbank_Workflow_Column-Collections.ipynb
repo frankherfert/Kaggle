{
 "cells": [
  {
   "cell_type": "markdown",
   "metadata": {},
   "source": [
    "# Workflow template\n",
    "This notebook is a template for a more structured workflow.\n",
    "\n",
    "The sberbank dataset contains a lot of variables (291 in the regular train- and test-files, 100 in the macro-file) and working through all of those can become rather tedious even on a 1080+ screen. Newly created columns are added to the end of the dataframe and comparing new and old columns can be made easier with topic-related column-collections."
   ]
  },
  {
   "cell_type": "markdown",
   "metadata": {
    "collapsed": true
   },
   "source": [
    "## Column collections\n",
    "\n",
    "Under the feature-section of this notebook you can find all variables that belong together, grouped into arrays.\n",
    "\n",
    "Most of the default variables are positioned next to each other in the source-dataframe but some are not sorted in an ideal way (e.g. the square-meters columns are not next to each other, kitch_sq is a few columns to the right, km-distance-columns are all over the place).\n",
    "\n",
    "With the column-collections you can use **`train_df.loc[:3,sub_area_columns]`** where **`sub_area_columns`** is the array containing all relevant columns regarding areas. \n",
    "\n",
    "After you add new features, just add them to the array and display all topic-related columns with the same line.\n",
    "\n"
   ]
  },
  {
   "cell_type": "markdown",
   "metadata": {},
   "source": [
    "## Jupyter Notebook Extensions\n",
    "The regular jupyter notebook can be enhanced with a number of easy-to-install extensions.\n",
    "\n",
    "If you download this kernel as a ipynb-file and active the extensions, it will be a lot easier to work with almost 400 variables.\n",
    "\n",
    "\n",
    "You can find the jupyter_contrib_extensions on github: https://github.com/ipython-contrib/jupyter_contrib_nbextensions\n",
    "\n",
    "Installation with conda: **`conda install -c conda-forge jupyter_contrib_nbextensions`**\n",
    "\n",
    "Installation with pip: **`pip install jupyter_contrib_nbextensions`**"
   ]
  },
  {
   "cell_type": "markdown",
   "metadata": {},
   "source": [
    "### Helpful extensions\n",
    "You need to start a new jupyter notebook server in order to activate the extensions.\n",
    "\n",
    "After this, you can acces the extensions-menu in the main-page that opens up when you start a jupyter notebook server:\n",
    "![title](https://www.dropbox.com/s/9ue80c7e1tz6kd8/Nbextensions.png?dl=1)\n",
    "\n",
    "You can uncheck the \"disable configuration for nbextensions without explicit compatibility\". I am using the latest version of jupyter and haven't experienced any problems.\n",
    "\n",
    "Then choose the extensions you want to use below and maybe change a few of their options.\n",
    "![title](https://www.dropbox.com/s/dz7jbeyx5pe3zfc/extension_selection.png?dl=1)"
   ]
  },
  {
   "cell_type": "markdown",
   "metadata": {},
   "source": [
    "#### Collapsible Headers\n",
    "To make the whole workflow easier this notebook is seperated by header and sub-headers for each topic. With the help of the \"collapsible headers extension\", working with them becomes much easier.\n",
    "\n",
    "This extension allows you to collapse all headers in a hierarchical way.\n",
    "![title](https://www.dropbox.com/s/0zzmi5ttk5ic39p/collapsible_headers.png?dl=1)"
   ]
  },
  {
   "cell_type": "markdown",
   "metadata": {},
   "source": [
    "#### Codefolding\n",
    "\n",
    "As with headers, you can fold long sections of code.\n",
    "![title](http://jupyter-contrib-nbextensions.readthedocs.io/en/latest/_images/codefolding_indent_unfolded.png)"
   ]
  },
  {
   "cell_type": "markdown",
   "metadata": {},
   "source": [
    "#### Table of Contents (2)\n",
    "I'm not sure where Table of Contents (1) is but this extension is great for quickly moving to different sections once your notebook has become very long.\n",
    "\n",
    "You can move the ToC around and let it automatically generate numbered headings.\n",
    "![title](http://jupyter-contrib-nbextensions.readthedocs.io/en/latest/_images/demo3.gif)"
   ]
  },
  {
   "cell_type": "markdown",
   "metadata": {},
   "source": [
    "\n"
   ]
  },
  {
   "cell_type": "markdown",
   "metadata": {},
   "source": [
    "# General"
   ]
  },
  {
   "cell_type": "markdown",
   "metadata": {},
   "source": [
    "#### Todos and Ideas to try"
   ]
  },
  {
   "cell_type": "markdown",
   "metadata": {},
   "source": [
    "Place your general ideas, links and todos here\n"
   ]
  },
  {
   "cell_type": "markdown",
   "metadata": {
    "collapsed": true
   },
   "source": [
    "#### Imports"
   ]
  },
  {
   "cell_type": "code",
   "execution_count": 1,
   "metadata": {},
   "outputs": [
    {
     "data": {
      "text/html": [
       "<style>.container { width:99% !important; }</style>"
      ],
      "text/plain": [
       "<IPython.core.display.HTML object>"
      ]
     },
     "metadata": {},
     "output_type": "display_data"
    },
    {
     "data": {
      "text/html": [
       "<style>table {float:left}</style>"
      ],
      "text/plain": [
       "<IPython.core.display.HTML object>"
      ]
     },
     "metadata": {},
     "output_type": "display_data"
    }
   ],
   "source": [
    "import numpy as np\n",
    "np.set_printoptions(linewidth=140) # numpy displays 75 lines by default which is not optimal on a larger screen.\n",
    "import pandas as pd\n",
    "pd.set_option('display.max_columns', 300) # increase number of columns and rows to print out\n",
    "pd.set_option('display.max_rows', 300)\n",
    "\n",
    "import matplotlib.pyplot as plt\n",
    "import seaborn as sns\n",
    "sns.set_style(\"darkgrid\")\n",
    "%matplotlib inline\n",
    "\n",
    "from datetime import datetime\n",
    "\n",
    "# the following 3 lines let your notebook take up more space on the screen / removes the unused width on the side\n",
    "from IPython.core.display import display, HTML\n",
    "display(HTML(\"<style>.container { width:99% !important; }</style>\"))\n",
    "display(HTML(\"<style>table {float:left}</style>\")) # makes the changelog table nicer"
   ]
  },
  {
   "cell_type": "code",
   "execution_count": 2,
   "metadata": {},
   "outputs": [],
   "source": [
    "from sklearn import model_selection\n",
    "from sklearn import preprocessing\n",
    "from sklearn import metrics"
   ]
  },
  {
   "cell_type": "markdown",
   "metadata": {},
   "source": [
    "#### Helper functions"
   ]
  },
  {
   "cell_type": "code",
   "execution_count": 3,
   "metadata": {
    "collapsed": true
   },
   "outputs": [],
   "source": [
    "def show_dtypes(df):\n",
    "    for dtype in df.dtypes.unique():\n",
    "        print(str(dtype).ljust(14), \":\",list(df.dtypes[df.dtypes == dtype].index),\"\\n\")\n",
    "\n",
    "# returns all columns of a DataFrame with type float64, int64, uint8\n",
    "def get_numeric_columns(df):\n",
    "    return list(df.dtypes[(df.dtypes == \"float64\") | (df.dtypes == \"int64\") | (df.dtypes == \"uint8\")].index)\n",
    "\n",
    "\n",
    "# creates dummy columns with prefix, merge with source dataframe\n",
    "def create_dummy_columns(df, columns):\n",
    "    for column in columns:\n",
    "        df[column]    = df[column].apply(lambda x: str(x)) #convert to str just in case\n",
    "        new_columns = [column + \"_\" + i for i in full[column].unique()] #only use the columns that appear in the test set and add prefix like in get_dummies\n",
    "        df = pd.concat((df,    pd.get_dummies(df[column],    prefix = column)[new_columns]), axis = 1)\n",
    "    return df\n",
    "\n",
    "\n",
    "def del_columns(df, columns):\n",
    "    for column in columns:\n",
    "        if column in df.columns:\n",
    "            del df[column]\n",
    "            print(\"Deleted: \", column)\n",
    "        else:\n",
    "            print(\"Not in DataFrame: \",column)\n",
    "    return df"
   ]
  },
  {
   "cell_type": "markdown",
   "metadata": {
    "collapsed": true
   },
   "source": [
    "# Loading Data\n",
    "[back to top](#Table-of-Contents)"
   ]
  },
  {
   "cell_type": "markdown",
   "metadata": {},
   "source": [
    "## Macro"
   ]
  },
  {
   "cell_type": "code",
   "execution_count": 4,
   "metadata": {},
   "outputs": [
    {
     "data": {
      "text/plain": [
       "(2484, 100)"
      ]
     },
     "execution_count": 4,
     "metadata": {},
     "output_type": "execute_result"
    }
   ],
   "source": [
    "macro_df = pd.read_csv(\"input/macro.csv\", parse_dates=[\"timestamp\"])\n",
    "macro_df.shape"
   ]
  },
  {
   "cell_type": "markdown",
   "metadata": {},
   "source": [
    "## Train"
   ]
  },
  {
   "cell_type": "code",
   "execution_count": 5,
   "metadata": {},
   "outputs": [
    {
     "name": "stdout",
     "output_type": "stream",
     "text": [
      "Shape:  (30471, 392) \n",
      "\n",
      "<class 'pandas.core.frame.DataFrame'>\n",
      "Int64Index: 30471 entries, 0 to 30470\n",
      "Columns: 392 entries, id to apartment_fund_sqm\n",
      "dtypes: datetime64[ns](1), float64(213), int64(159), object(19)\n",
      "memory usage: 120.2 MB\n"
     ]
    }
   ],
   "source": [
    "train_df = pd.read_csv(\"input/train.csv\", parse_dates=[\"timestamp\"])\n",
    "train_df[\"train_test\"] = \"train\"\n",
    "\n",
    "train_df = pd.merge(train_df, macro_df, how=\"left\", on=\"timestamp\")\n",
    "\n",
    "print(\"Shape: \", train_df.shape,\"\\n\")\n",
    "train_df.info(memory_usage=\"deep\")"
   ]
  },
  {
   "cell_type": "markdown",
   "metadata": {},
   "source": [
    "## Test"
   ]
  },
  {
   "cell_type": "code",
   "execution_count": 6,
   "metadata": {
    "scrolled": true
   },
   "outputs": [
    {
     "name": "stdout",
     "output_type": "stream",
     "text": [
      "Shape:  (7662, 391) \n",
      "\n",
      "<class 'pandas.core.frame.DataFrame'>\n",
      "Int64Index: 7662 entries, 0 to 7661\n",
      "Columns: 391 entries, id to apartment_fund_sqm\n",
      "dtypes: datetime64[ns](1), float64(210), int64(161), object(19)\n",
      "memory usage: 29.8 MB\n"
     ]
    }
   ],
   "source": [
    "test_df = pd.read_csv(\"input/test.csv\", parse_dates=[\"timestamp\"])\n",
    "test_df[\"train_test\"] = \"test\"\n",
    "\n",
    "test_df = pd.merge(test_df, macro_df, how=\"left\", on=\"timestamp\")\n",
    "\n",
    "print(\"Shape: \",test_df.shape, \"\\n\")\n",
    "test_df.info(memory_usage=\"deep\")"
   ]
  },
  {
   "cell_type": "markdown",
   "metadata": {},
   "source": [
    "## Target"
   ]
  },
  {
   "cell_type": "code",
   "execution_count": 7,
   "metadata": {},
   "outputs": [
    {
     "data": {
      "text/plain": [
       "count        30471\n",
       "mean       7123035\n",
       "std        4780111\n",
       "min         100000\n",
       "25%        4740002\n",
       "50%        6274411\n",
       "75%        8300000\n",
       "max      111111112\n",
       "Name: price_doc, dtype: object"
      ]
     },
     "execution_count": 7,
     "metadata": {},
     "output_type": "execute_result"
    }
   ],
   "source": [
    "train_df[\"price_doc\"].describe().apply(lambda x: '%.f' % x)"
   ]
  },
  {
   "cell_type": "code",
   "execution_count": 8,
   "metadata": {},
   "outputs": [
    {
     "data": {
      "text/plain": [
       "20244    100000\n",
       "1167     190000\n",
       "1169     200000\n",
       "9221     260000\n",
       "3258     300000\n",
       "Name: price_doc, dtype: int64"
      ]
     },
     "execution_count": 8,
     "metadata": {},
     "output_type": "execute_result"
    }
   ],
   "source": [
    "train_df.price_doc.sort_values(ascending=True).head(5)"
   ]
  },
  {
   "cell_type": "code",
   "execution_count": 9,
   "metadata": {},
   "outputs": [
    {
     "data": {
      "text/plain": [
       "2118     111111112\n",
       "28326     95122496\n",
       "7457      91066096\n",
       "19095     80777440\n",
       "6319      78802248\n",
       "Name: price_doc, dtype: int64"
      ]
     },
     "execution_count": 9,
     "metadata": {},
     "output_type": "execute_result"
    }
   ],
   "source": [
    "train_df.price_doc.sort_values(ascending=False).head(5)"
   ]
  },
  {
   "cell_type": "code",
   "execution_count": 10,
   "metadata": {
    "code_folding": []
   },
   "outputs": [],
   "source": [
    "ulimit = np.percentile(train_df.price_doc.values, 99.9)\n",
    "llimit = np.percentile(train_df.price_doc.values, .1)\n",
    "train_df.loc[train_df['price_doc']>ulimit, [\"price_doc\"]] = ulimit\n",
    "train_df.loc[train_df['price_doc']<llimit, [\"price_doc\"]] = llimit"
   ]
  },
  {
   "cell_type": "code",
   "execution_count": 11,
   "metadata": {},
   "outputs": [
    {
     "data": {
      "text/plain": [
       "count       30471\n",
       "mean      7110463\n",
       "std       4615500\n",
       "min        712477\n",
       "25%       4740002\n",
       "50%       6274411\n",
       "75%       8300000\n",
       "max      53899956\n",
       "Name: price_doc, dtype: object"
      ]
     },
     "execution_count": 11,
     "metadata": {},
     "output_type": "execute_result"
    }
   ],
   "source": [
    "train_df[\"price_doc\"].describe().apply(lambda x: '%.f' % x)"
   ]
  },
  {
   "cell_type": "code",
   "execution_count": 12,
   "metadata": {},
   "outputs": [
    {
     "name": "stdout",
     "output_type": "stream",
     "text": [
      "[  5850000.   6000000.   5700000.  13100000.  16331452.   9100000.   5500000.   2000000.   5300000.   2000000.]\n",
      "[ 15.58195239  15.60727019  15.55597691  16.38812286  16.60860344  16.02378508  15.52025883  14.50865824  15.48321757  14.50865824]\n"
     ]
    }
   ],
   "source": [
    "train_y = np.array(train_df[\"price_doc\"])\n",
    "print(train_y[0:10])\n",
    "\n",
    "# Since our metric is \"RMSLE\", let us use log of the target variable for model building rather than using the actual target variable.\n",
    "train_y = np.log1p(train_y)\n",
    "print(train_y[0:10])"
   ]
  },
  {
   "cell_type": "markdown",
   "metadata": {},
   "source": [
    "# Exploratory Data Analysis\n",
    "[back to top](#Table-of-Contents)"
   ]
  },
  {
   "cell_type": "code",
   "execution_count": 13,
   "metadata": {
    "collapsed": true
   },
   "outputs": [],
   "source": [
    "# put in your code here"
   ]
  },
  {
   "cell_type": "markdown",
   "metadata": {},
   "source": [
    "# Features\n",
    "[back to top](#Table-of-Contents)"
   ]
  },
  {
   "cell_type": "code",
   "execution_count": 14,
   "metadata": {
    "collapsed": true,
    "scrolled": true
   },
   "outputs": [],
   "source": [
    "# show_dtypes(train_df)"
   ]
  },
  {
   "cell_type": "markdown",
   "metadata": {
    "heading_collapsed": true
   },
   "source": [
    "## Feature Dictionary"
   ]
  },
  {
   "cell_type": "code",
   "execution_count": 15,
   "metadata": {
    "collapsed": true,
    "hidden": true
   },
   "outputs": [],
   "source": [
    "# price_doc: sale price (this is the target variable)\n",
    "# id: transaction id\n",
    "# timestamp: date of transaction\n",
    "# full_sq: total area in square meters, including loggias, balconies and other non-residential areas\n",
    "# life_sq: living area in square meters, excluding loggias, balconies and other non-residential areas\n",
    "# floor: for apartments, floor of the building\n",
    "# max_floor: number of floors in the building\n",
    "# material: wall material\n",
    "# build_year: year built\n",
    "# num_room: number of living rooms\n",
    "# kitch_sq: kitchen area\n",
    "# state: apartment condition\n",
    "# product_type: owner-occupier purchase or investment\n",
    "# sub_area: name of the district\n",
    "\n",
    "# The dataset also includes a collection of features about each property's surrounding neighbourhood, and some features that are constant across each sub area (known as a Raion). Most of the feature names are self explanatory, with the following notes.\n",
    "\n",
    "# full_all: subarea population\n",
    "# male_f, female_f: subarea population by gender\n",
    "# young_*: population younger than working age\n",
    "# work_*: working-age population\n",
    "# ekder_*: retirement-age population\n",
    "# n_m_{all|male|female}: population between n and m years old\n",
    "# build_count_*: buildings in the subarea by construction type or year\n",
    "# x_count_500: the number of x within 500m of the property\n",
    "# x_part_500: the share of x within 500m of the property\n",
    "# _sqm_: square meters\n",
    "# cafe_count_d_price_p: number of cafes within d meters of the property that have an average bill under p RUB\n",
    "# trc_: shopping malls\n",
    "# prom_: industrial zones\n",
    "# green_: green zones\n",
    "# metro_: subway\n",
    "# _avto_: distances by car\n",
    "# mkad_: Moscow Circle Auto Road\n",
    "# ttk_: Third Transport Ring\n",
    "# sadovoe_: Garden Ring\n",
    "# bulvar_ring_: Boulevard Ring\n",
    "# kremlin_: City center\n",
    "# zd_vokzaly_: Train station\n",
    "# oil_chemistry_: Dirty industry\n",
    "# ts_: Power plant"
   ]
  },
  {
   "cell_type": "markdown",
   "metadata": {
    "heading_collapsed": true
   },
   "source": [
    "## General features"
   ]
  },
  {
   "cell_type": "code",
   "execution_count": 16,
   "metadata": {
    "collapsed": true,
    "hidden": true
   },
   "outputs": [],
   "source": [
    "train_df[\"null_count\"] = train_df.isnull().sum(axis=1)\n",
    "test_df[\"null_count\"] = test_df.isnull().sum(axis=1)"
   ]
  },
  {
   "cell_type": "code",
   "execution_count": 17,
   "metadata": {
    "collapsed": true,
    "hidden": true
   },
   "outputs": [],
   "source": [
    "# these make it easier to see if a property has an unusually high or low price if you are not familiar with Rubles\n",
    "train_df[\"price_doc_euro\"] = np.round(train_df[\"price_doc\"]*0.016,0)\n",
    "train_df[\"price_doc_dollars\"] = np.round(train_df[\"price_doc\"]*0.02,0)"
   ]
  },
  {
   "cell_type": "markdown",
   "metadata": {
    "heading_collapsed": true
   },
   "source": [
    "## Building info"
   ]
  },
  {
   "cell_type": "markdown",
   "metadata": {
    "heading_collapsed": true,
    "hidden": true,
    "scrolled": true
   },
   "source": [
    "### timestamp"
   ]
  },
  {
   "cell_type": "code",
   "execution_count": 18,
   "metadata": {
    "hidden": true,
    "scrolled": true
   },
   "outputs": [
    {
     "data": {
      "text/html": [
       "<div>\n",
       "<table border=\"1\" class=\"dataframe\">\n",
       "  <thead>\n",
       "    <tr style=\"text-align: right;\">\n",
       "      <th></th>\n",
       "      <th>timestamp</th>\n",
       "    </tr>\n",
       "  </thead>\n",
       "  <tbody>\n",
       "    <tr>\n",
       "      <th>0</th>\n",
       "      <td>2011-08-20</td>\n",
       "    </tr>\n",
       "    <tr>\n",
       "      <th>1</th>\n",
       "      <td>2011-08-23</td>\n",
       "    </tr>\n",
       "    <tr>\n",
       "      <th>2</th>\n",
       "      <td>2011-08-27</td>\n",
       "    </tr>\n",
       "    <tr>\n",
       "      <th>3</th>\n",
       "      <td>2011-09-01</td>\n",
       "    </tr>\n",
       "  </tbody>\n",
       "</table>\n",
       "</div>"
      ],
      "text/plain": [
       "   timestamp\n",
       "0 2011-08-20\n",
       "1 2011-08-23\n",
       "2 2011-08-27\n",
       "3 2011-09-01"
      ]
     },
     "execution_count": 18,
     "metadata": {},
     "output_type": "execute_result"
    }
   ],
   "source": [
    "time_columns = [\"timestamp\"]\n",
    "train_df.loc[:3,time_columns]"
   ]
  },
  {
   "cell_type": "code",
   "execution_count": 19,
   "metadata": {
    "collapsed": true,
    "hidden": true
   },
   "outputs": [],
   "source": [
    "train_df[\"time_year\"] = train_df[\"timestamp\"].dt.year\n",
    "test_df[\"time_year\"] = test_df[\"timestamp\"].dt.year\n",
    "\n",
    "train_df[\"time_month_of_year\"] = train_df[\"timestamp\"].dt.month\n",
    "test_df[\"time_month_of_year\"] = test_df[\"timestamp\"].dt.month\n",
    "\n",
    "train_df[\"time_yearmonth\"] = train_df[\"timestamp\"].dt.year*100 + train_df[\"timestamp\"].dt.month-200000\n",
    "test_df[\"time_yearmonth\"] = test_df[\"timestamp\"].dt.year*100 + test_df[\"timestamp\"].dt.month-200000\n",
    "\n",
    "train_df[\"time_week_of_year\"] = train_df[\"timestamp\"].dt.weekofyear\n",
    "test_df[\"time_week_of_year\"] = test_df[\"timestamp\"].dt.weekofyear\n",
    "\n",
    "train_df[\"time_yearweek\"] = train_df[\"timestamp\"].dt.year*100 + train_df[\"timestamp\"].dt.weekofyear-200000\n",
    "test_df[\"time_yearweek\"] = test_df[\"timestamp\"].dt.year*100 + test_df[\"timestamp\"].dt.weekofyear-200000\n",
    "\n",
    "train_df[\"time_day_of_year\"] = train_df[\"timestamp\"].dt.dayofyear\n",
    "test_df[\"time_day_of_year\"] = test_df[\"timestamp\"].dt.dayofyear\n",
    "\n",
    "train_df[\"time_day_of_month\"] = train_df[\"timestamp\"].dt.day\n",
    "test_df[\"time_day_of_month\"] = test_df[\"timestamp\"].dt.day\n",
    "\n",
    "train_df[\"time_day_of_week\"] = train_df[\"timestamp\"].dt.weekday\n",
    "test_df[\"time_day_of_week\"] = test_df[\"timestamp\"].dt.weekday"
   ]
  },
  {
   "cell_type": "code",
   "execution_count": 20,
   "metadata": {
    "hidden": true
   },
   "outputs": [
    {
     "data": {
      "text/html": [
       "<div>\n",
       "<table border=\"1\" class=\"dataframe\">\n",
       "  <thead>\n",
       "    <tr style=\"text-align: right;\">\n",
       "      <th></th>\n",
       "      <th>timestamp</th>\n",
       "      <th>time_year</th>\n",
       "      <th>time_month_of_year</th>\n",
       "      <th>time_yearmonth</th>\n",
       "      <th>time_week_of_year</th>\n",
       "      <th>time_yearweek</th>\n",
       "      <th>time_day_of_year</th>\n",
       "      <th>time_day_of_month</th>\n",
       "      <th>time_day_of_week</th>\n",
       "    </tr>\n",
       "  </thead>\n",
       "  <tbody>\n",
       "    <tr>\n",
       "      <th>0</th>\n",
       "      <td>2011-08-20</td>\n",
       "      <td>2011</td>\n",
       "      <td>8</td>\n",
       "      <td>1108</td>\n",
       "      <td>33</td>\n",
       "      <td>1133</td>\n",
       "      <td>232</td>\n",
       "      <td>20</td>\n",
       "      <td>5</td>\n",
       "    </tr>\n",
       "    <tr>\n",
       "      <th>1</th>\n",
       "      <td>2011-08-23</td>\n",
       "      <td>2011</td>\n",
       "      <td>8</td>\n",
       "      <td>1108</td>\n",
       "      <td>34</td>\n",
       "      <td>1134</td>\n",
       "      <td>235</td>\n",
       "      <td>23</td>\n",
       "      <td>1</td>\n",
       "    </tr>\n",
       "    <tr>\n",
       "      <th>2</th>\n",
       "      <td>2011-08-27</td>\n",
       "      <td>2011</td>\n",
       "      <td>8</td>\n",
       "      <td>1108</td>\n",
       "      <td>34</td>\n",
       "      <td>1134</td>\n",
       "      <td>239</td>\n",
       "      <td>27</td>\n",
       "      <td>5</td>\n",
       "    </tr>\n",
       "    <tr>\n",
       "      <th>3</th>\n",
       "      <td>2011-09-01</td>\n",
       "      <td>2011</td>\n",
       "      <td>9</td>\n",
       "      <td>1109</td>\n",
       "      <td>35</td>\n",
       "      <td>1135</td>\n",
       "      <td>244</td>\n",
       "      <td>1</td>\n",
       "      <td>3</td>\n",
       "    </tr>\n",
       "  </tbody>\n",
       "</table>\n",
       "</div>"
      ],
      "text/plain": [
       "   timestamp  time_year  time_month_of_year  time_yearmonth  \\\n",
       "0 2011-08-20       2011                   8            1108   \n",
       "1 2011-08-23       2011                   8            1108   \n",
       "2 2011-08-27       2011                   8            1108   \n",
       "3 2011-09-01       2011                   9            1109   \n",
       "\n",
       "   time_week_of_year  time_yearweek  time_day_of_year  time_day_of_month  \\\n",
       "0                 33           1133               232                 20   \n",
       "1                 34           1134               235                 23   \n",
       "2                 34           1134               239                 27   \n",
       "3                 35           1135               244                  1   \n",
       "\n",
       "   time_day_of_week  \n",
       "0                 5  \n",
       "1                 1  \n",
       "2                 5  \n",
       "3                 3  "
      ]
     },
     "execution_count": 20,
     "metadata": {},
     "output_type": "execute_result"
    }
   ],
   "source": [
    "time_columns = [\"timestamp\", \"time_year\", \"time_month_of_year\", \"time_yearmonth\", \"time_week_of_year\", \"time_yearweek\",\n",
    "                \"time_day_of_year\", \"time_day_of_month\", \"time_day_of_week\"]\n",
    "train_df.loc[:3,time_columns]"
   ]
  },
  {
   "cell_type": "markdown",
   "metadata": {
    "heading_collapsed": true,
    "hidden": true,
    "scrolled": true
   },
   "source": [
    "### square meters, floors, rooms"
   ]
  },
  {
   "cell_type": "code",
   "execution_count": 21,
   "metadata": {
    "collapsed": true,
    "hidden": true
   },
   "outputs": [],
   "source": [
    "sqm_floors_columns = ['full_sq', 'life_sq', 'kitch_sq', 'floor', 'max_floor', 'num_room']"
   ]
  },
  {
   "cell_type": "code",
   "execution_count": 22,
   "metadata": {
    "hidden": true,
    "scrolled": true
   },
   "outputs": [
    {
     "data": {
      "text/html": [
       "<div>\n",
       "<table border=\"1\" class=\"dataframe\">\n",
       "  <thead>\n",
       "    <tr style=\"text-align: right;\">\n",
       "      <th></th>\n",
       "      <th>full_sq</th>\n",
       "      <th>life_sq</th>\n",
       "      <th>kitch_sq</th>\n",
       "      <th>floor</th>\n",
       "      <th>max_floor</th>\n",
       "      <th>num_room</th>\n",
       "    </tr>\n",
       "  </thead>\n",
       "  <tbody>\n",
       "    <tr>\n",
       "      <th>10005</th>\n",
       "      <td>62</td>\n",
       "      <td>NaN</td>\n",
       "      <td>10.0</td>\n",
       "      <td>9.0</td>\n",
       "      <td>17.0</td>\n",
       "      <td>2.0</td>\n",
       "    </tr>\n",
       "    <tr>\n",
       "      <th>10006</th>\n",
       "      <td>71</td>\n",
       "      <td>48.0</td>\n",
       "      <td>8.0</td>\n",
       "      <td>7.0</td>\n",
       "      <td>8.0</td>\n",
       "      <td>3.0</td>\n",
       "    </tr>\n",
       "    <tr>\n",
       "      <th>10007</th>\n",
       "      <td>28</td>\n",
       "      <td>16.0</td>\n",
       "      <td>5.0</td>\n",
       "      <td>3.0</td>\n",
       "      <td>8.0</td>\n",
       "      <td>1.0</td>\n",
       "    </tr>\n",
       "    <tr>\n",
       "      <th>10008</th>\n",
       "      <td>60</td>\n",
       "      <td>NaN</td>\n",
       "      <td>1.0</td>\n",
       "      <td>16.0</td>\n",
       "      <td>22.0</td>\n",
       "      <td>2.0</td>\n",
       "    </tr>\n",
       "  </tbody>\n",
       "</table>\n",
       "</div>"
      ],
      "text/plain": [
       "       full_sq  life_sq  kitch_sq  floor  max_floor  num_room\n",
       "10005       62      NaN      10.0    9.0       17.0       2.0\n",
       "10006       71     48.0       8.0    7.0        8.0       3.0\n",
       "10007       28     16.0       5.0    3.0        8.0       1.0\n",
       "10008       60      NaN       1.0   16.0       22.0       2.0"
      ]
     },
     "execution_count": 22,
     "metadata": {},
     "output_type": "execute_result"
    }
   ],
   "source": [
    "train_df.loc[10005:10008,sqm_floors_columns]"
   ]
  },
  {
   "cell_type": "markdown",
   "metadata": {
    "heading_collapsed": true,
    "hidden": true,
    "scrolled": true
   },
   "source": [
    "### material"
   ]
  },
  {
   "cell_type": "code",
   "execution_count": 23,
   "metadata": {
    "hidden": true,
    "scrolled": true
   },
   "outputs": [
    {
     "data": {
      "text/html": [
       "<div>\n",
       "<table border=\"1\" class=\"dataframe\">\n",
       "  <thead>\n",
       "    <tr style=\"text-align: right;\">\n",
       "      <th></th>\n",
       "      <th>material</th>\n",
       "    </tr>\n",
       "  </thead>\n",
       "  <tbody>\n",
       "    <tr>\n",
       "      <th>0</th>\n",
       "      <td>NaN</td>\n",
       "    </tr>\n",
       "    <tr>\n",
       "      <th>1</th>\n",
       "      <td>NaN</td>\n",
       "    </tr>\n",
       "    <tr>\n",
       "      <th>2</th>\n",
       "      <td>NaN</td>\n",
       "    </tr>\n",
       "    <tr>\n",
       "      <th>3</th>\n",
       "      <td>NaN</td>\n",
       "    </tr>\n",
       "  </tbody>\n",
       "</table>\n",
       "</div>"
      ],
      "text/plain": [
       "   material\n",
       "0       NaN\n",
       "1       NaN\n",
       "2       NaN\n",
       "3       NaN"
      ]
     },
     "execution_count": 23,
     "metadata": {},
     "output_type": "execute_result"
    }
   ],
   "source": [
    "material_columns = [\"material\"]\n",
    "train_df.loc[:3,material_columns]"
   ]
  },
  {
   "cell_type": "markdown",
   "metadata": {
    "heading_collapsed": true,
    "hidden": true,
    "scrolled": true
   },
   "source": [
    "### build year"
   ]
  },
  {
   "cell_type": "code",
   "execution_count": 24,
   "metadata": {
    "hidden": true,
    "scrolled": true
   },
   "outputs": [
    {
     "data": {
      "text/html": [
       "<div>\n",
       "<table border=\"1\" class=\"dataframe\">\n",
       "  <thead>\n",
       "    <tr style=\"text-align: right;\">\n",
       "      <th></th>\n",
       "      <th>build_year</th>\n",
       "    </tr>\n",
       "  </thead>\n",
       "  <tbody>\n",
       "    <tr>\n",
       "      <th>0</th>\n",
       "      <td>NaN</td>\n",
       "    </tr>\n",
       "    <tr>\n",
       "      <th>1</th>\n",
       "      <td>NaN</td>\n",
       "    </tr>\n",
       "    <tr>\n",
       "      <th>2</th>\n",
       "      <td>NaN</td>\n",
       "    </tr>\n",
       "    <tr>\n",
       "      <th>3</th>\n",
       "      <td>NaN</td>\n",
       "    </tr>\n",
       "  </tbody>\n",
       "</table>\n",
       "</div>"
      ],
      "text/plain": [
       "   build_year\n",
       "0         NaN\n",
       "1         NaN\n",
       "2         NaN\n",
       "3         NaN"
      ]
     },
     "execution_count": 24,
     "metadata": {},
     "output_type": "execute_result"
    }
   ],
   "source": [
    "build_year_columns = [\"build_year\"]\n",
    "train_df.loc[:3,build_year_columns]"
   ]
  },
  {
   "cell_type": "markdown",
   "metadata": {
    "heading_collapsed": true,
    "hidden": true,
    "scrolled": true
   },
   "source": [
    "### state"
   ]
  },
  {
   "cell_type": "code",
   "execution_count": 25,
   "metadata": {
    "hidden": true,
    "scrolled": true
   },
   "outputs": [
    {
     "data": {
      "text/html": [
       "<div>\n",
       "<table border=\"1\" class=\"dataframe\">\n",
       "  <thead>\n",
       "    <tr style=\"text-align: right;\">\n",
       "      <th></th>\n",
       "      <th>state</th>\n",
       "    </tr>\n",
       "  </thead>\n",
       "  <tbody>\n",
       "    <tr>\n",
       "      <th>0</th>\n",
       "      <td>NaN</td>\n",
       "    </tr>\n",
       "    <tr>\n",
       "      <th>1</th>\n",
       "      <td>NaN</td>\n",
       "    </tr>\n",
       "    <tr>\n",
       "      <th>2</th>\n",
       "      <td>NaN</td>\n",
       "    </tr>\n",
       "    <tr>\n",
       "      <th>3</th>\n",
       "      <td>NaN</td>\n",
       "    </tr>\n",
       "  </tbody>\n",
       "</table>\n",
       "</div>"
      ],
      "text/plain": [
       "   state\n",
       "0    NaN\n",
       "1    NaN\n",
       "2    NaN\n",
       "3    NaN"
      ]
     },
     "execution_count": 25,
     "metadata": {},
     "output_type": "execute_result"
    }
   ],
   "source": [
    "state_columns = [\"state\"]\n",
    "train_df.loc[:3,state_columns]"
   ]
  },
  {
   "cell_type": "markdown",
   "metadata": {
    "heading_collapsed": true,
    "hidden": true,
    "scrolled": true
   },
   "source": [
    "### product type"
   ]
  },
  {
   "cell_type": "code",
   "execution_count": 26,
   "metadata": {
    "hidden": true,
    "scrolled": true
   },
   "outputs": [
    {
     "data": {
      "text/html": [
       "<div>\n",
       "<table border=\"1\" class=\"dataframe\">\n",
       "  <thead>\n",
       "    <tr style=\"text-align: right;\">\n",
       "      <th></th>\n",
       "      <th>product_type</th>\n",
       "    </tr>\n",
       "  </thead>\n",
       "  <tbody>\n",
       "    <tr>\n",
       "      <th>0</th>\n",
       "      <td>Investment</td>\n",
       "    </tr>\n",
       "    <tr>\n",
       "      <th>1</th>\n",
       "      <td>Investment</td>\n",
       "    </tr>\n",
       "    <tr>\n",
       "      <th>2</th>\n",
       "      <td>Investment</td>\n",
       "    </tr>\n",
       "    <tr>\n",
       "      <th>3</th>\n",
       "      <td>Investment</td>\n",
       "    </tr>\n",
       "  </tbody>\n",
       "</table>\n",
       "</div>"
      ],
      "text/plain": [
       "  product_type\n",
       "0   Investment\n",
       "1   Investment\n",
       "2   Investment\n",
       "3   Investment"
      ]
     },
     "execution_count": 26,
     "metadata": {},
     "output_type": "execute_result"
    }
   ],
   "source": [
    "product_type_columns = [\"product_type\"]\n",
    "train_df.loc[:3,product_type_columns]"
   ]
  },
  {
   "cell_type": "markdown",
   "metadata": {
    "heading_collapsed": true
   },
   "source": [
    "## Area / Raion info"
   ]
  },
  {
   "cell_type": "markdown",
   "metadata": {
    "heading_collapsed": true,
    "hidden": true,
    "scrolled": true
   },
   "source": [
    "### sub_area : until indust_part"
   ]
  },
  {
   "cell_type": "code",
   "execution_count": 27,
   "metadata": {
    "hidden": true,
    "scrolled": true
   },
   "outputs": [
    {
     "data": {
      "text/html": [
       "<div>\n",
       "<table border=\"1\" class=\"dataframe\">\n",
       "  <thead>\n",
       "    <tr style=\"text-align: right;\">\n",
       "      <th></th>\n",
       "      <th>sub_area</th>\n",
       "      <th>area_m</th>\n",
       "      <th>raion_popul</th>\n",
       "      <th>green_zone_part</th>\n",
       "      <th>indust_part</th>\n",
       "    </tr>\n",
       "  </thead>\n",
       "  <tbody>\n",
       "    <tr>\n",
       "      <th>0</th>\n",
       "      <td>Bibirevo</td>\n",
       "      <td>6.407578e+06</td>\n",
       "      <td>155572</td>\n",
       "      <td>0.189727</td>\n",
       "      <td>0.000070</td>\n",
       "    </tr>\n",
       "    <tr>\n",
       "      <th>1</th>\n",
       "      <td>Nagatinskij Zaton</td>\n",
       "      <td>9.589337e+06</td>\n",
       "      <td>115352</td>\n",
       "      <td>0.372602</td>\n",
       "      <td>0.049637</td>\n",
       "    </tr>\n",
       "    <tr>\n",
       "      <th>2</th>\n",
       "      <td>Tekstil'shhiki</td>\n",
       "      <td>4.808270e+06</td>\n",
       "      <td>101708</td>\n",
       "      <td>0.112560</td>\n",
       "      <td>0.118537</td>\n",
       "    </tr>\n",
       "    <tr>\n",
       "      <th>3</th>\n",
       "      <td>Mitino</td>\n",
       "      <td>1.258354e+07</td>\n",
       "      <td>178473</td>\n",
       "      <td>0.194703</td>\n",
       "      <td>0.069753</td>\n",
       "    </tr>\n",
       "  </tbody>\n",
       "</table>\n",
       "</div>"
      ],
      "text/plain": [
       "            sub_area        area_m  raion_popul  green_zone_part  indust_part\n",
       "0           Bibirevo  6.407578e+06       155572         0.189727     0.000070\n",
       "1  Nagatinskij Zaton  9.589337e+06       115352         0.372602     0.049637\n",
       "2     Tekstil'shhiki  4.808270e+06       101708         0.112560     0.118537\n",
       "3             Mitino  1.258354e+07       178473         0.194703     0.069753"
      ]
     },
     "execution_count": 27,
     "metadata": {},
     "output_type": "execute_result"
    }
   ],
   "source": [
    "sub_area_columns = ['sub_area', 'area_m', 'raion_popul', 'green_zone_part', 'indust_part']\n",
    "train_df.loc[:3,sub_area_columns]"
   ]
  },
  {
   "cell_type": "markdown",
   "metadata": {
    "heading_collapsed": true,
    "hidden": true,
    "scrolled": true
   },
   "source": [
    "### children, education, university, additional education"
   ]
  },
  {
   "cell_type": "code",
   "execution_count": 28,
   "metadata": {
    "hidden": true,
    "scrolled": true
   },
   "outputs": [
    {
     "data": {
      "text/html": [
       "<div>\n",
       "<table border=\"1\" class=\"dataframe\">\n",
       "  <thead>\n",
       "    <tr style=\"text-align: right;\">\n",
       "      <th></th>\n",
       "      <th>children_preschool</th>\n",
       "      <th>preschool_quota</th>\n",
       "      <th>preschool_education_centers_raion</th>\n",
       "      <th>children_school</th>\n",
       "      <th>school_quota</th>\n",
       "      <th>school_education_centers_raion</th>\n",
       "      <th>school_education_centers_top_20_raion</th>\n",
       "      <th>university_top_20_raion</th>\n",
       "      <th>additional_education_raion</th>\n",
       "    </tr>\n",
       "  </thead>\n",
       "  <tbody>\n",
       "    <tr>\n",
       "      <th>0</th>\n",
       "      <td>9576</td>\n",
       "      <td>5001.0</td>\n",
       "      <td>5</td>\n",
       "      <td>10309</td>\n",
       "      <td>11065.0</td>\n",
       "      <td>5</td>\n",
       "      <td>0</td>\n",
       "      <td>0</td>\n",
       "      <td>3</td>\n",
       "    </tr>\n",
       "    <tr>\n",
       "      <th>1</th>\n",
       "      <td>6880</td>\n",
       "      <td>3119.0</td>\n",
       "      <td>5</td>\n",
       "      <td>7759</td>\n",
       "      <td>6237.0</td>\n",
       "      <td>8</td>\n",
       "      <td>0</td>\n",
       "      <td>0</td>\n",
       "      <td>1</td>\n",
       "    </tr>\n",
       "    <tr>\n",
       "      <th>2</th>\n",
       "      <td>5879</td>\n",
       "      <td>1463.0</td>\n",
       "      <td>4</td>\n",
       "      <td>6207</td>\n",
       "      <td>5580.0</td>\n",
       "      <td>7</td>\n",
       "      <td>0</td>\n",
       "      <td>0</td>\n",
       "      <td>1</td>\n",
       "    </tr>\n",
       "    <tr>\n",
       "      <th>3</th>\n",
       "      <td>13087</td>\n",
       "      <td>6839.0</td>\n",
       "      <td>9</td>\n",
       "      <td>13670</td>\n",
       "      <td>17063.0</td>\n",
       "      <td>10</td>\n",
       "      <td>0</td>\n",
       "      <td>0</td>\n",
       "      <td>6</td>\n",
       "    </tr>\n",
       "  </tbody>\n",
       "</table>\n",
       "</div>"
      ],
      "text/plain": [
       "   children_preschool  preschool_quota  preschool_education_centers_raion  \\\n",
       "0                9576           5001.0                                  5   \n",
       "1                6880           3119.0                                  5   \n",
       "2                5879           1463.0                                  4   \n",
       "3               13087           6839.0                                  9   \n",
       "\n",
       "   children_school  school_quota  school_education_centers_raion  \\\n",
       "0            10309       11065.0                               5   \n",
       "1             7759        6237.0                               8   \n",
       "2             6207        5580.0                               7   \n",
       "3            13670       17063.0                              10   \n",
       "\n",
       "   school_education_centers_top_20_raion  university_top_20_raion  \\\n",
       "0                                      0                        0   \n",
       "1                                      0                        0   \n",
       "2                                      0                        0   \n",
       "3                                      0                        0   \n",
       "\n",
       "   additional_education_raion  \n",
       "0                           3  \n",
       "1                           1  \n",
       "2                           1  \n",
       "3                           6  "
      ]
     },
     "execution_count": 28,
     "metadata": {},
     "output_type": "execute_result"
    }
   ],
   "source": [
    "education_columns = ['children_preschool', 'preschool_quota', 'preschool_education_centers_raion', 'children_school', 'school_quota', 'school_education_centers_raion', \n",
    "                     'school_education_centers_top_20_raion', 'university_top_20_raion', 'additional_education_raion',]\n",
    "train_df.loc[:3,education_columns]"
   ]
  },
  {
   "cell_type": "markdown",
   "metadata": {
    "heading_collapsed": true,
    "hidden": true,
    "scrolled": true
   },
   "source": [
    "### healthcare"
   ]
  },
  {
   "cell_type": "code",
   "execution_count": 29,
   "metadata": {
    "hidden": true,
    "scrolled": true
   },
   "outputs": [
    {
     "data": {
      "text/html": [
       "<div>\n",
       "<table border=\"1\" class=\"dataframe\">\n",
       "  <thead>\n",
       "    <tr style=\"text-align: right;\">\n",
       "      <th></th>\n",
       "      <th>hospital_beds_raion</th>\n",
       "      <th>healthcare_centers_raion</th>\n",
       "    </tr>\n",
       "  </thead>\n",
       "  <tbody>\n",
       "    <tr>\n",
       "      <th>0</th>\n",
       "      <td>240.0</td>\n",
       "      <td>1</td>\n",
       "    </tr>\n",
       "    <tr>\n",
       "      <th>1</th>\n",
       "      <td>229.0</td>\n",
       "      <td>1</td>\n",
       "    </tr>\n",
       "    <tr>\n",
       "      <th>2</th>\n",
       "      <td>1183.0</td>\n",
       "      <td>1</td>\n",
       "    </tr>\n",
       "    <tr>\n",
       "      <th>3</th>\n",
       "      <td>NaN</td>\n",
       "      <td>1</td>\n",
       "    </tr>\n",
       "  </tbody>\n",
       "</table>\n",
       "</div>"
      ],
      "text/plain": [
       "   hospital_beds_raion  healthcare_centers_raion\n",
       "0                240.0                         1\n",
       "1                229.0                         1\n",
       "2               1183.0                         1\n",
       "3                  NaN                         1"
      ]
     },
     "execution_count": 29,
     "metadata": {},
     "output_type": "execute_result"
    }
   ],
   "source": [
    "healthcare_columns = ['hospital_beds_raion', 'healthcare_centers_raion']\n",
    "train_df.loc[:3,healthcare_columns]"
   ]
  },
  {
   "cell_type": "markdown",
   "metadata": {
    "heading_collapsed": true,
    "hidden": true,
    "scrolled": true
   },
   "source": [
    "### culture"
   ]
  },
  {
   "cell_type": "code",
   "execution_count": 30,
   "metadata": {
    "hidden": true
   },
   "outputs": [
    {
     "data": {
      "text/html": [
       "<div>\n",
       "<table border=\"1\" class=\"dataframe\">\n",
       "  <thead>\n",
       "    <tr style=\"text-align: right;\">\n",
       "      <th></th>\n",
       "      <th>sport_objects_raion</th>\n",
       "      <th>culture_objects_top_25</th>\n",
       "      <th>culture_objects_top_25_raion</th>\n",
       "      <th>shopping_centers_raion</th>\n",
       "      <th>office_raion</th>\n",
       "    </tr>\n",
       "  </thead>\n",
       "  <tbody>\n",
       "    <tr>\n",
       "      <th>0</th>\n",
       "      <td>7</td>\n",
       "      <td>no</td>\n",
       "      <td>0</td>\n",
       "      <td>16</td>\n",
       "      <td>1</td>\n",
       "    </tr>\n",
       "    <tr>\n",
       "      <th>1</th>\n",
       "      <td>6</td>\n",
       "      <td>yes</td>\n",
       "      <td>1</td>\n",
       "      <td>3</td>\n",
       "      <td>0</td>\n",
       "    </tr>\n",
       "    <tr>\n",
       "      <th>2</th>\n",
       "      <td>5</td>\n",
       "      <td>no</td>\n",
       "      <td>0</td>\n",
       "      <td>0</td>\n",
       "      <td>1</td>\n",
       "    </tr>\n",
       "    <tr>\n",
       "      <th>3</th>\n",
       "      <td>17</td>\n",
       "      <td>no</td>\n",
       "      <td>0</td>\n",
       "      <td>11</td>\n",
       "      <td>4</td>\n",
       "    </tr>\n",
       "  </tbody>\n",
       "</table>\n",
       "</div>"
      ],
      "text/plain": [
       "   sport_objects_raion culture_objects_top_25  culture_objects_top_25_raion  \\\n",
       "0                    7                     no                             0   \n",
       "1                    6                    yes                             1   \n",
       "2                    5                     no                             0   \n",
       "3                   17                     no                             0   \n",
       "\n",
       "   shopping_centers_raion  office_raion  \n",
       "0                      16             1  \n",
       "1                       3             0  \n",
       "2                       0             1  \n",
       "3                      11             4  "
      ]
     },
     "execution_count": 30,
     "metadata": {},
     "output_type": "execute_result"
    }
   ],
   "source": [
    "culture_columns = ['sport_objects_raion', 'culture_objects_top_25', 'culture_objects_top_25_raion', 'shopping_centers_raion', 'office_raion']\n",
    "train_df.loc[:3,culture_columns]"
   ]
  },
  {
   "cell_type": "markdown",
   "metadata": {
    "heading_collapsed": true,
    "hidden": true,
    "scrolled": true
   },
   "source": [
    "### power and industry yes/no in area"
   ]
  },
  {
   "cell_type": "code",
   "execution_count": 31,
   "metadata": {
    "hidden": true
   },
   "outputs": [
    {
     "data": {
      "text/html": [
       "<div>\n",
       "<table border=\"1\" class=\"dataframe\">\n",
       "  <thead>\n",
       "    <tr style=\"text-align: right;\">\n",
       "      <th></th>\n",
       "      <th>thermal_power_plant_raion</th>\n",
       "      <th>incineration_raion</th>\n",
       "      <th>oil_chemistry_raion</th>\n",
       "      <th>radiation_raion</th>\n",
       "      <th>railroad_terminal_raion</th>\n",
       "      <th>big_market_raion</th>\n",
       "      <th>nuclear_reactor_raion</th>\n",
       "      <th>detention_facility_raion</th>\n",
       "    </tr>\n",
       "  </thead>\n",
       "  <tbody>\n",
       "    <tr>\n",
       "      <th>0</th>\n",
       "      <td>no</td>\n",
       "      <td>no</td>\n",
       "      <td>no</td>\n",
       "      <td>no</td>\n",
       "      <td>no</td>\n",
       "      <td>no</td>\n",
       "      <td>no</td>\n",
       "      <td>no</td>\n",
       "    </tr>\n",
       "    <tr>\n",
       "      <th>1</th>\n",
       "      <td>no</td>\n",
       "      <td>no</td>\n",
       "      <td>no</td>\n",
       "      <td>no</td>\n",
       "      <td>no</td>\n",
       "      <td>no</td>\n",
       "      <td>no</td>\n",
       "      <td>no</td>\n",
       "    </tr>\n",
       "    <tr>\n",
       "      <th>2</th>\n",
       "      <td>no</td>\n",
       "      <td>no</td>\n",
       "      <td>no</td>\n",
       "      <td>yes</td>\n",
       "      <td>no</td>\n",
       "      <td>no</td>\n",
       "      <td>no</td>\n",
       "      <td>no</td>\n",
       "    </tr>\n",
       "    <tr>\n",
       "      <th>3</th>\n",
       "      <td>no</td>\n",
       "      <td>no</td>\n",
       "      <td>no</td>\n",
       "      <td>no</td>\n",
       "      <td>no</td>\n",
       "      <td>no</td>\n",
       "      <td>no</td>\n",
       "      <td>no</td>\n",
       "    </tr>\n",
       "  </tbody>\n",
       "</table>\n",
       "</div>"
      ],
      "text/plain": [
       "  thermal_power_plant_raion incineration_raion oil_chemistry_raion  \\\n",
       "0                        no                 no                  no   \n",
       "1                        no                 no                  no   \n",
       "2                        no                 no                  no   \n",
       "3                        no                 no                  no   \n",
       "\n",
       "  radiation_raion railroad_terminal_raion big_market_raion  \\\n",
       "0              no                      no               no   \n",
       "1              no                      no               no   \n",
       "2             yes                      no               no   \n",
       "3              no                      no               no   \n",
       "\n",
       "  nuclear_reactor_raion detention_facility_raion  \n",
       "0                    no                       no  \n",
       "1                    no                       no  \n",
       "2                    no                       no  \n",
       "3                    no                       no  "
      ]
     },
     "execution_count": 31,
     "metadata": {},
     "output_type": "execute_result"
    }
   ],
   "source": [
    "industry_columns = ['thermal_power_plant_raion', 'incineration_raion', 'oil_chemistry_raion', 'radiation_raion', 'railroad_terminal_raion', \n",
    "                    'big_market_raion', 'nuclear_reactor_raion', 'detention_facility_raion']\n",
    "\n",
    "train_df.loc[:3,industry_columns]"
   ]
  },
  {
   "cell_type": "markdown",
   "metadata": {
    "heading_collapsed": true
   },
   "source": [
    "## People counts"
   ]
  },
  {
   "cell_type": "markdown",
   "metadata": {
    "heading_collapsed": true,
    "hidden": true,
    "scrolled": true
   },
   "source": [
    "### people count all"
   ]
  },
  {
   "cell_type": "code",
   "execution_count": 32,
   "metadata": {
    "hidden": true,
    "scrolled": true
   },
   "outputs": [
    {
     "data": {
      "text/html": [
       "<div>\n",
       "<table border=\"1\" class=\"dataframe\">\n",
       "  <thead>\n",
       "    <tr style=\"text-align: right;\">\n",
       "      <th></th>\n",
       "      <th>full_all</th>\n",
       "      <th>male_f</th>\n",
       "      <th>female_f</th>\n",
       "      <th>young_all</th>\n",
       "      <th>young_male</th>\n",
       "      <th>young_female</th>\n",
       "      <th>work_all</th>\n",
       "      <th>work_male</th>\n",
       "      <th>work_female</th>\n",
       "      <th>ekder_all</th>\n",
       "      <th>ekder_male</th>\n",
       "      <th>ekder_female</th>\n",
       "    </tr>\n",
       "  </thead>\n",
       "  <tbody>\n",
       "    <tr>\n",
       "      <th>0</th>\n",
       "      <td>86206</td>\n",
       "      <td>40477</td>\n",
       "      <td>45729</td>\n",
       "      <td>21154</td>\n",
       "      <td>11007</td>\n",
       "      <td>10147</td>\n",
       "      <td>98207</td>\n",
       "      <td>52277</td>\n",
       "      <td>45930</td>\n",
       "      <td>36211</td>\n",
       "      <td>10580</td>\n",
       "      <td>25631</td>\n",
       "    </tr>\n",
       "    <tr>\n",
       "      <th>1</th>\n",
       "      <td>76284</td>\n",
       "      <td>34200</td>\n",
       "      <td>42084</td>\n",
       "      <td>15727</td>\n",
       "      <td>7925</td>\n",
       "      <td>7802</td>\n",
       "      <td>70194</td>\n",
       "      <td>35622</td>\n",
       "      <td>34572</td>\n",
       "      <td>29431</td>\n",
       "      <td>9266</td>\n",
       "      <td>20165</td>\n",
       "    </tr>\n",
       "    <tr>\n",
       "      <th>2</th>\n",
       "      <td>101982</td>\n",
       "      <td>46076</td>\n",
       "      <td>55906</td>\n",
       "      <td>13028</td>\n",
       "      <td>6835</td>\n",
       "      <td>6193</td>\n",
       "      <td>63388</td>\n",
       "      <td>31813</td>\n",
       "      <td>31575</td>\n",
       "      <td>25292</td>\n",
       "      <td>7609</td>\n",
       "      <td>17683</td>\n",
       "    </tr>\n",
       "    <tr>\n",
       "      <th>3</th>\n",
       "      <td>21155</td>\n",
       "      <td>9828</td>\n",
       "      <td>11327</td>\n",
       "      <td>28563</td>\n",
       "      <td>14680</td>\n",
       "      <td>13883</td>\n",
       "      <td>120381</td>\n",
       "      <td>60040</td>\n",
       "      <td>60341</td>\n",
       "      <td>29529</td>\n",
       "      <td>9083</td>\n",
       "      <td>20446</td>\n",
       "    </tr>\n",
       "  </tbody>\n",
       "</table>\n",
       "</div>"
      ],
      "text/plain": [
       "   full_all  male_f  female_f  young_all  young_male  young_female  work_all  \\\n",
       "0     86206   40477     45729      21154       11007         10147     98207   \n",
       "1     76284   34200     42084      15727        7925          7802     70194   \n",
       "2    101982   46076     55906      13028        6835          6193     63388   \n",
       "3     21155    9828     11327      28563       14680         13883    120381   \n",
       "\n",
       "   work_male  work_female  ekder_all  ekder_male  ekder_female  \n",
       "0      52277        45930      36211       10580         25631  \n",
       "1      35622        34572      29431        9266         20165  \n",
       "2      31813        31575      25292        7609         17683  \n",
       "3      60040        60341      29529        9083         20446  "
      ]
     },
     "execution_count": 32,
     "metadata": {},
     "output_type": "execute_result"
    }
   ],
   "source": [
    "ppl_count_all = ['full_all', 'male_f', 'female_f', 'young_all', 'young_male', 'young_female', 'work_all', 'work_male', 'work_female',\n",
    "                 'ekder_all', 'ekder_male', 'ekder_female']\n",
    "train_df.loc[:3,ppl_count_all]"
   ]
  },
  {
   "cell_type": "markdown",
   "metadata": {
    "heading_collapsed": true,
    "hidden": true,
    "scrolled": true
   },
   "source": [
    "### people count 0-6"
   ]
  },
  {
   "cell_type": "code",
   "execution_count": 33,
   "metadata": {
    "hidden": true,
    "scrolled": true
   },
   "outputs": [
    {
     "data": {
      "text/html": [
       "<div>\n",
       "<table border=\"1\" class=\"dataframe\">\n",
       "  <thead>\n",
       "    <tr style=\"text-align: right;\">\n",
       "      <th></th>\n",
       "      <th>0_6_all</th>\n",
       "      <th>0_6_male</th>\n",
       "      <th>0_6_female</th>\n",
       "    </tr>\n",
       "  </thead>\n",
       "  <tbody>\n",
       "    <tr>\n",
       "      <th>0</th>\n",
       "      <td>9576</td>\n",
       "      <td>4899</td>\n",
       "      <td>4677</td>\n",
       "    </tr>\n",
       "    <tr>\n",
       "      <th>1</th>\n",
       "      <td>6880</td>\n",
       "      <td>3466</td>\n",
       "      <td>3414</td>\n",
       "    </tr>\n",
       "    <tr>\n",
       "      <th>2</th>\n",
       "      <td>5879</td>\n",
       "      <td>3095</td>\n",
       "      <td>2784</td>\n",
       "    </tr>\n",
       "  </tbody>\n",
       "</table>\n",
       "</div>"
      ],
      "text/plain": [
       "   0_6_all  0_6_male  0_6_female\n",
       "0     9576      4899        4677\n",
       "1     6880      3466        3414\n",
       "2     5879      3095        2784"
      ]
     },
     "execution_count": 33,
     "metadata": {},
     "output_type": "execute_result"
    }
   ],
   "source": [
    "ppl_count_0_6 = ['0_6_all', '0_6_male', '0_6_female']\n",
    "train_df.loc[:2,ppl_count_0_6]"
   ]
  },
  {
   "cell_type": "markdown",
   "metadata": {
    "heading_collapsed": true,
    "hidden": true,
    "scrolled": true
   },
   "source": [
    "### people count 7-14"
   ]
  },
  {
   "cell_type": "code",
   "execution_count": 34,
   "metadata": {
    "hidden": true,
    "scrolled": false
   },
   "outputs": [
    {
     "data": {
      "text/html": [
       "<div>\n",
       "<table border=\"1\" class=\"dataframe\">\n",
       "  <thead>\n",
       "    <tr style=\"text-align: right;\">\n",
       "      <th></th>\n",
       "      <th>7_14_all</th>\n",
       "      <th>7_14_male</th>\n",
       "      <th>7_14_female</th>\n",
       "    </tr>\n",
       "  </thead>\n",
       "  <tbody>\n",
       "    <tr>\n",
       "      <th>0</th>\n",
       "      <td>10309</td>\n",
       "      <td>5463</td>\n",
       "      <td>4846</td>\n",
       "    </tr>\n",
       "    <tr>\n",
       "      <th>1</th>\n",
       "      <td>7759</td>\n",
       "      <td>3909</td>\n",
       "      <td>3850</td>\n",
       "    </tr>\n",
       "    <tr>\n",
       "      <th>2</th>\n",
       "      <td>6207</td>\n",
       "      <td>3269</td>\n",
       "      <td>2938</td>\n",
       "    </tr>\n",
       "  </tbody>\n",
       "</table>\n",
       "</div>"
      ],
      "text/plain": [
       "   7_14_all  7_14_male  7_14_female\n",
       "0     10309       5463         4846\n",
       "1      7759       3909         3850\n",
       "2      6207       3269         2938"
      ]
     },
     "execution_count": 34,
     "metadata": {},
     "output_type": "execute_result"
    }
   ],
   "source": [
    "ppl_count_7_14 = ['7_14_all', '7_14_male', '7_14_female']\n",
    "train_df.loc[:2, ppl_count_7_14]"
   ]
  },
  {
   "cell_type": "markdown",
   "metadata": {
    "heading_collapsed": true,
    "hidden": true,
    "scrolled": true
   },
   "source": [
    "### people count 0-17"
   ]
  },
  {
   "cell_type": "code",
   "execution_count": 35,
   "metadata": {
    "hidden": true,
    "scrolled": true
   },
   "outputs": [
    {
     "data": {
      "text/html": [
       "<div>\n",
       "<table border=\"1\" class=\"dataframe\">\n",
       "  <thead>\n",
       "    <tr style=\"text-align: right;\">\n",
       "      <th></th>\n",
       "      <th>0_17_all</th>\n",
       "      <th>0_17_male</th>\n",
       "      <th>0_17_female</th>\n",
       "    </tr>\n",
       "  </thead>\n",
       "  <tbody>\n",
       "    <tr>\n",
       "      <th>0</th>\n",
       "      <td>23603</td>\n",
       "      <td>12286</td>\n",
       "      <td>11317</td>\n",
       "    </tr>\n",
       "    <tr>\n",
       "      <th>1</th>\n",
       "      <td>17700</td>\n",
       "      <td>8998</td>\n",
       "      <td>8702</td>\n",
       "    </tr>\n",
       "    <tr>\n",
       "      <th>2</th>\n",
       "      <td>14884</td>\n",
       "      <td>7821</td>\n",
       "      <td>7063</td>\n",
       "    </tr>\n",
       "  </tbody>\n",
       "</table>\n",
       "</div>"
      ],
      "text/plain": [
       "   0_17_all  0_17_male  0_17_female\n",
       "0     23603      12286        11317\n",
       "1     17700       8998         8702\n",
       "2     14884       7821         7063"
      ]
     },
     "execution_count": 35,
     "metadata": {},
     "output_type": "execute_result"
    }
   ],
   "source": [
    "ppl_count_0_17 = ['0_17_all', '0_17_male', '0_17_female']\n",
    "train_df.loc[:2, ppl_count_0_17]"
   ]
  },
  {
   "cell_type": "markdown",
   "metadata": {
    "heading_collapsed": true,
    "hidden": true,
    "scrolled": true
   },
   "source": [
    "### people count 16-29"
   ]
  },
  {
   "cell_type": "code",
   "execution_count": 36,
   "metadata": {
    "hidden": true,
    "scrolled": true
   },
   "outputs": [
    {
     "data": {
      "text/html": [
       "<div>\n",
       "<table border=\"1\" class=\"dataframe\">\n",
       "  <thead>\n",
       "    <tr style=\"text-align: right;\">\n",
       "      <th></th>\n",
       "      <th>16_29_all</th>\n",
       "      <th>16_29_male</th>\n",
       "      <th>16_29_female</th>\n",
       "    </tr>\n",
       "  </thead>\n",
       "  <tbody>\n",
       "    <tr>\n",
       "      <th>0</th>\n",
       "      <td>17508</td>\n",
       "      <td>9425</td>\n",
       "      <td>8083</td>\n",
       "    </tr>\n",
       "    <tr>\n",
       "      <th>1</th>\n",
       "      <td>15164</td>\n",
       "      <td>7571</td>\n",
       "      <td>7593</td>\n",
       "    </tr>\n",
       "    <tr>\n",
       "      <th>2</th>\n",
       "      <td>19401</td>\n",
       "      <td>9045</td>\n",
       "      <td>10356</td>\n",
       "    </tr>\n",
       "  </tbody>\n",
       "</table>\n",
       "</div>"
      ],
      "text/plain": [
       "   16_29_all  16_29_male  16_29_female\n",
       "0      17508        9425          8083\n",
       "1      15164        7571          7593\n",
       "2      19401        9045         10356"
      ]
     },
     "execution_count": 36,
     "metadata": {},
     "output_type": "execute_result"
    }
   ],
   "source": [
    "ppl_count_16_29 = ['16_29_all', '16_29_male', '16_29_female']\n",
    "train_df.loc[:2, ppl_count_16_29]"
   ]
  },
  {
   "cell_type": "markdown",
   "metadata": {
    "heading_collapsed": true,
    "hidden": true,
    "scrolled": true
   },
   "source": [
    "### people count 0-13"
   ]
  },
  {
   "cell_type": "code",
   "execution_count": 37,
   "metadata": {
    "hidden": true,
    "scrolled": true
   },
   "outputs": [
    {
     "data": {
      "text/html": [
       "<div>\n",
       "<table border=\"1\" class=\"dataframe\">\n",
       "  <thead>\n",
       "    <tr style=\"text-align: right;\">\n",
       "      <th></th>\n",
       "      <th>0_13_all</th>\n",
       "      <th>0_13_male</th>\n",
       "      <th>0_13_female</th>\n",
       "    </tr>\n",
       "  </thead>\n",
       "  <tbody>\n",
       "    <tr>\n",
       "      <th>0</th>\n",
       "      <td>18654</td>\n",
       "      <td>9709</td>\n",
       "      <td>8945</td>\n",
       "    </tr>\n",
       "    <tr>\n",
       "      <th>1</th>\n",
       "      <td>13729</td>\n",
       "      <td>6929</td>\n",
       "      <td>6800</td>\n",
       "    </tr>\n",
       "    <tr>\n",
       "      <th>2</th>\n",
       "      <td>11252</td>\n",
       "      <td>5916</td>\n",
       "      <td>5336</td>\n",
       "    </tr>\n",
       "  </tbody>\n",
       "</table>\n",
       "</div>"
      ],
      "text/plain": [
       "   0_13_all  0_13_male  0_13_female\n",
       "0     18654       9709         8945\n",
       "1     13729       6929         6800\n",
       "2     11252       5916         5336"
      ]
     },
     "execution_count": 37,
     "metadata": {},
     "output_type": "execute_result"
    }
   ],
   "source": [
    "ppl_count_0_13 = ['0_13_all', '0_13_male', '0_13_female']\n",
    "train_df.loc[:2, ppl_count_0_13]"
   ]
  },
  {
   "cell_type": "markdown",
   "metadata": {},
   "source": [
    "## Build Count"
   ]
  },
  {
   "cell_type": "markdown",
   "metadata": {
    "heading_collapsed": true,
    "scrolled": true
   },
   "source": [
    "### build count material"
   ]
  },
  {
   "cell_type": "code",
   "execution_count": 38,
   "metadata": {
    "hidden": true,
    "scrolled": false
   },
   "outputs": [
    {
     "data": {
      "text/html": [
       "<div>\n",
       "<table border=\"1\" class=\"dataframe\">\n",
       "  <thead>\n",
       "    <tr style=\"text-align: right;\">\n",
       "      <th></th>\n",
       "      <th>raion_build_count_with_material_info</th>\n",
       "      <th>build_count_block</th>\n",
       "      <th>build_count_wood</th>\n",
       "      <th>build_count_frame</th>\n",
       "      <th>build_count_brick</th>\n",
       "      <th>build_count_monolith</th>\n",
       "      <th>build_count_panel</th>\n",
       "      <th>build_count_foam</th>\n",
       "      <th>build_count_slag</th>\n",
       "      <th>build_count_mix</th>\n",
       "    </tr>\n",
       "  </thead>\n",
       "  <tbody>\n",
       "    <tr>\n",
       "      <th>0</th>\n",
       "      <td>211.0</td>\n",
       "      <td>25.0</td>\n",
       "      <td>0.0</td>\n",
       "      <td>0.0</td>\n",
       "      <td>0.0</td>\n",
       "      <td>2.0</td>\n",
       "      <td>184.0</td>\n",
       "      <td>0.0</td>\n",
       "      <td>0.0</td>\n",
       "      <td>0.0</td>\n",
       "    </tr>\n",
       "    <tr>\n",
       "      <th>1</th>\n",
       "      <td>245.0</td>\n",
       "      <td>83.0</td>\n",
       "      <td>1.0</td>\n",
       "      <td>0.0</td>\n",
       "      <td>67.0</td>\n",
       "      <td>4.0</td>\n",
       "      <td>90.0</td>\n",
       "      <td>0.0</td>\n",
       "      <td>0.0</td>\n",
       "      <td>0.0</td>\n",
       "    </tr>\n",
       "    <tr>\n",
       "      <th>2</th>\n",
       "      <td>330.0</td>\n",
       "      <td>59.0</td>\n",
       "      <td>0.0</td>\n",
       "      <td>0.0</td>\n",
       "      <td>206.0</td>\n",
       "      <td>4.0</td>\n",
       "      <td>60.0</td>\n",
       "      <td>0.0</td>\n",
       "      <td>1.0</td>\n",
       "      <td>0.0</td>\n",
       "    </tr>\n",
       "  </tbody>\n",
       "</table>\n",
       "</div>"
      ],
      "text/plain": [
       "   raion_build_count_with_material_info  build_count_block  build_count_wood  \\\n",
       "0                                 211.0               25.0               0.0   \n",
       "1                                 245.0               83.0               1.0   \n",
       "2                                 330.0               59.0               0.0   \n",
       "\n",
       "   build_count_frame  build_count_brick  build_count_monolith  \\\n",
       "0                0.0                0.0                   2.0   \n",
       "1                0.0               67.0                   4.0   \n",
       "2                0.0              206.0                   4.0   \n",
       "\n",
       "   build_count_panel  build_count_foam  build_count_slag  build_count_mix  \n",
       "0              184.0               0.0               0.0              0.0  \n",
       "1               90.0               0.0               0.0              0.0  \n",
       "2               60.0               0.0               1.0              0.0  "
      ]
     },
     "execution_count": 38,
     "metadata": {},
     "output_type": "execute_result"
    }
   ],
   "source": [
    "build_count_mat_columns = ['raion_build_count_with_material_info', 'build_count_block', 'build_count_wood', 'build_count_frame', \n",
    "                           'build_count_brick', 'build_count_monolith', 'build_count_panel', 'build_count_foam', 'build_count_slag', 'build_count_mix']\n",
    "train_df.loc[:2, build_count_mat_columns]"
   ]
  },
  {
   "cell_type": "markdown",
   "metadata": {
    "heading_collapsed": true,
    "scrolled": true
   },
   "source": [
    "### build count date"
   ]
  },
  {
   "cell_type": "code",
   "execution_count": 39,
   "metadata": {
    "hidden": true,
    "scrolled": false
   },
   "outputs": [
    {
     "data": {
      "text/html": [
       "<div>\n",
       "<table border=\"1\" class=\"dataframe\">\n",
       "  <thead>\n",
       "    <tr style=\"text-align: right;\">\n",
       "      <th></th>\n",
       "      <th>raion_build_count_with_builddate_info</th>\n",
       "      <th>build_count_before_1920</th>\n",
       "      <th>build_count_1921-1945</th>\n",
       "      <th>build_count_1946-1970</th>\n",
       "      <th>build_count_1971-1995</th>\n",
       "      <th>build_count_after_1995</th>\n",
       "    </tr>\n",
       "  </thead>\n",
       "  <tbody>\n",
       "    <tr>\n",
       "      <th>0</th>\n",
       "      <td>211.0</td>\n",
       "      <td>0.0</td>\n",
       "      <td>0.0</td>\n",
       "      <td>0.0</td>\n",
       "      <td>206.0</td>\n",
       "      <td>5.0</td>\n",
       "    </tr>\n",
       "    <tr>\n",
       "      <th>1</th>\n",
       "      <td>244.0</td>\n",
       "      <td>1.0</td>\n",
       "      <td>1.0</td>\n",
       "      <td>143.0</td>\n",
       "      <td>84.0</td>\n",
       "      <td>15.0</td>\n",
       "    </tr>\n",
       "    <tr>\n",
       "      <th>2</th>\n",
       "      <td>330.0</td>\n",
       "      <td>1.0</td>\n",
       "      <td>0.0</td>\n",
       "      <td>246.0</td>\n",
       "      <td>63.0</td>\n",
       "      <td>20.0</td>\n",
       "    </tr>\n",
       "  </tbody>\n",
       "</table>\n",
       "</div>"
      ],
      "text/plain": [
       "   raion_build_count_with_builddate_info  build_count_before_1920  \\\n",
       "0                                  211.0                      0.0   \n",
       "1                                  244.0                      1.0   \n",
       "2                                  330.0                      1.0   \n",
       "\n",
       "   build_count_1921-1945  build_count_1946-1970  build_count_1971-1995  \\\n",
       "0                    0.0                    0.0                  206.0   \n",
       "1                    1.0                  143.0                   84.0   \n",
       "2                    0.0                  246.0                   63.0   \n",
       "\n",
       "   build_count_after_1995  \n",
       "0                     5.0  \n",
       "1                    15.0  \n",
       "2                    20.0  "
      ]
     },
     "execution_count": 39,
     "metadata": {},
     "output_type": "execute_result"
    }
   ],
   "source": [
    "build_count_date_columns = ['raion_build_count_with_builddate_info', 'build_count_before_1920', 'build_count_1921-1945', \n",
    "                           'build_count_1946-1970', 'build_count_1971-1995', 'build_count_after_1995']\n",
    "train_df.loc[:2, build_count_date_columns]"
   ]
  },
  {
   "cell_type": "markdown",
   "metadata": {
    "heading_collapsed": true,
    "scrolled": true
   },
   "source": [
    "## Nearby Locations"
   ]
  },
  {
   "cell_type": "markdown",
   "metadata": {
    "heading_collapsed": true,
    "hidden": true,
    "scrolled": true
   },
   "source": [
    "### 1line features"
   ]
  },
  {
   "cell_type": "code",
   "execution_count": 40,
   "metadata": {
    "hidden": true
   },
   "outputs": [
    {
     "data": {
      "text/plain": [
       "['water_1line', 'big_road1_1line', 'railroad_1line']"
      ]
     },
     "execution_count": 40,
     "metadata": {},
     "output_type": "execute_result"
    }
   ],
   "source": [
    "columns = np.array(train_df.columns)\n",
    "[item for item in columns if \"1line\" in item]"
   ]
  },
  {
   "cell_type": "code",
   "execution_count": 41,
   "metadata": {
    "hidden": true
   },
   "outputs": [
    {
     "data": {
      "text/html": [
       "<div>\n",
       "<table border=\"1\" class=\"dataframe\">\n",
       "  <thead>\n",
       "    <tr style=\"text-align: right;\">\n",
       "      <th></th>\n",
       "      <th>water_1line</th>\n",
       "      <th>big_road1_1line</th>\n",
       "      <th>railroad_1line</th>\n",
       "    </tr>\n",
       "  </thead>\n",
       "  <tbody>\n",
       "    <tr>\n",
       "      <th>0</th>\n",
       "      <td>no</td>\n",
       "      <td>no</td>\n",
       "      <td>no</td>\n",
       "    </tr>\n",
       "    <tr>\n",
       "      <th>1</th>\n",
       "      <td>no</td>\n",
       "      <td>no</td>\n",
       "      <td>no</td>\n",
       "    </tr>\n",
       "    <tr>\n",
       "      <th>2</th>\n",
       "      <td>no</td>\n",
       "      <td>no</td>\n",
       "      <td>no</td>\n",
       "    </tr>\n",
       "  </tbody>\n",
       "</table>\n",
       "</div>"
      ],
      "text/plain": [
       "  water_1line big_road1_1line railroad_1line\n",
       "0          no              no             no\n",
       "1          no              no             no\n",
       "2          no              no             no"
      ]
     },
     "execution_count": 41,
     "metadata": {},
     "output_type": "execute_result"
    }
   ],
   "source": [
    "one_line_columns = ['water_1line', 'big_road1_1line', 'railroad_1line']\n",
    "train_df.loc[:2,one_line_columns]"
   ]
  },
  {
   "cell_type": "markdown",
   "metadata": {
    "heading_collapsed": true,
    "hidden": true,
    "scrolled": true
   },
   "source": [
    "### km distances"
   ]
  },
  {
   "cell_type": "code",
   "execution_count": 42,
   "metadata": {
    "hidden": true,
    "scrolled": true
   },
   "outputs": [
    {
     "data": {
      "text/html": [
       "<div>\n",
       "<table border=\"1\" class=\"dataframe\">\n",
       "  <thead>\n",
       "    <tr style=\"text-align: right;\">\n",
       "      <th></th>\n",
       "      <th>kindergarten_km</th>\n",
       "      <th>school_km</th>\n",
       "      <th>park_km</th>\n",
       "      <th>green_zone_km</th>\n",
       "      <th>industrial_km</th>\n",
       "      <th>water_treatment_km</th>\n",
       "      <th>cemetery_km</th>\n",
       "      <th>incineration_km</th>\n",
       "      <th>water_km</th>\n",
       "      <th>oil_chemistry_km</th>\n",
       "      <th>nuclear_reactor_km</th>\n",
       "      <th>radiation_km</th>\n",
       "      <th>power_transmission_line_km</th>\n",
       "      <th>thermal_power_plant_km</th>\n",
       "      <th>ts_km</th>\n",
       "      <th>big_market_km</th>\n",
       "      <th>market_shop_km</th>\n",
       "      <th>fitness_km</th>\n",
       "      <th>swim_pool_km</th>\n",
       "      <th>ice_rink_km</th>\n",
       "      <th>stadium_km</th>\n",
       "      <th>basketball_km</th>\n",
       "      <th>hospice_morgue_km</th>\n",
       "      <th>detention_facility_km</th>\n",
       "      <th>public_healthcare_km</th>\n",
       "      <th>university_km</th>\n",
       "      <th>workplaces_km</th>\n",
       "      <th>shopping_centers_km</th>\n",
       "      <th>office_km</th>\n",
       "      <th>additional_education_km</th>\n",
       "      <th>preschool_km</th>\n",
       "      <th>big_church_km</th>\n",
       "      <th>church_synagogue_km</th>\n",
       "      <th>mosque_km</th>\n",
       "      <th>theater_km</th>\n",
       "      <th>museum_km</th>\n",
       "      <th>exhibition_km</th>\n",
       "      <th>catering_km</th>\n",
       "    </tr>\n",
       "  </thead>\n",
       "  <tbody>\n",
       "    <tr>\n",
       "      <th>0</th>\n",
       "      <td>0.145700</td>\n",
       "      <td>0.177975</td>\n",
       "      <td>2.158587</td>\n",
       "      <td>0.600973</td>\n",
       "      <td>1.080934</td>\n",
       "      <td>23.683460</td>\n",
       "      <td>1.804127</td>\n",
       "      <td>3.633334</td>\n",
       "      <td>0.992631</td>\n",
       "      <td>18.152338</td>\n",
       "      <td>5.718519</td>\n",
       "      <td>1.210027</td>\n",
       "      <td>1.062513</td>\n",
       "      <td>5.814135</td>\n",
       "      <td>4.308127</td>\n",
       "      <td>10.814172</td>\n",
       "      <td>1.676258</td>\n",
       "      <td>0.485841</td>\n",
       "      <td>3.065047</td>\n",
       "      <td>1.107594</td>\n",
       "      <td>8.148591</td>\n",
       "      <td>3.516513</td>\n",
       "      <td>2.392353</td>\n",
       "      <td>4.248036</td>\n",
       "      <td>0.974743</td>\n",
       "      <td>6.715026</td>\n",
       "      <td>0.884350</td>\n",
       "      <td>0.648488</td>\n",
       "      <td>0.637189</td>\n",
       "      <td>0.947962</td>\n",
       "      <td>0.177975</td>\n",
       "      <td>0.625783</td>\n",
       "      <td>0.628187</td>\n",
       "      <td>3.932040</td>\n",
       "      <td>14.053047</td>\n",
       "      <td>7.389498</td>\n",
       "      <td>7.023705</td>\n",
       "      <td>0.516838</td>\n",
       "    </tr>\n",
       "    <tr>\n",
       "      <th>1</th>\n",
       "      <td>0.147754</td>\n",
       "      <td>0.273345</td>\n",
       "      <td>0.550690</td>\n",
       "      <td>0.065321</td>\n",
       "      <td>0.966479</td>\n",
       "      <td>1.317476</td>\n",
       "      <td>4.655004</td>\n",
       "      <td>8.648587</td>\n",
       "      <td>0.698081</td>\n",
       "      <td>9.034642</td>\n",
       "      <td>3.489954</td>\n",
       "      <td>2.724295</td>\n",
       "      <td>1.246149</td>\n",
       "      <td>3.419574</td>\n",
       "      <td>0.725560</td>\n",
       "      <td>6.910568</td>\n",
       "      <td>3.424716</td>\n",
       "      <td>0.668364</td>\n",
       "      <td>2.000154</td>\n",
       "      <td>8.972823</td>\n",
       "      <td>6.127073</td>\n",
       "      <td>1.161579</td>\n",
       "      <td>2.543747</td>\n",
       "      <td>12.649879</td>\n",
       "      <td>1.477723</td>\n",
       "      <td>1.852560</td>\n",
       "      <td>0.686252</td>\n",
       "      <td>0.519311</td>\n",
       "      <td>0.688796</td>\n",
       "      <td>1.072315</td>\n",
       "      <td>0.273345</td>\n",
       "      <td>0.967821</td>\n",
       "      <td>0.471447</td>\n",
       "      <td>4.841544</td>\n",
       "      <td>6.829889</td>\n",
       "      <td>0.709260</td>\n",
       "      <td>2.358840</td>\n",
       "      <td>0.230287</td>\n",
       "    </tr>\n",
       "    <tr>\n",
       "      <th>2</th>\n",
       "      <td>0.049102</td>\n",
       "      <td>0.158072</td>\n",
       "      <td>0.374848</td>\n",
       "      <td>0.453172</td>\n",
       "      <td>0.939275</td>\n",
       "      <td>4.912660</td>\n",
       "      <td>3.381083</td>\n",
       "      <td>11.996480</td>\n",
       "      <td>0.468265</td>\n",
       "      <td>5.777394</td>\n",
       "      <td>7.506612</td>\n",
       "      <td>0.772216</td>\n",
       "      <td>1.602183</td>\n",
       "      <td>3.682455</td>\n",
       "      <td>3.562188</td>\n",
       "      <td>5.752368</td>\n",
       "      <td>1.375443</td>\n",
       "      <td>0.733101</td>\n",
       "      <td>1.239304</td>\n",
       "      <td>1.978517</td>\n",
       "      <td>0.767569</td>\n",
       "      <td>1.952771</td>\n",
       "      <td>0.621357</td>\n",
       "      <td>7.682303</td>\n",
       "      <td>0.097144</td>\n",
       "      <td>0.841254</td>\n",
       "      <td>1.510089</td>\n",
       "      <td>1.486533</td>\n",
       "      <td>1.543049</td>\n",
       "      <td>0.391957</td>\n",
       "      <td>0.158072</td>\n",
       "      <td>3.178751</td>\n",
       "      <td>0.755946</td>\n",
       "      <td>7.922152</td>\n",
       "      <td>4.273200</td>\n",
       "      <td>3.156423</td>\n",
       "      <td>4.958214</td>\n",
       "      <td>0.190462</td>\n",
       "    </tr>\n",
       "  </tbody>\n",
       "</table>\n",
       "</div>"
      ],
      "text/plain": [
       "   kindergarten_km  school_km   park_km  green_zone_km  industrial_km  \\\n",
       "0         0.145700   0.177975  2.158587       0.600973       1.080934   \n",
       "1         0.147754   0.273345  0.550690       0.065321       0.966479   \n",
       "2         0.049102   0.158072  0.374848       0.453172       0.939275   \n",
       "\n",
       "   water_treatment_km  cemetery_km  incineration_km  water_km  \\\n",
       "0           23.683460     1.804127         3.633334  0.992631   \n",
       "1            1.317476     4.655004         8.648587  0.698081   \n",
       "2            4.912660     3.381083        11.996480  0.468265   \n",
       "\n",
       "   oil_chemistry_km  nuclear_reactor_km  radiation_km  \\\n",
       "0         18.152338            5.718519      1.210027   \n",
       "1          9.034642            3.489954      2.724295   \n",
       "2          5.777394            7.506612      0.772216   \n",
       "\n",
       "   power_transmission_line_km  thermal_power_plant_km     ts_km  \\\n",
       "0                    1.062513                5.814135  4.308127   \n",
       "1                    1.246149                3.419574  0.725560   \n",
       "2                    1.602183                3.682455  3.562188   \n",
       "\n",
       "   big_market_km  market_shop_km  fitness_km  swim_pool_km  ice_rink_km  \\\n",
       "0      10.814172        1.676258    0.485841      3.065047     1.107594   \n",
       "1       6.910568        3.424716    0.668364      2.000154     8.972823   \n",
       "2       5.752368        1.375443    0.733101      1.239304     1.978517   \n",
       "\n",
       "   stadium_km  basketball_km  hospice_morgue_km  detention_facility_km  \\\n",
       "0    8.148591       3.516513           2.392353               4.248036   \n",
       "1    6.127073       1.161579           2.543747              12.649879   \n",
       "2    0.767569       1.952771           0.621357               7.682303   \n",
       "\n",
       "   public_healthcare_km  university_km  workplaces_km  shopping_centers_km  \\\n",
       "0              0.974743       6.715026       0.884350             0.648488   \n",
       "1              1.477723       1.852560       0.686252             0.519311   \n",
       "2              0.097144       0.841254       1.510089             1.486533   \n",
       "\n",
       "   office_km  additional_education_km  preschool_km  big_church_km  \\\n",
       "0   0.637189                 0.947962      0.177975       0.625783   \n",
       "1   0.688796                 1.072315      0.273345       0.967821   \n",
       "2   1.543049                 0.391957      0.158072       3.178751   \n",
       "\n",
       "   church_synagogue_km  mosque_km  theater_km  museum_km  exhibition_km  \\\n",
       "0             0.628187   3.932040   14.053047   7.389498       7.023705   \n",
       "1             0.471447   4.841544    6.829889   0.709260       2.358840   \n",
       "2             0.755946   7.922152    4.273200   3.156423       4.958214   \n",
       "\n",
       "   catering_km  \n",
       "0     0.516838  \n",
       "1     0.230287  \n",
       "2     0.190462  "
      ]
     },
     "execution_count": 42,
     "metadata": {},
     "output_type": "execute_result"
    }
   ],
   "source": [
    "loc_km_dist_columns = ['kindergarten_km', 'school_km', 'park_km', 'green_zone_km', 'industrial_km', 'water_treatment_km', 'cemetery_km', \n",
    "                       'incineration_km', 'water_km', 'oil_chemistry_km', 'nuclear_reactor_km', 'radiation_km', \n",
    "                       'power_transmission_line_km', 'thermal_power_plant_km', 'ts_km', 'big_market_km', 'market_shop_km', 'fitness_km',\n",
    "                       'swim_pool_km', 'ice_rink_km', 'stadium_km', 'basketball_km', 'hospice_morgue_km', 'detention_facility_km', \n",
    "                       'public_healthcare_km', 'university_km', 'workplaces_km', 'shopping_centers_km', 'office_km', 'additional_education_km',\n",
    "                       'preschool_km', 'big_church_km', 'church_synagogue_km', 'mosque_km', 'theater_km', 'museum_km', 'exhibition_km', 'catering_km']\n",
    "train_df.loc[:2,loc_km_dist_columns]"
   ]
  },
  {
   "cell_type": "markdown",
   "metadata": {
    "heading_collapsed": true,
    "hidden": true
   },
   "source": [
    "### Metro"
   ]
  },
  {
   "cell_type": "code",
   "execution_count": 43,
   "metadata": {
    "hidden": true,
    "scrolled": false
   },
   "outputs": [
    {
     "data": {
      "text/html": [
       "<div>\n",
       "<table border=\"1\" class=\"dataframe\">\n",
       "  <thead>\n",
       "    <tr style=\"text-align: right;\">\n",
       "      <th></th>\n",
       "      <th>ID_metro</th>\n",
       "      <th>metro_min_avto</th>\n",
       "      <th>metro_km_avto</th>\n",
       "      <th>metro_min_walk</th>\n",
       "      <th>metro_km_walk</th>\n",
       "    </tr>\n",
       "  </thead>\n",
       "  <tbody>\n",
       "    <tr>\n",
       "      <th>0</th>\n",
       "      <td>1</td>\n",
       "      <td>2.590241</td>\n",
       "      <td>1.131260</td>\n",
       "      <td>13.575119</td>\n",
       "      <td>1.131260</td>\n",
       "    </tr>\n",
       "    <tr>\n",
       "      <th>1</th>\n",
       "      <td>2</td>\n",
       "      <td>0.936700</td>\n",
       "      <td>0.647337</td>\n",
       "      <td>7.620630</td>\n",
       "      <td>0.635053</td>\n",
       "    </tr>\n",
       "    <tr>\n",
       "      <th>2</th>\n",
       "      <td>3</td>\n",
       "      <td>2.120999</td>\n",
       "      <td>1.637996</td>\n",
       "      <td>17.351515</td>\n",
       "      <td>1.445960</td>\n",
       "    </tr>\n",
       "  </tbody>\n",
       "</table>\n",
       "</div>"
      ],
      "text/plain": [
       "   ID_metro  metro_min_avto  metro_km_avto  metro_min_walk  metro_km_walk\n",
       "0         1        2.590241       1.131260       13.575119       1.131260\n",
       "1         2        0.936700       0.647337        7.620630       0.635053\n",
       "2         3        2.120999       1.637996       17.351515       1.445960"
      ]
     },
     "execution_count": 43,
     "metadata": {},
     "output_type": "execute_result"
    }
   ],
   "source": [
    "loc_metro_columns = ['ID_metro', 'metro_min_avto', 'metro_km_avto', 'metro_min_walk', 'metro_km_walk']\n",
    "train_df.loc[:2,loc_metro_columns]"
   ]
  },
  {
   "cell_type": "markdown",
   "metadata": {
    "heading_collapsed": true,
    "hidden": true,
    "scrolled": true
   },
   "source": [
    "### railroad and public transport"
   ]
  },
  {
   "cell_type": "code",
   "execution_count": 44,
   "metadata": {
    "hidden": true,
    "scrolled": false
   },
   "outputs": [
    {
     "data": {
      "text/html": [
       "<div>\n",
       "<table border=\"1\" class=\"dataframe\">\n",
       "  <thead>\n",
       "    <tr style=\"text-align: right;\">\n",
       "      <th></th>\n",
       "      <th>ID_railroad_station_walk</th>\n",
       "      <th>railroad_station_walk_km</th>\n",
       "      <th>railroad_station_walk_min</th>\n",
       "      <th>ID_railroad_station_avto</th>\n",
       "      <th>railroad_station_avto_km</th>\n",
       "      <th>railroad_station_avto_min</th>\n",
       "      <th>public_transport_station_km</th>\n",
       "      <th>public_transport_station_min_walk</th>\n",
       "      <th>railroad_km</th>\n",
       "      <th>zd_vokzaly_avto_km</th>\n",
       "      <th>ID_railroad_terminal</th>\n",
       "      <th>ID_bus_terminal</th>\n",
       "      <th>bus_terminal_avto_km</th>\n",
       "    </tr>\n",
       "  </thead>\n",
       "  <tbody>\n",
       "    <tr>\n",
       "      <th>0</th>\n",
       "      <td>1.0</td>\n",
       "      <td>5.419893</td>\n",
       "      <td>65.038716</td>\n",
       "      <td>1</td>\n",
       "      <td>5.419893</td>\n",
       "      <td>6.905893</td>\n",
       "      <td>0.274985</td>\n",
       "      <td>3.299822</td>\n",
       "      <td>1.305159</td>\n",
       "      <td>14.231961</td>\n",
       "      <td>101</td>\n",
       "      <td>1</td>\n",
       "      <td>24.292406</td>\n",
       "    </tr>\n",
       "    <tr>\n",
       "      <th>1</th>\n",
       "      <td>2.0</td>\n",
       "      <td>3.411993</td>\n",
       "      <td>40.943917</td>\n",
       "      <td>2</td>\n",
       "      <td>3.641773</td>\n",
       "      <td>4.679745</td>\n",
       "      <td>0.065263</td>\n",
       "      <td>0.783160</td>\n",
       "      <td>0.694536</td>\n",
       "      <td>9.242586</td>\n",
       "      <td>32</td>\n",
       "      <td>2</td>\n",
       "      <td>5.706113</td>\n",
       "    </tr>\n",
       "    <tr>\n",
       "      <th>2</th>\n",
       "      <td>3.0</td>\n",
       "      <td>1.277658</td>\n",
       "      <td>15.331896</td>\n",
       "      <td>3</td>\n",
       "      <td>1.277658</td>\n",
       "      <td>1.701420</td>\n",
       "      <td>0.328756</td>\n",
       "      <td>3.945073</td>\n",
       "      <td>0.700691</td>\n",
       "      <td>9.540544</td>\n",
       "      <td>5</td>\n",
       "      <td>3</td>\n",
       "      <td>6.710302</td>\n",
       "    </tr>\n",
       "  </tbody>\n",
       "</table>\n",
       "</div>"
      ],
      "text/plain": [
       "   ID_railroad_station_walk  railroad_station_walk_km  \\\n",
       "0                       1.0                  5.419893   \n",
       "1                       2.0                  3.411993   \n",
       "2                       3.0                  1.277658   \n",
       "\n",
       "   railroad_station_walk_min  ID_railroad_station_avto  \\\n",
       "0                  65.038716                         1   \n",
       "1                  40.943917                         2   \n",
       "2                  15.331896                         3   \n",
       "\n",
       "   railroad_station_avto_km  railroad_station_avto_min  \\\n",
       "0                  5.419893                   6.905893   \n",
       "1                  3.641773                   4.679745   \n",
       "2                  1.277658                   1.701420   \n",
       "\n",
       "   public_transport_station_km  public_transport_station_min_walk  \\\n",
       "0                     0.274985                           3.299822   \n",
       "1                     0.065263                           0.783160   \n",
       "2                     0.328756                           3.945073   \n",
       "\n",
       "   railroad_km  zd_vokzaly_avto_km  ID_railroad_terminal  ID_bus_terminal  \\\n",
       "0     1.305159           14.231961                   101                1   \n",
       "1     0.694536            9.242586                    32                2   \n",
       "2     0.700691            9.540544                     5                3   \n",
       "\n",
       "   bus_terminal_avto_km  \n",
       "0             24.292406  \n",
       "1              5.706113  \n",
       "2              6.710302  "
      ]
     },
     "execution_count": 44,
     "metadata": {},
     "output_type": "execute_result"
    }
   ],
   "source": [
    "loc_railroad_pubtrans_columns = ['ID_railroad_station_walk', 'railroad_station_walk_km', 'railroad_station_walk_min',\n",
    "                                 'ID_railroad_station_avto', 'railroad_station_avto_km', 'railroad_station_avto_min',\n",
    "                                 'public_transport_station_km', 'public_transport_station_min_walk', \n",
    "                                 'railroad_km', 'zd_vokzaly_avto_km', 'ID_railroad_terminal', \n",
    "                                 'ID_bus_terminal', 'bus_terminal_avto_km']\n",
    "train_df.loc[:2,loc_railroad_pubtrans_columns]"
   ]
  },
  {
   "cell_type": "markdown",
   "metadata": {
    "heading_collapsed": true,
    "hidden": true,
    "scrolled": true
   },
   "source": [
    "### Major roads"
   ]
  },
  {
   "cell_type": "markdown",
   "metadata": {
    "hidden": true
   },
   "source": [
    "* mkad = ring road\n",
    "* ttk = TransTelekom ?\n",
    "* sadovoe = Ring Garden"
   ]
  },
  {
   "cell_type": "code",
   "execution_count": 45,
   "metadata": {
    "hidden": true,
    "scrolled": true
   },
   "outputs": [
    {
     "data": {
      "text/html": [
       "<div>\n",
       "<table border=\"1\" class=\"dataframe\">\n",
       "  <thead>\n",
       "    <tr style=\"text-align: right;\">\n",
       "      <th></th>\n",
       "      <th>mkad_km</th>\n",
       "      <th>ttk_km</th>\n",
       "      <th>sadovoe_km</th>\n",
       "      <th>bulvar_ring_km</th>\n",
       "      <th>kremlin_km</th>\n",
       "      <th>ID_big_road1</th>\n",
       "      <th>big_road1_km</th>\n",
       "      <th>ID_big_road2</th>\n",
       "      <th>big_road2_km</th>\n",
       "    </tr>\n",
       "  </thead>\n",
       "  <tbody>\n",
       "    <tr>\n",
       "      <th>0</th>\n",
       "      <td>1.422391</td>\n",
       "      <td>10.918587</td>\n",
       "      <td>13.100618</td>\n",
       "      <td>13.675657</td>\n",
       "      <td>15.156211</td>\n",
       "      <td>1</td>\n",
       "      <td>1.422391</td>\n",
       "      <td>5</td>\n",
       "      <td>3.830951</td>\n",
       "    </tr>\n",
       "    <tr>\n",
       "      <th>1</th>\n",
       "      <td>9.503405</td>\n",
       "      <td>3.103996</td>\n",
       "      <td>6.444333</td>\n",
       "      <td>8.132640</td>\n",
       "      <td>8.698054</td>\n",
       "      <td>2</td>\n",
       "      <td>2.887377</td>\n",
       "      <td>4</td>\n",
       "      <td>3.103996</td>\n",
       "    </tr>\n",
       "    <tr>\n",
       "      <th>2</th>\n",
       "      <td>5.604800</td>\n",
       "      <td>2.927487</td>\n",
       "      <td>6.963403</td>\n",
       "      <td>8.054252</td>\n",
       "      <td>9.067885</td>\n",
       "      <td>3</td>\n",
       "      <td>0.647250</td>\n",
       "      <td>4</td>\n",
       "      <td>2.927487</td>\n",
       "    </tr>\n",
       "  </tbody>\n",
       "</table>\n",
       "</div>"
      ],
      "text/plain": [
       "    mkad_km     ttk_km  sadovoe_km  bulvar_ring_km  kremlin_km  ID_big_road1  \\\n",
       "0  1.422391  10.918587   13.100618       13.675657   15.156211             1   \n",
       "1  9.503405   3.103996    6.444333        8.132640    8.698054             2   \n",
       "2  5.604800   2.927487    6.963403        8.054252    9.067885             3   \n",
       "\n",
       "   big_road1_km  ID_big_road2  big_road2_km  \n",
       "0      1.422391             5      3.830951  \n",
       "1      2.887377             4      3.103996  \n",
       "2      0.647250             4      2.927487  "
      ]
     },
     "execution_count": 45,
     "metadata": {},
     "output_type": "execute_result"
    }
   ],
   "source": [
    "road_columns = ['mkad_km', 'ttk_km', 'sadovoe_km', 'bulvar_ring_km', 'kremlin_km',\n",
    "                'ID_big_road1', 'big_road1_km',\n",
    "                'ID_big_road2', 'big_road2_km']\n",
    "train_df.loc[:2,road_columns]"
   ]
  },
  {
   "cell_type": "markdown",
   "metadata": {
    "heading_collapsed": true,
    "hidden": true,
    "scrolled": true
   },
   "source": [
    "### ecology"
   ]
  },
  {
   "cell_type": "code",
   "execution_count": 46,
   "metadata": {
    "hidden": true,
    "scrolled": false
   },
   "outputs": [
    {
     "data": {
      "text/html": [
       "<div>\n",
       "<table border=\"1\" class=\"dataframe\">\n",
       "  <thead>\n",
       "    <tr style=\"text-align: right;\">\n",
       "      <th></th>\n",
       "      <th>ecology</th>\n",
       "    </tr>\n",
       "  </thead>\n",
       "  <tbody>\n",
       "    <tr>\n",
       "      <th>0</th>\n",
       "      <td>good</td>\n",
       "    </tr>\n",
       "    <tr>\n",
       "      <th>1</th>\n",
       "      <td>excellent</td>\n",
       "    </tr>\n",
       "    <tr>\n",
       "      <th>2</th>\n",
       "      <td>poor</td>\n",
       "    </tr>\n",
       "    <tr>\n",
       "      <th>3</th>\n",
       "      <td>good</td>\n",
       "    </tr>\n",
       "  </tbody>\n",
       "</table>\n",
       "</div>"
      ],
      "text/plain": [
       "     ecology\n",
       "0       good\n",
       "1  excellent\n",
       "2       poor\n",
       "3       good"
      ]
     },
     "execution_count": 46,
     "metadata": {},
     "output_type": "execute_result"
    }
   ],
   "source": [
    "ecology_columns = ['ecology']\n",
    "train_df.loc[:3, ecology_columns]"
   ]
  },
  {
   "cell_type": "markdown",
   "metadata": {
    "heading_collapsed": true
   },
   "source": [
    "## Series 500, 1000, 1500, 2000, 3000, 5000"
   ]
  },
  {
   "cell_type": "markdown",
   "metadata": {
    "heading_collapsed": true,
    "hidden": true,
    "scrolled": true
   },
   "source": [
    "### 500"
   ]
  },
  {
   "cell_type": "code",
   "execution_count": 47,
   "metadata": {
    "hidden": true,
    "scrolled": true
   },
   "outputs": [
    {
     "data": {
      "text/html": [
       "<div>\n",
       "<table border=\"1\" class=\"dataframe\">\n",
       "  <thead>\n",
       "    <tr style=\"text-align: right;\">\n",
       "      <th></th>\n",
       "      <th>green_part_500</th>\n",
       "      <th>prom_part_500</th>\n",
       "      <th>office_count_500</th>\n",
       "      <th>office_sqm_500</th>\n",
       "      <th>trc_count_500</th>\n",
       "      <th>trc_sqm_500</th>\n",
       "      <th>cafe_count_500</th>\n",
       "      <th>cafe_sum_500_min_price_avg</th>\n",
       "      <th>cafe_sum_500_max_price_avg</th>\n",
       "      <th>cafe_avg_price_500</th>\n",
       "      <th>cafe_count_500_na_price</th>\n",
       "      <th>cafe_count_500_price_500</th>\n",
       "      <th>cafe_count_500_price_1000</th>\n",
       "      <th>cafe_count_500_price_1500</th>\n",
       "      <th>cafe_count_500_price_2500</th>\n",
       "      <th>cafe_count_500_price_4000</th>\n",
       "      <th>cafe_count_500_price_high</th>\n",
       "      <th>big_church_count_500</th>\n",
       "      <th>church_count_500</th>\n",
       "      <th>mosque_count_500</th>\n",
       "      <th>leisure_count_500</th>\n",
       "      <th>sport_count_500</th>\n",
       "      <th>market_count_500</th>\n",
       "    </tr>\n",
       "  </thead>\n",
       "  <tbody>\n",
       "    <tr>\n",
       "      <th>0</th>\n",
       "      <td>0.00</td>\n",
       "      <td>0.00</td>\n",
       "      <td>0</td>\n",
       "      <td>0</td>\n",
       "      <td>0</td>\n",
       "      <td>0</td>\n",
       "      <td>0</td>\n",
       "      <td>NaN</td>\n",
       "      <td>NaN</td>\n",
       "      <td>NaN</td>\n",
       "      <td>0</td>\n",
       "      <td>0</td>\n",
       "      <td>0</td>\n",
       "      <td>0</td>\n",
       "      <td>0</td>\n",
       "      <td>0</td>\n",
       "      <td>0</td>\n",
       "      <td>0</td>\n",
       "      <td>0</td>\n",
       "      <td>0</td>\n",
       "      <td>0</td>\n",
       "      <td>1</td>\n",
       "      <td>0</td>\n",
       "    </tr>\n",
       "    <tr>\n",
       "      <th>1</th>\n",
       "      <td>25.14</td>\n",
       "      <td>0.00</td>\n",
       "      <td>0</td>\n",
       "      <td>0</td>\n",
       "      <td>0</td>\n",
       "      <td>0</td>\n",
       "      <td>5</td>\n",
       "      <td>860.00</td>\n",
       "      <td>1500.00</td>\n",
       "      <td>1180.00</td>\n",
       "      <td>0</td>\n",
       "      <td>1</td>\n",
       "      <td>3</td>\n",
       "      <td>0</td>\n",
       "      <td>0</td>\n",
       "      <td>1</td>\n",
       "      <td>0</td>\n",
       "      <td>0</td>\n",
       "      <td>1</td>\n",
       "      <td>0</td>\n",
       "      <td>0</td>\n",
       "      <td>0</td>\n",
       "      <td>0</td>\n",
       "    </tr>\n",
       "    <tr>\n",
       "      <th>2</th>\n",
       "      <td>1.67</td>\n",
       "      <td>0.00</td>\n",
       "      <td>0</td>\n",
       "      <td>0</td>\n",
       "      <td>0</td>\n",
       "      <td>0</td>\n",
       "      <td>3</td>\n",
       "      <td>666.67</td>\n",
       "      <td>1166.67</td>\n",
       "      <td>916.67</td>\n",
       "      <td>0</td>\n",
       "      <td>0</td>\n",
       "      <td>2</td>\n",
       "      <td>1</td>\n",
       "      <td>0</td>\n",
       "      <td>0</td>\n",
       "      <td>0</td>\n",
       "      <td>0</td>\n",
       "      <td>0</td>\n",
       "      <td>0</td>\n",
       "      <td>0</td>\n",
       "      <td>0</td>\n",
       "      <td>0</td>\n",
       "    </tr>\n",
       "    <tr>\n",
       "      <th>3</th>\n",
       "      <td>17.36</td>\n",
       "      <td>0.57</td>\n",
       "      <td>0</td>\n",
       "      <td>0</td>\n",
       "      <td>0</td>\n",
       "      <td>0</td>\n",
       "      <td>2</td>\n",
       "      <td>1000.00</td>\n",
       "      <td>1500.00</td>\n",
       "      <td>1250.00</td>\n",
       "      <td>0</td>\n",
       "      <td>0</td>\n",
       "      <td>0</td>\n",
       "      <td>2</td>\n",
       "      <td>0</td>\n",
       "      <td>0</td>\n",
       "      <td>0</td>\n",
       "      <td>0</td>\n",
       "      <td>0</td>\n",
       "      <td>0</td>\n",
       "      <td>0</td>\n",
       "      <td>0</td>\n",
       "      <td>0</td>\n",
       "    </tr>\n",
       "  </tbody>\n",
       "</table>\n",
       "</div>"
      ],
      "text/plain": [
       "   green_part_500  prom_part_500  office_count_500  office_sqm_500  \\\n",
       "0            0.00           0.00                 0               0   \n",
       "1           25.14           0.00                 0               0   \n",
       "2            1.67           0.00                 0               0   \n",
       "3           17.36           0.57                 0               0   \n",
       "\n",
       "   trc_count_500  trc_sqm_500  cafe_count_500  cafe_sum_500_min_price_avg  \\\n",
       "0              0            0               0                         NaN   \n",
       "1              0            0               5                      860.00   \n",
       "2              0            0               3                      666.67   \n",
       "3              0            0               2                     1000.00   \n",
       "\n",
       "   cafe_sum_500_max_price_avg  cafe_avg_price_500  cafe_count_500_na_price  \\\n",
       "0                         NaN                 NaN                        0   \n",
       "1                     1500.00             1180.00                        0   \n",
       "2                     1166.67              916.67                        0   \n",
       "3                     1500.00             1250.00                        0   \n",
       "\n",
       "   cafe_count_500_price_500  cafe_count_500_price_1000  \\\n",
       "0                         0                          0   \n",
       "1                         1                          3   \n",
       "2                         0                          2   \n",
       "3                         0                          0   \n",
       "\n",
       "   cafe_count_500_price_1500  cafe_count_500_price_2500  \\\n",
       "0                          0                          0   \n",
       "1                          0                          0   \n",
       "2                          1                          0   \n",
       "3                          2                          0   \n",
       "\n",
       "   cafe_count_500_price_4000  cafe_count_500_price_high  big_church_count_500  \\\n",
       "0                          0                          0                     0   \n",
       "1                          1                          0                     0   \n",
       "2                          0                          0                     0   \n",
       "3                          0                          0                     0   \n",
       "\n",
       "   church_count_500  mosque_count_500  leisure_count_500  sport_count_500  \\\n",
       "0                 0                 0                  0                1   \n",
       "1                 1                 0                  0                0   \n",
       "2                 0                 0                  0                0   \n",
       "3                 0                 0                  0                0   \n",
       "\n",
       "   market_count_500  \n",
       "0                 0  \n",
       "1                 0  \n",
       "2                 0  \n",
       "3                 0  "
      ]
     },
     "execution_count": 47,
     "metadata": {},
     "output_type": "execute_result"
    }
   ],
   "source": [
    "count_500_columns = ['green_part_500', 'prom_part_500', 'office_count_500', 'office_sqm_500', 'trc_count_500', 'trc_sqm_500', \n",
    "                     'cafe_count_500', 'cafe_sum_500_min_price_avg', 'cafe_sum_500_max_price_avg', 'cafe_avg_price_500', \n",
    "                     'cafe_count_500_na_price', 'cafe_count_500_price_500', 'cafe_count_500_price_1000', 'cafe_count_500_price_1500',\n",
    "                     'cafe_count_500_price_2500', 'cafe_count_500_price_4000', 'cafe_count_500_price_high',\n",
    "                     'big_church_count_500', 'church_count_500', 'mosque_count_500',\n",
    "                     'leisure_count_500', 'sport_count_500', 'market_count_500']\n",
    "train_df.loc[:3,count_500_columns]"
   ]
  },
  {
   "cell_type": "markdown",
   "metadata": {
    "heading_collapsed": true,
    "hidden": true,
    "scrolled": true
   },
   "source": [
    "### 1000"
   ]
  },
  {
   "cell_type": "code",
   "execution_count": 48,
   "metadata": {
    "hidden": true,
    "scrolled": false
   },
   "outputs": [
    {
     "data": {
      "text/html": [
       "<div>\n",
       "<table border=\"1\" class=\"dataframe\">\n",
       "  <thead>\n",
       "    <tr style=\"text-align: right;\">\n",
       "      <th></th>\n",
       "      <th>green_part_1000</th>\n",
       "      <th>prom_part_1000</th>\n",
       "      <th>office_count_1000</th>\n",
       "      <th>office_sqm_1000</th>\n",
       "      <th>trc_count_1000</th>\n",
       "      <th>trc_sqm_1000</th>\n",
       "      <th>cafe_count_1000</th>\n",
       "      <th>cafe_sum_1000_min_price_avg</th>\n",
       "      <th>cafe_sum_1000_max_price_avg</th>\n",
       "      <th>cafe_avg_price_1000</th>\n",
       "      <th>cafe_count_1000_na_price</th>\n",
       "      <th>cafe_count_1000_price_500</th>\n",
       "      <th>cafe_count_1000_price_1000</th>\n",
       "      <th>cafe_count_1000_price_1500</th>\n",
       "      <th>cafe_count_1000_price_2500</th>\n",
       "      <th>cafe_count_1000_price_4000</th>\n",
       "      <th>cafe_count_1000_price_high</th>\n",
       "      <th>big_church_count_1000</th>\n",
       "      <th>church_count_1000</th>\n",
       "      <th>mosque_count_1000</th>\n",
       "      <th>leisure_count_1000</th>\n",
       "      <th>sport_count_1000</th>\n",
       "      <th>market_count_1000</th>\n",
       "    </tr>\n",
       "  </thead>\n",
       "  <tbody>\n",
       "    <tr>\n",
       "      <th>0</th>\n",
       "      <td>7.36</td>\n",
       "      <td>0.00</td>\n",
       "      <td>1</td>\n",
       "      <td>30500</td>\n",
       "      <td>3</td>\n",
       "      <td>55600</td>\n",
       "      <td>19</td>\n",
       "      <td>527.78</td>\n",
       "      <td>888.89</td>\n",
       "      <td>708.33</td>\n",
       "      <td>1</td>\n",
       "      <td>10</td>\n",
       "      <td>4</td>\n",
       "      <td>3</td>\n",
       "      <td>1</td>\n",
       "      <td>0</td>\n",
       "      <td>0</td>\n",
       "      <td>1</td>\n",
       "      <td>2</td>\n",
       "      <td>0</td>\n",
       "      <td>0</td>\n",
       "      <td>6</td>\n",
       "      <td>1</td>\n",
       "    </tr>\n",
       "    <tr>\n",
       "      <th>1</th>\n",
       "      <td>26.66</td>\n",
       "      <td>0.07</td>\n",
       "      <td>2</td>\n",
       "      <td>86600</td>\n",
       "      <td>5</td>\n",
       "      <td>94065</td>\n",
       "      <td>13</td>\n",
       "      <td>615.38</td>\n",
       "      <td>1076.92</td>\n",
       "      <td>846.15</td>\n",
       "      <td>0</td>\n",
       "      <td>5</td>\n",
       "      <td>6</td>\n",
       "      <td>1</td>\n",
       "      <td>0</td>\n",
       "      <td>1</td>\n",
       "      <td>0</td>\n",
       "      <td>1</td>\n",
       "      <td>2</td>\n",
       "      <td>0</td>\n",
       "      <td>4</td>\n",
       "      <td>2</td>\n",
       "      <td>0</td>\n",
       "    </tr>\n",
       "    <tr>\n",
       "      <th>2</th>\n",
       "      <td>4.99</td>\n",
       "      <td>0.29</td>\n",
       "      <td>0</td>\n",
       "      <td>0</td>\n",
       "      <td>0</td>\n",
       "      <td>0</td>\n",
       "      <td>9</td>\n",
       "      <td>642.86</td>\n",
       "      <td>1142.86</td>\n",
       "      <td>892.86</td>\n",
       "      <td>2</td>\n",
       "      <td>0</td>\n",
       "      <td>5</td>\n",
       "      <td>2</td>\n",
       "      <td>0</td>\n",
       "      <td>0</td>\n",
       "      <td>0</td>\n",
       "      <td>0</td>\n",
       "      <td>1</td>\n",
       "      <td>0</td>\n",
       "      <td>0</td>\n",
       "      <td>5</td>\n",
       "      <td>3</td>\n",
       "    </tr>\n",
       "    <tr>\n",
       "      <th>3</th>\n",
       "      <td>19.25</td>\n",
       "      <td>10.35</td>\n",
       "      <td>1</td>\n",
       "      <td>11000</td>\n",
       "      <td>6</td>\n",
       "      <td>80780</td>\n",
       "      <td>12</td>\n",
       "      <td>658.33</td>\n",
       "      <td>1083.33</td>\n",
       "      <td>870.83</td>\n",
       "      <td>0</td>\n",
       "      <td>3</td>\n",
       "      <td>4</td>\n",
       "      <td>5</td>\n",
       "      <td>0</td>\n",
       "      <td>0</td>\n",
       "      <td>0</td>\n",
       "      <td>0</td>\n",
       "      <td>0</td>\n",
       "      <td>0</td>\n",
       "      <td>0</td>\n",
       "      <td>3</td>\n",
       "      <td>1</td>\n",
       "    </tr>\n",
       "  </tbody>\n",
       "</table>\n",
       "</div>"
      ],
      "text/plain": [
       "   green_part_1000  prom_part_1000  office_count_1000  office_sqm_1000  \\\n",
       "0             7.36            0.00                  1            30500   \n",
       "1            26.66            0.07                  2            86600   \n",
       "2             4.99            0.29                  0                0   \n",
       "3            19.25           10.35                  1            11000   \n",
       "\n",
       "   trc_count_1000  trc_sqm_1000  cafe_count_1000  cafe_sum_1000_min_price_avg  \\\n",
       "0               3         55600               19                       527.78   \n",
       "1               5         94065               13                       615.38   \n",
       "2               0             0                9                       642.86   \n",
       "3               6         80780               12                       658.33   \n",
       "\n",
       "   cafe_sum_1000_max_price_avg  cafe_avg_price_1000  cafe_count_1000_na_price  \\\n",
       "0                       888.89               708.33                         1   \n",
       "1                      1076.92               846.15                         0   \n",
       "2                      1142.86               892.86                         2   \n",
       "3                      1083.33               870.83                         0   \n",
       "\n",
       "   cafe_count_1000_price_500  cafe_count_1000_price_1000  \\\n",
       "0                         10                           4   \n",
       "1                          5                           6   \n",
       "2                          0                           5   \n",
       "3                          3                           4   \n",
       "\n",
       "   cafe_count_1000_price_1500  cafe_count_1000_price_2500  \\\n",
       "0                           3                           1   \n",
       "1                           1                           0   \n",
       "2                           2                           0   \n",
       "3                           5                           0   \n",
       "\n",
       "   cafe_count_1000_price_4000  cafe_count_1000_price_high  \\\n",
       "0                           0                           0   \n",
       "1                           1                           0   \n",
       "2                           0                           0   \n",
       "3                           0                           0   \n",
       "\n",
       "   big_church_count_1000  church_count_1000  mosque_count_1000  \\\n",
       "0                      1                  2                  0   \n",
       "1                      1                  2                  0   \n",
       "2                      0                  1                  0   \n",
       "3                      0                  0                  0   \n",
       "\n",
       "   leisure_count_1000  sport_count_1000  market_count_1000  \n",
       "0                   0                 6                  1  \n",
       "1                   4                 2                  0  \n",
       "2                   0                 5                  3  \n",
       "3                   0                 3                  1  "
      ]
     },
     "execution_count": 48,
     "metadata": {},
     "output_type": "execute_result"
    }
   ],
   "source": [
    "count_1000_columns = ['green_part_1000', 'prom_part_1000', 'office_count_1000', 'office_sqm_1000', 'trc_count_1000',\n",
    "                     'trc_sqm_1000', 'cafe_count_1000', 'cafe_sum_1000_min_price_avg', 'cafe_sum_1000_max_price_avg', 'cafe_avg_price_1000',\n",
    "                     'cafe_count_1000_na_price', 'cafe_count_1000_price_500', 'cafe_count_1000_price_1000', 'cafe_count_1000_price_1500',\n",
    "                     'cafe_count_1000_price_2500', 'cafe_count_1000_price_4000', 'cafe_count_1000_price_high', \n",
    "                     'big_church_count_1000', 'church_count_1000', 'mosque_count_1000', \n",
    "                     'leisure_count_1000', 'sport_count_1000', 'market_count_1000']\n",
    "train_df.loc[:3,count_1000_columns]"
   ]
  },
  {
   "cell_type": "markdown",
   "metadata": {
    "heading_collapsed": true,
    "hidden": true,
    "scrolled": true
   },
   "source": [
    "### 1500"
   ]
  },
  {
   "cell_type": "code",
   "execution_count": 49,
   "metadata": {
    "hidden": true,
    "scrolled": false
   },
   "outputs": [
    {
     "data": {
      "text/html": [
       "<div>\n",
       "<table border=\"1\" class=\"dataframe\">\n",
       "  <thead>\n",
       "    <tr style=\"text-align: right;\">\n",
       "      <th></th>\n",
       "      <th>green_part_1500</th>\n",
       "      <th>prom_part_1500</th>\n",
       "      <th>office_count_1500</th>\n",
       "      <th>office_sqm_1500</th>\n",
       "      <th>trc_count_1500</th>\n",
       "      <th>trc_sqm_1500</th>\n",
       "      <th>cafe_count_1500</th>\n",
       "      <th>cafe_sum_1500_min_price_avg</th>\n",
       "      <th>cafe_sum_1500_max_price_avg</th>\n",
       "      <th>cafe_avg_price_1500</th>\n",
       "      <th>cafe_count_1500_na_price</th>\n",
       "      <th>cafe_count_1500_price_500</th>\n",
       "      <th>cafe_count_1500_price_1000</th>\n",
       "      <th>cafe_count_1500_price_1500</th>\n",
       "      <th>cafe_count_1500_price_2500</th>\n",
       "      <th>cafe_count_1500_price_4000</th>\n",
       "      <th>cafe_count_1500_price_high</th>\n",
       "      <th>big_church_count_1500</th>\n",
       "      <th>church_count_1500</th>\n",
       "      <th>mosque_count_1500</th>\n",
       "      <th>leisure_count_1500</th>\n",
       "      <th>sport_count_1500</th>\n",
       "      <th>market_count_1500</th>\n",
       "    </tr>\n",
       "  </thead>\n",
       "  <tbody>\n",
       "    <tr>\n",
       "      <th>0</th>\n",
       "      <td>14.27</td>\n",
       "      <td>6.92</td>\n",
       "      <td>3</td>\n",
       "      <td>39554</td>\n",
       "      <td>9</td>\n",
       "      <td>171420</td>\n",
       "      <td>34</td>\n",
       "      <td>566.67</td>\n",
       "      <td>969.70</td>\n",
       "      <td>768.18</td>\n",
       "      <td>1</td>\n",
       "      <td>14</td>\n",
       "      <td>11</td>\n",
       "      <td>6</td>\n",
       "      <td>2</td>\n",
       "      <td>0</td>\n",
       "      <td>0</td>\n",
       "      <td>1</td>\n",
       "      <td>2</td>\n",
       "      <td>0</td>\n",
       "      <td>0</td>\n",
       "      <td>7</td>\n",
       "      <td>1</td>\n",
       "    </tr>\n",
       "    <tr>\n",
       "      <th>1</th>\n",
       "      <td>21.53</td>\n",
       "      <td>7.71</td>\n",
       "      <td>3</td>\n",
       "      <td>102910</td>\n",
       "      <td>7</td>\n",
       "      <td>127065</td>\n",
       "      <td>17</td>\n",
       "      <td>694.12</td>\n",
       "      <td>1205.88</td>\n",
       "      <td>950.00</td>\n",
       "      <td>0</td>\n",
       "      <td>6</td>\n",
       "      <td>7</td>\n",
       "      <td>1</td>\n",
       "      <td>2</td>\n",
       "      <td>1</td>\n",
       "      <td>0</td>\n",
       "      <td>1</td>\n",
       "      <td>5</td>\n",
       "      <td>0</td>\n",
       "      <td>4</td>\n",
       "      <td>9</td>\n",
       "      <td>0</td>\n",
       "    </tr>\n",
       "    <tr>\n",
       "      <th>2</th>\n",
       "      <td>9.92</td>\n",
       "      <td>6.73</td>\n",
       "      <td>0</td>\n",
       "      <td>0</td>\n",
       "      <td>1</td>\n",
       "      <td>2600</td>\n",
       "      <td>14</td>\n",
       "      <td>516.67</td>\n",
       "      <td>916.67</td>\n",
       "      <td>716.67</td>\n",
       "      <td>2</td>\n",
       "      <td>4</td>\n",
       "      <td>6</td>\n",
       "      <td>2</td>\n",
       "      <td>0</td>\n",
       "      <td>0</td>\n",
       "      <td>0</td>\n",
       "      <td>0</td>\n",
       "      <td>4</td>\n",
       "      <td>0</td>\n",
       "      <td>0</td>\n",
       "      <td>6</td>\n",
       "      <td>5</td>\n",
       "    </tr>\n",
       "    <tr>\n",
       "      <th>3</th>\n",
       "      <td>28.38</td>\n",
       "      <td>6.57</td>\n",
       "      <td>2</td>\n",
       "      <td>11000</td>\n",
       "      <td>7</td>\n",
       "      <td>89492</td>\n",
       "      <td>23</td>\n",
       "      <td>673.91</td>\n",
       "      <td>1130.43</td>\n",
       "      <td>902.17</td>\n",
       "      <td>0</td>\n",
       "      <td>5</td>\n",
       "      <td>9</td>\n",
       "      <td>8</td>\n",
       "      <td>1</td>\n",
       "      <td>0</td>\n",
       "      <td>0</td>\n",
       "      <td>1</td>\n",
       "      <td>0</td>\n",
       "      <td>0</td>\n",
       "      <td>0</td>\n",
       "      <td>9</td>\n",
       "      <td>2</td>\n",
       "    </tr>\n",
       "  </tbody>\n",
       "</table>\n",
       "</div>"
      ],
      "text/plain": [
       "   green_part_1500  prom_part_1500  office_count_1500  office_sqm_1500  \\\n",
       "0            14.27            6.92                  3            39554   \n",
       "1            21.53            7.71                  3           102910   \n",
       "2             9.92            6.73                  0                0   \n",
       "3            28.38            6.57                  2            11000   \n",
       "\n",
       "   trc_count_1500  trc_sqm_1500  cafe_count_1500  cafe_sum_1500_min_price_avg  \\\n",
       "0               9        171420               34                       566.67   \n",
       "1               7        127065               17                       694.12   \n",
       "2               1          2600               14                       516.67   \n",
       "3               7         89492               23                       673.91   \n",
       "\n",
       "   cafe_sum_1500_max_price_avg  cafe_avg_price_1500  cafe_count_1500_na_price  \\\n",
       "0                       969.70               768.18                         1   \n",
       "1                      1205.88               950.00                         0   \n",
       "2                       916.67               716.67                         2   \n",
       "3                      1130.43               902.17                         0   \n",
       "\n",
       "   cafe_count_1500_price_500  cafe_count_1500_price_1000  \\\n",
       "0                         14                          11   \n",
       "1                          6                           7   \n",
       "2                          4                           6   \n",
       "3                          5                           9   \n",
       "\n",
       "   cafe_count_1500_price_1500  cafe_count_1500_price_2500  \\\n",
       "0                           6                           2   \n",
       "1                           1                           2   \n",
       "2                           2                           0   \n",
       "3                           8                           1   \n",
       "\n",
       "   cafe_count_1500_price_4000  cafe_count_1500_price_high  \\\n",
       "0                           0                           0   \n",
       "1                           1                           0   \n",
       "2                           0                           0   \n",
       "3                           0                           0   \n",
       "\n",
       "   big_church_count_1500  church_count_1500  mosque_count_1500  \\\n",
       "0                      1                  2                  0   \n",
       "1                      1                  5                  0   \n",
       "2                      0                  4                  0   \n",
       "3                      1                  0                  0   \n",
       "\n",
       "   leisure_count_1500  sport_count_1500  market_count_1500  \n",
       "0                   0                 7                  1  \n",
       "1                   4                 9                  0  \n",
       "2                   0                 6                  5  \n",
       "3                   0                 9                  2  "
      ]
     },
     "execution_count": 49,
     "metadata": {},
     "output_type": "execute_result"
    }
   ],
   "source": [
    "count_1500_columns = ['green_part_1500', 'prom_part_1500', 'office_count_1500', 'office_sqm_1500', 'trc_count_1500', 'trc_sqm_1500', \n",
    "                      'cafe_count_1500', 'cafe_sum_1500_min_price_avg', 'cafe_sum_1500_max_price_avg', 'cafe_avg_price_1500', 'cafe_count_1500_na_price',\n",
    "                      'cafe_count_1500_price_500', 'cafe_count_1500_price_1000', 'cafe_count_1500_price_1500', 'cafe_count_1500_price_2500',\n",
    "                      'cafe_count_1500_price_4000', 'cafe_count_1500_price_high', \n",
    "                      'big_church_count_1500', 'church_count_1500', 'mosque_count_1500',\n",
    "                      'leisure_count_1500', 'sport_count_1500', 'market_count_1500',]\n",
    "train_df.loc[:3,count_1500_columns]"
   ]
  },
  {
   "cell_type": "markdown",
   "metadata": {
    "heading_collapsed": true,
    "hidden": true,
    "scrolled": true
   },
   "source": [
    "### 2000"
   ]
  },
  {
   "cell_type": "code",
   "execution_count": 50,
   "metadata": {
    "hidden": true,
    "scrolled": false
   },
   "outputs": [
    {
     "data": {
      "text/html": [
       "<div>\n",
       "<table border=\"1\" class=\"dataframe\">\n",
       "  <thead>\n",
       "    <tr style=\"text-align: right;\">\n",
       "      <th></th>\n",
       "      <th>green_part_2000</th>\n",
       "      <th>prom_part_2000</th>\n",
       "      <th>office_count_2000</th>\n",
       "      <th>office_sqm_2000</th>\n",
       "      <th>trc_count_2000</th>\n",
       "      <th>trc_sqm_2000</th>\n",
       "      <th>cafe_count_2000</th>\n",
       "      <th>cafe_sum_2000_min_price_avg</th>\n",
       "      <th>cafe_sum_2000_max_price_avg</th>\n",
       "      <th>cafe_avg_price_2000</th>\n",
       "      <th>cafe_count_2000_na_price</th>\n",
       "      <th>cafe_count_2000_price_500</th>\n",
       "      <th>cafe_count_2000_price_1000</th>\n",
       "      <th>cafe_count_2000_price_1500</th>\n",
       "      <th>cafe_count_2000_price_2500</th>\n",
       "      <th>cafe_count_2000_price_4000</th>\n",
       "      <th>cafe_count_2000_price_high</th>\n",
       "      <th>big_church_count_2000</th>\n",
       "      <th>church_count_2000</th>\n",
       "      <th>mosque_count_2000</th>\n",
       "      <th>leisure_count_2000</th>\n",
       "      <th>sport_count_2000</th>\n",
       "      <th>market_count_2000</th>\n",
       "    </tr>\n",
       "  </thead>\n",
       "  <tbody>\n",
       "    <tr>\n",
       "      <th>0</th>\n",
       "      <td>11.77</td>\n",
       "      <td>15.97</td>\n",
       "      <td>9</td>\n",
       "      <td>188854</td>\n",
       "      <td>19</td>\n",
       "      <td>1244891</td>\n",
       "      <td>36</td>\n",
       "      <td>614.29</td>\n",
       "      <td>1042.86</td>\n",
       "      <td>828.57</td>\n",
       "      <td>1</td>\n",
       "      <td>15</td>\n",
       "      <td>11</td>\n",
       "      <td>6</td>\n",
       "      <td>2</td>\n",
       "      <td>1</td>\n",
       "      <td>0</td>\n",
       "      <td>1</td>\n",
       "      <td>2</td>\n",
       "      <td>0</td>\n",
       "      <td>0</td>\n",
       "      <td>10</td>\n",
       "      <td>1</td>\n",
       "    </tr>\n",
       "    <tr>\n",
       "      <th>1</th>\n",
       "      <td>22.37</td>\n",
       "      <td>19.25</td>\n",
       "      <td>4</td>\n",
       "      <td>165510</td>\n",
       "      <td>8</td>\n",
       "      <td>179065</td>\n",
       "      <td>21</td>\n",
       "      <td>695.24</td>\n",
       "      <td>1190.48</td>\n",
       "      <td>942.86</td>\n",
       "      <td>0</td>\n",
       "      <td>7</td>\n",
       "      <td>8</td>\n",
       "      <td>3</td>\n",
       "      <td>2</td>\n",
       "      <td>1</td>\n",
       "      <td>0</td>\n",
       "      <td>1</td>\n",
       "      <td>5</td>\n",
       "      <td>0</td>\n",
       "      <td>4</td>\n",
       "      <td>11</td>\n",
       "      <td>0</td>\n",
       "    </tr>\n",
       "    <tr>\n",
       "      <th>2</th>\n",
       "      <td>12.99</td>\n",
       "      <td>12.75</td>\n",
       "      <td>4</td>\n",
       "      <td>100200</td>\n",
       "      <td>7</td>\n",
       "      <td>52550</td>\n",
       "      <td>24</td>\n",
       "      <td>563.64</td>\n",
       "      <td>977.27</td>\n",
       "      <td>770.45</td>\n",
       "      <td>2</td>\n",
       "      <td>8</td>\n",
       "      <td>9</td>\n",
       "      <td>4</td>\n",
       "      <td>1</td>\n",
       "      <td>0</td>\n",
       "      <td>0</td>\n",
       "      <td>0</td>\n",
       "      <td>4</td>\n",
       "      <td>0</td>\n",
       "      <td>0</td>\n",
       "      <td>8</td>\n",
       "      <td>5</td>\n",
       "    </tr>\n",
       "    <tr>\n",
       "      <th>3</th>\n",
       "      <td>32.29</td>\n",
       "      <td>5.73</td>\n",
       "      <td>2</td>\n",
       "      <td>11000</td>\n",
       "      <td>7</td>\n",
       "      <td>89492</td>\n",
       "      <td>25</td>\n",
       "      <td>660.00</td>\n",
       "      <td>1120.00</td>\n",
       "      <td>890.00</td>\n",
       "      <td>0</td>\n",
       "      <td>5</td>\n",
       "      <td>11</td>\n",
       "      <td>8</td>\n",
       "      <td>1</td>\n",
       "      <td>0</td>\n",
       "      <td>0</td>\n",
       "      <td>1</td>\n",
       "      <td>1</td>\n",
       "      <td>0</td>\n",
       "      <td>0</td>\n",
       "      <td>13</td>\n",
       "      <td>2</td>\n",
       "    </tr>\n",
       "  </tbody>\n",
       "</table>\n",
       "</div>"
      ],
      "text/plain": [
       "   green_part_2000  prom_part_2000  office_count_2000  office_sqm_2000  \\\n",
       "0            11.77           15.97                  9           188854   \n",
       "1            22.37           19.25                  4           165510   \n",
       "2            12.99           12.75                  4           100200   \n",
       "3            32.29            5.73                  2            11000   \n",
       "\n",
       "   trc_count_2000  trc_sqm_2000  cafe_count_2000  cafe_sum_2000_min_price_avg  \\\n",
       "0              19       1244891               36                       614.29   \n",
       "1               8        179065               21                       695.24   \n",
       "2               7         52550               24                       563.64   \n",
       "3               7         89492               25                       660.00   \n",
       "\n",
       "   cafe_sum_2000_max_price_avg  cafe_avg_price_2000  cafe_count_2000_na_price  \\\n",
       "0                      1042.86               828.57                         1   \n",
       "1                      1190.48               942.86                         0   \n",
       "2                       977.27               770.45                         2   \n",
       "3                      1120.00               890.00                         0   \n",
       "\n",
       "   cafe_count_2000_price_500  cafe_count_2000_price_1000  \\\n",
       "0                         15                          11   \n",
       "1                          7                           8   \n",
       "2                          8                           9   \n",
       "3                          5                          11   \n",
       "\n",
       "   cafe_count_2000_price_1500  cafe_count_2000_price_2500  \\\n",
       "0                           6                           2   \n",
       "1                           3                           2   \n",
       "2                           4                           1   \n",
       "3                           8                           1   \n",
       "\n",
       "   cafe_count_2000_price_4000  cafe_count_2000_price_high  \\\n",
       "0                           1                           0   \n",
       "1                           1                           0   \n",
       "2                           0                           0   \n",
       "3                           0                           0   \n",
       "\n",
       "   big_church_count_2000  church_count_2000  mosque_count_2000  \\\n",
       "0                      1                  2                  0   \n",
       "1                      1                  5                  0   \n",
       "2                      0                  4                  0   \n",
       "3                      1                  1                  0   \n",
       "\n",
       "   leisure_count_2000  sport_count_2000  market_count_2000  \n",
       "0                   0                10                  1  \n",
       "1                   4                11                  0  \n",
       "2                   0                 8                  5  \n",
       "3                   0                13                  2  "
      ]
     },
     "execution_count": 50,
     "metadata": {},
     "output_type": "execute_result"
    }
   ],
   "source": [
    "count_2000_columns = ['green_part_2000', 'prom_part_2000', 'office_count_2000', 'office_sqm_2000', 'trc_count_2000', 'trc_sqm_2000', \n",
    "                      'cafe_count_2000', 'cafe_sum_2000_min_price_avg', 'cafe_sum_2000_max_price_avg', 'cafe_avg_price_2000', 'cafe_count_2000_na_price',\n",
    "                      'cafe_count_2000_price_500', 'cafe_count_2000_price_1000', 'cafe_count_2000_price_1500', 'cafe_count_2000_price_2500',\n",
    "                      'cafe_count_2000_price_4000', 'cafe_count_2000_price_high',\n",
    "                      'big_church_count_2000', 'church_count_2000', 'mosque_count_2000',\n",
    "                      'leisure_count_2000', 'sport_count_2000', 'market_count_2000']\n",
    "train_df.loc[:3,count_2000_columns]"
   ]
  },
  {
   "cell_type": "markdown",
   "metadata": {
    "heading_collapsed": true,
    "hidden": true,
    "scrolled": true
   },
   "source": [
    "### 3000"
   ]
  },
  {
   "cell_type": "code",
   "execution_count": 51,
   "metadata": {
    "hidden": true,
    "scrolled": false
   },
   "outputs": [
    {
     "data": {
      "text/html": [
       "<div>\n",
       "<table border=\"1\" class=\"dataframe\">\n",
       "  <thead>\n",
       "    <tr style=\"text-align: right;\">\n",
       "      <th></th>\n",
       "      <th>green_part_3000</th>\n",
       "      <th>prom_part_3000</th>\n",
       "      <th>office_count_3000</th>\n",
       "      <th>office_sqm_3000</th>\n",
       "      <th>trc_count_3000</th>\n",
       "      <th>trc_sqm_3000</th>\n",
       "      <th>cafe_count_3000</th>\n",
       "      <th>cafe_sum_3000_min_price_avg</th>\n",
       "      <th>cafe_sum_3000_max_price_avg</th>\n",
       "      <th>cafe_avg_price_3000</th>\n",
       "      <th>cafe_count_3000_na_price</th>\n",
       "      <th>cafe_count_3000_price_500</th>\n",
       "      <th>cafe_count_3000_price_1000</th>\n",
       "      <th>cafe_count_3000_price_1500</th>\n",
       "      <th>cafe_count_3000_price_2500</th>\n",
       "      <th>cafe_count_3000_price_4000</th>\n",
       "      <th>cafe_count_3000_price_high</th>\n",
       "      <th>big_church_count_3000</th>\n",
       "      <th>church_count_3000</th>\n",
       "      <th>mosque_count_3000</th>\n",
       "      <th>leisure_count_3000</th>\n",
       "      <th>sport_count_3000</th>\n",
       "      <th>market_count_3000</th>\n",
       "    </tr>\n",
       "  </thead>\n",
       "  <tbody>\n",
       "    <tr>\n",
       "      <th>0</th>\n",
       "      <td>11.98</td>\n",
       "      <td>13.55</td>\n",
       "      <td>12</td>\n",
       "      <td>251554</td>\n",
       "      <td>23</td>\n",
       "      <td>1419204</td>\n",
       "      <td>68</td>\n",
       "      <td>639.68</td>\n",
       "      <td>1079.37</td>\n",
       "      <td>859.52</td>\n",
       "      <td>5</td>\n",
       "      <td>21</td>\n",
       "      <td>22</td>\n",
       "      <td>16</td>\n",
       "      <td>3</td>\n",
       "      <td>1</td>\n",
       "      <td>0</td>\n",
       "      <td>2</td>\n",
       "      <td>4</td>\n",
       "      <td>0</td>\n",
       "      <td>0</td>\n",
       "      <td>21</td>\n",
       "      <td>1</td>\n",
       "    </tr>\n",
       "    <tr>\n",
       "      <th>1</th>\n",
       "      <td>18.07</td>\n",
       "      <td>27.32</td>\n",
       "      <td>12</td>\n",
       "      <td>821986</td>\n",
       "      <td>14</td>\n",
       "      <td>491565</td>\n",
       "      <td>30</td>\n",
       "      <td>631.03</td>\n",
       "      <td>1086.21</td>\n",
       "      <td>858.62</td>\n",
       "      <td>1</td>\n",
       "      <td>11</td>\n",
       "      <td>11</td>\n",
       "      <td>4</td>\n",
       "      <td>2</td>\n",
       "      <td>1</td>\n",
       "      <td>0</td>\n",
       "      <td>1</td>\n",
       "      <td>7</td>\n",
       "      <td>0</td>\n",
       "      <td>6</td>\n",
       "      <td>19</td>\n",
       "      <td>1</td>\n",
       "    </tr>\n",
       "    <tr>\n",
       "      <th>2</th>\n",
       "      <td>12.14</td>\n",
       "      <td>26.46</td>\n",
       "      <td>8</td>\n",
       "      <td>110856</td>\n",
       "      <td>7</td>\n",
       "      <td>52550</td>\n",
       "      <td>41</td>\n",
       "      <td>697.44</td>\n",
       "      <td>1192.31</td>\n",
       "      <td>944.87</td>\n",
       "      <td>2</td>\n",
       "      <td>9</td>\n",
       "      <td>17</td>\n",
       "      <td>9</td>\n",
       "      <td>3</td>\n",
       "      <td>1</td>\n",
       "      <td>0</td>\n",
       "      <td>0</td>\n",
       "      <td>11</td>\n",
       "      <td>0</td>\n",
       "      <td>0</td>\n",
       "      <td>20</td>\n",
       "      <td>6</td>\n",
       "    </tr>\n",
       "    <tr>\n",
       "      <th>3</th>\n",
       "      <td>20.79</td>\n",
       "      <td>3.57</td>\n",
       "      <td>4</td>\n",
       "      <td>167000</td>\n",
       "      <td>12</td>\n",
       "      <td>205756</td>\n",
       "      <td>32</td>\n",
       "      <td>718.75</td>\n",
       "      <td>1218.75</td>\n",
       "      <td>968.75</td>\n",
       "      <td>0</td>\n",
       "      <td>5</td>\n",
       "      <td>14</td>\n",
       "      <td>10</td>\n",
       "      <td>3</td>\n",
       "      <td>0</td>\n",
       "      <td>0</td>\n",
       "      <td>1</td>\n",
       "      <td>2</td>\n",
       "      <td>0</td>\n",
       "      <td>0</td>\n",
       "      <td>18</td>\n",
       "      <td>3</td>\n",
       "    </tr>\n",
       "  </tbody>\n",
       "</table>\n",
       "</div>"
      ],
      "text/plain": [
       "   green_part_3000  prom_part_3000  office_count_3000  office_sqm_3000  \\\n",
       "0            11.98           13.55                 12           251554   \n",
       "1            18.07           27.32                 12           821986   \n",
       "2            12.14           26.46                  8           110856   \n",
       "3            20.79            3.57                  4           167000   \n",
       "\n",
       "   trc_count_3000  trc_sqm_3000  cafe_count_3000  cafe_sum_3000_min_price_avg  \\\n",
       "0              23       1419204               68                       639.68   \n",
       "1              14        491565               30                       631.03   \n",
       "2               7         52550               41                       697.44   \n",
       "3              12        205756               32                       718.75   \n",
       "\n",
       "   cafe_sum_3000_max_price_avg  cafe_avg_price_3000  cafe_count_3000_na_price  \\\n",
       "0                      1079.37               859.52                         5   \n",
       "1                      1086.21               858.62                         1   \n",
       "2                      1192.31               944.87                         2   \n",
       "3                      1218.75               968.75                         0   \n",
       "\n",
       "   cafe_count_3000_price_500  cafe_count_3000_price_1000  \\\n",
       "0                         21                          22   \n",
       "1                         11                          11   \n",
       "2                          9                          17   \n",
       "3                          5                          14   \n",
       "\n",
       "   cafe_count_3000_price_1500  cafe_count_3000_price_2500  \\\n",
       "0                          16                           3   \n",
       "1                           4                           2   \n",
       "2                           9                           3   \n",
       "3                          10                           3   \n",
       "\n",
       "   cafe_count_3000_price_4000  cafe_count_3000_price_high  \\\n",
       "0                           1                           0   \n",
       "1                           1                           0   \n",
       "2                           1                           0   \n",
       "3                           0                           0   \n",
       "\n",
       "   big_church_count_3000  church_count_3000  mosque_count_3000  \\\n",
       "0                      2                  4                  0   \n",
       "1                      1                  7                  0   \n",
       "2                      0                 11                  0   \n",
       "3                      1                  2                  0   \n",
       "\n",
       "   leisure_count_3000  sport_count_3000  market_count_3000  \n",
       "0                   0                21                  1  \n",
       "1                   6                19                  1  \n",
       "2                   0                20                  6  \n",
       "3                   0                18                  3  "
      ]
     },
     "execution_count": 51,
     "metadata": {},
     "output_type": "execute_result"
    }
   ],
   "source": [
    "count_3000_columns = ['green_part_3000', 'prom_part_3000', 'office_count_3000', 'office_sqm_3000', 'trc_count_3000', 'trc_sqm_3000', \n",
    "                      'cafe_count_3000', 'cafe_sum_3000_min_price_avg', 'cafe_sum_3000_max_price_avg', 'cafe_avg_price_3000', 'cafe_count_3000_na_price',\n",
    "                      'cafe_count_3000_price_500', 'cafe_count_3000_price_1000', 'cafe_count_3000_price_1500', 'cafe_count_3000_price_2500',\n",
    "                      'cafe_count_3000_price_4000', 'cafe_count_3000_price_high',\n",
    "                      'big_church_count_3000', 'church_count_3000', 'mosque_count_3000',\n",
    "                      'leisure_count_3000', 'sport_count_3000', 'market_count_3000']\n",
    "train_df.loc[:3,count_3000_columns]"
   ]
  },
  {
   "cell_type": "markdown",
   "metadata": {
    "hidden": true,
    "scrolled": true
   },
   "source": [
    "### 5000"
   ]
  },
  {
   "cell_type": "code",
   "execution_count": 52,
   "metadata": {
    "hidden": true,
    "scrolled": false
   },
   "outputs": [
    {
     "data": {
      "text/html": [
       "<div>\n",
       "<table border=\"1\" class=\"dataframe\">\n",
       "  <thead>\n",
       "    <tr style=\"text-align: right;\">\n",
       "      <th></th>\n",
       "      <th>green_part_5000</th>\n",
       "      <th>prom_part_5000</th>\n",
       "      <th>office_count_5000</th>\n",
       "      <th>office_sqm_5000</th>\n",
       "      <th>trc_count_5000</th>\n",
       "      <th>trc_sqm_5000</th>\n",
       "      <th>cafe_count_5000</th>\n",
       "      <th>cafe_sum_5000_min_price_avg</th>\n",
       "      <th>cafe_sum_5000_max_price_avg</th>\n",
       "      <th>cafe_avg_price_5000</th>\n",
       "      <th>cafe_count_5000_na_price</th>\n",
       "      <th>cafe_count_5000_price_500</th>\n",
       "      <th>cafe_count_5000_price_1000</th>\n",
       "      <th>cafe_count_5000_price_1500</th>\n",
       "      <th>cafe_count_5000_price_2500</th>\n",
       "      <th>cafe_count_5000_price_4000</th>\n",
       "      <th>cafe_count_5000_price_high</th>\n",
       "      <th>big_church_count_5000</th>\n",
       "      <th>church_count_5000</th>\n",
       "      <th>mosque_count_5000</th>\n",
       "      <th>leisure_count_5000</th>\n",
       "      <th>sport_count_5000</th>\n",
       "      <th>market_count_5000</th>\n",
       "    </tr>\n",
       "  </thead>\n",
       "  <tbody>\n",
       "    <tr>\n",
       "      <th>0</th>\n",
       "      <td>13.09</td>\n",
       "      <td>13.31</td>\n",
       "      <td>29</td>\n",
       "      <td>807385</td>\n",
       "      <td>52</td>\n",
       "      <td>4036616</td>\n",
       "      <td>152</td>\n",
       "      <td>708.57</td>\n",
       "      <td>1185.71</td>\n",
       "      <td>947.14</td>\n",
       "      <td>12</td>\n",
       "      <td>39</td>\n",
       "      <td>48</td>\n",
       "      <td>40</td>\n",
       "      <td>9</td>\n",
       "      <td>4</td>\n",
       "      <td>0</td>\n",
       "      <td>13</td>\n",
       "      <td>22</td>\n",
       "      <td>1</td>\n",
       "      <td>0</td>\n",
       "      <td>52</td>\n",
       "      <td>4</td>\n",
       "    </tr>\n",
       "    <tr>\n",
       "      <th>1</th>\n",
       "      <td>10.26</td>\n",
       "      <td>27.47</td>\n",
       "      <td>66</td>\n",
       "      <td>2690465</td>\n",
       "      <td>40</td>\n",
       "      <td>2034942</td>\n",
       "      <td>177</td>\n",
       "      <td>673.81</td>\n",
       "      <td>1148.81</td>\n",
       "      <td>911.31</td>\n",
       "      <td>9</td>\n",
       "      <td>49</td>\n",
       "      <td>65</td>\n",
       "      <td>36</td>\n",
       "      <td>15</td>\n",
       "      <td>3</td>\n",
       "      <td>0</td>\n",
       "      <td>15</td>\n",
       "      <td>29</td>\n",
       "      <td>1</td>\n",
       "      <td>10</td>\n",
       "      <td>66</td>\n",
       "      <td>14</td>\n",
       "    </tr>\n",
       "    <tr>\n",
       "      <th>2</th>\n",
       "      <td>13.69</td>\n",
       "      <td>21.58</td>\n",
       "      <td>43</td>\n",
       "      <td>1478160</td>\n",
       "      <td>35</td>\n",
       "      <td>1572990</td>\n",
       "      <td>122</td>\n",
       "      <td>702.68</td>\n",
       "      <td>1196.43</td>\n",
       "      <td>949.55</td>\n",
       "      <td>10</td>\n",
       "      <td>29</td>\n",
       "      <td>45</td>\n",
       "      <td>25</td>\n",
       "      <td>10</td>\n",
       "      <td>3</td>\n",
       "      <td>0</td>\n",
       "      <td>11</td>\n",
       "      <td>27</td>\n",
       "      <td>0</td>\n",
       "      <td>4</td>\n",
       "      <td>67</td>\n",
       "      <td>10</td>\n",
       "    </tr>\n",
       "    <tr>\n",
       "      <th>3</th>\n",
       "      <td>14.18</td>\n",
       "      <td>3.89</td>\n",
       "      <td>8</td>\n",
       "      <td>244166</td>\n",
       "      <td>22</td>\n",
       "      <td>942180</td>\n",
       "      <td>61</td>\n",
       "      <td>931.58</td>\n",
       "      <td>1552.63</td>\n",
       "      <td>1242.11</td>\n",
       "      <td>4</td>\n",
       "      <td>7</td>\n",
       "      <td>21</td>\n",
       "      <td>15</td>\n",
       "      <td>11</td>\n",
       "      <td>2</td>\n",
       "      <td>1</td>\n",
       "      <td>4</td>\n",
       "      <td>4</td>\n",
       "      <td>0</td>\n",
       "      <td>0</td>\n",
       "      <td>26</td>\n",
       "      <td>3</td>\n",
       "    </tr>\n",
       "  </tbody>\n",
       "</table>\n",
       "</div>"
      ],
      "text/plain": [
       "   green_part_5000  prom_part_5000  office_count_5000  office_sqm_5000  \\\n",
       "0            13.09           13.31                 29           807385   \n",
       "1            10.26           27.47                 66          2690465   \n",
       "2            13.69           21.58                 43          1478160   \n",
       "3            14.18            3.89                  8           244166   \n",
       "\n",
       "   trc_count_5000  trc_sqm_5000  cafe_count_5000  cafe_sum_5000_min_price_avg  \\\n",
       "0              52       4036616              152                       708.57   \n",
       "1              40       2034942              177                       673.81   \n",
       "2              35       1572990              122                       702.68   \n",
       "3              22        942180               61                       931.58   \n",
       "\n",
       "   cafe_sum_5000_max_price_avg  cafe_avg_price_5000  cafe_count_5000_na_price  \\\n",
       "0                      1185.71               947.14                        12   \n",
       "1                      1148.81               911.31                         9   \n",
       "2                      1196.43               949.55                        10   \n",
       "3                      1552.63              1242.11                         4   \n",
       "\n",
       "   cafe_count_5000_price_500  cafe_count_5000_price_1000  \\\n",
       "0                         39                          48   \n",
       "1                         49                          65   \n",
       "2                         29                          45   \n",
       "3                          7                          21   \n",
       "\n",
       "   cafe_count_5000_price_1500  cafe_count_5000_price_2500  \\\n",
       "0                          40                           9   \n",
       "1                          36                          15   \n",
       "2                          25                          10   \n",
       "3                          15                          11   \n",
       "\n",
       "   cafe_count_5000_price_4000  cafe_count_5000_price_high  \\\n",
       "0                           4                           0   \n",
       "1                           3                           0   \n",
       "2                           3                           0   \n",
       "3                           2                           1   \n",
       "\n",
       "   big_church_count_5000  church_count_5000  mosque_count_5000  \\\n",
       "0                     13                 22                  1   \n",
       "1                     15                 29                  1   \n",
       "2                     11                 27                  0   \n",
       "3                      4                  4                  0   \n",
       "\n",
       "   leisure_count_5000  sport_count_5000  market_count_5000  \n",
       "0                   0                52                  4  \n",
       "1                  10                66                 14  \n",
       "2                   4                67                 10  \n",
       "3                   0                26                  3  "
      ]
     },
     "execution_count": 52,
     "metadata": {},
     "output_type": "execute_result"
    }
   ],
   "source": [
    "count_5000_columns = ['green_part_5000', 'prom_part_5000', 'office_count_5000', 'office_sqm_5000', 'trc_count_5000', 'trc_sqm_5000', \n",
    "                      'cafe_count_5000', 'cafe_sum_5000_min_price_avg', 'cafe_sum_5000_max_price_avg', 'cafe_avg_price_5000', 'cafe_count_5000_na_price',\n",
    "                      'cafe_count_5000_price_500', 'cafe_count_5000_price_1000', 'cafe_count_5000_price_1500', 'cafe_count_5000_price_2500',\n",
    "                      'cafe_count_5000_price_4000', 'cafe_count_5000_price_high',\n",
    "                      'big_church_count_5000', 'church_count_5000', 'mosque_count_5000',\n",
    "                      'leisure_count_5000', 'sport_count_5000', 'market_count_5000']\n",
    "train_df.loc[:3,count_5000_columns]"
   ]
  },
  {
   "cell_type": "markdown",
   "metadata": {
    "heading_collapsed": true,
    "scrolled": true
   },
   "source": [
    "## Additional macro economic features"
   ]
  },
  {
   "cell_type": "markdown",
   "metadata": {
    "heading_collapsed": true,
    "hidden": true
   },
   "source": [
    "### Oil"
   ]
  },
  {
   "cell_type": "code",
   "execution_count": 53,
   "metadata": {
    "hidden": true
   },
   "outputs": [
    {
     "data": {
      "text/html": [
       "<div>\n",
       "<table border=\"1\" class=\"dataframe\">\n",
       "  <thead>\n",
       "    <tr style=\"text-align: right;\">\n",
       "      <th></th>\n",
       "      <th>oil_urals</th>\n",
       "      <th>brent</th>\n",
       "    </tr>\n",
       "  </thead>\n",
       "  <tbody>\n",
       "    <tr>\n",
       "      <th>0</th>\n",
       "      <td>109.31</td>\n",
       "      <td>108.62</td>\n",
       "    </tr>\n",
       "    <tr>\n",
       "      <th>1</th>\n",
       "      <td>109.31</td>\n",
       "      <td>109.31</td>\n",
       "    </tr>\n",
       "    <tr>\n",
       "      <th>2</th>\n",
       "      <td>109.31</td>\n",
       "      <td>111.36</td>\n",
       "    </tr>\n",
       "  </tbody>\n",
       "</table>\n",
       "</div>"
      ],
      "text/plain": [
       "   oil_urals   brent\n",
       "0     109.31  108.62\n",
       "1     109.31  109.31\n",
       "2     109.31  111.36"
      ]
     },
     "execution_count": 53,
     "metadata": {},
     "output_type": "execute_result"
    }
   ],
   "source": [
    "macro_oil_columns = ['oil_urals', 'brent']\n",
    "train_df.loc[:2, macro_oil_columns]"
   ]
  },
  {
   "cell_type": "markdown",
   "metadata": {
    "heading_collapsed": true,
    "hidden": true
   },
   "source": [
    "### GDP and GRP (domestic and regional)"
   ]
  },
  {
   "cell_type": "code",
   "execution_count": 54,
   "metadata": {
    "hidden": true,
    "scrolled": true
   },
   "outputs": [
    {
     "data": {
      "text/html": [
       "<div>\n",
       "<table border=\"1\" class=\"dataframe\">\n",
       "  <thead>\n",
       "    <tr style=\"text-align: right;\">\n",
       "      <th></th>\n",
       "      <th>gdp_quart</th>\n",
       "      <th>gdp_quart_growth</th>\n",
       "      <th>gdp_deflator</th>\n",
       "      <th>gdp_annual</th>\n",
       "      <th>gdp_annual_growth</th>\n",
       "      <th>grp</th>\n",
       "      <th>grp_growth</th>\n",
       "      <th>income_per_cap</th>\n",
       "      <th>real_dispos_income_per_cap_growth</th>\n",
       "      <th>salary</th>\n",
       "      <th>salary_growth</th>\n",
       "    </tr>\n",
       "  </thead>\n",
       "  <tbody>\n",
       "    <tr>\n",
       "      <th>0</th>\n",
       "      <td>14313.7</td>\n",
       "      <td>3.3</td>\n",
       "      <td>86.721</td>\n",
       "      <td>46308.5</td>\n",
       "      <td>0.045037</td>\n",
       "      <td>9948.7728</td>\n",
       "      <td>0.187791</td>\n",
       "      <td>42688.6</td>\n",
       "      <td>-0.005</td>\n",
       "      <td>44898.7</td>\n",
       "      <td>0.168917</td>\n",
       "    </tr>\n",
       "    <tr>\n",
       "      <th>1</th>\n",
       "      <td>14313.7</td>\n",
       "      <td>3.3</td>\n",
       "      <td>86.721</td>\n",
       "      <td>46308.5</td>\n",
       "      <td>0.045037</td>\n",
       "      <td>9948.7728</td>\n",
       "      <td>0.187791</td>\n",
       "      <td>42688.6</td>\n",
       "      <td>-0.005</td>\n",
       "      <td>44898.7</td>\n",
       "      <td>0.168917</td>\n",
       "    </tr>\n",
       "    <tr>\n",
       "      <th>2</th>\n",
       "      <td>14313.7</td>\n",
       "      <td>3.3</td>\n",
       "      <td>86.721</td>\n",
       "      <td>46308.5</td>\n",
       "      <td>0.045037</td>\n",
       "      <td>9948.7728</td>\n",
       "      <td>0.187791</td>\n",
       "      <td>42688.6</td>\n",
       "      <td>-0.005</td>\n",
       "      <td>44898.7</td>\n",
       "      <td>0.168917</td>\n",
       "    </tr>\n",
       "  </tbody>\n",
       "</table>\n",
       "</div>"
      ],
      "text/plain": [
       "   gdp_quart  gdp_quart_growth  gdp_deflator  gdp_annual  gdp_annual_growth  \\\n",
       "0    14313.7               3.3        86.721     46308.5           0.045037   \n",
       "1    14313.7               3.3        86.721     46308.5           0.045037   \n",
       "2    14313.7               3.3        86.721     46308.5           0.045037   \n",
       "\n",
       "         grp  grp_growth  income_per_cap  real_dispos_income_per_cap_growth  \\\n",
       "0  9948.7728    0.187791         42688.6                             -0.005   \n",
       "1  9948.7728    0.187791         42688.6                             -0.005   \n",
       "2  9948.7728    0.187791         42688.6                             -0.005   \n",
       "\n",
       "    salary  salary_growth  \n",
       "0  44898.7       0.168917  \n",
       "1  44898.7       0.168917  \n",
       "2  44898.7       0.168917  "
      ]
     },
     "execution_count": 54,
     "metadata": {},
     "output_type": "execute_result"
    }
   ],
   "source": [
    "macro_gpd_columns = ['gdp_quart', 'gdp_quart_growth', 'gdp_deflator', 'gdp_annual', 'gdp_annual_growth', 'grp', 'grp_growth', 'income_per_cap',\n",
    "       'real_dispos_income_per_cap_growth', 'salary', 'salary_growth']\n",
    "train_df.loc[:2, macro_gpd_columns]"
   ]
  },
  {
   "cell_type": "markdown",
   "metadata": {
    "heading_collapsed": true,
    "hidden": true
   },
   "source": [
    "### General Indexes (Consumer & Producer, Russia Trading System, micex Moscow Exchange)"
   ]
  },
  {
   "cell_type": "code",
   "execution_count": 55,
   "metadata": {
    "hidden": true
   },
   "outputs": [
    {
     "data": {
      "text/html": [
       "<div>\n",
       "<table border=\"1\" class=\"dataframe\">\n",
       "  <thead>\n",
       "    <tr style=\"text-align: right;\">\n",
       "      <th></th>\n",
       "      <th>cpi</th>\n",
       "      <th>ppi</th>\n",
       "      <th>rts</th>\n",
       "      <th>micex</th>\n",
       "      <th>micex_rgbi_tr</th>\n",
       "      <th>micex_cbi_tr</th>\n",
       "      <th>fixed_basket</th>\n",
       "    </tr>\n",
       "  </thead>\n",
       "  <tbody>\n",
       "    <tr>\n",
       "      <th>0</th>\n",
       "      <td>354.0</td>\n",
       "      <td>420.7</td>\n",
       "      <td>1575.33</td>\n",
       "      <td>1438.74</td>\n",
       "      <td>131.16</td>\n",
       "      <td>204.78</td>\n",
       "      <td>12838.36</td>\n",
       "    </tr>\n",
       "    <tr>\n",
       "      <th>1</th>\n",
       "      <td>354.0</td>\n",
       "      <td>420.7</td>\n",
       "      <td>1578.91</td>\n",
       "      <td>1444.11</td>\n",
       "      <td>131.45</td>\n",
       "      <td>204.92</td>\n",
       "      <td>12838.36</td>\n",
       "    </tr>\n",
       "    <tr>\n",
       "      <th>2</th>\n",
       "      <td>354.0</td>\n",
       "      <td>420.7</td>\n",
       "      <td>1596.17</td>\n",
       "      <td>1458.84</td>\n",
       "      <td>131.08</td>\n",
       "      <td>204.84</td>\n",
       "      <td>12838.36</td>\n",
       "    </tr>\n",
       "  </tbody>\n",
       "</table>\n",
       "</div>"
      ],
      "text/plain": [
       "     cpi    ppi      rts    micex  micex_rgbi_tr  micex_cbi_tr  fixed_basket\n",
       "0  354.0  420.7  1575.33  1438.74         131.16        204.78      12838.36\n",
       "1  354.0  420.7  1578.91  1444.11         131.45        204.92      12838.36\n",
       "2  354.0  420.7  1596.17  1458.84         131.08        204.84      12838.36"
      ]
     },
     "execution_count": 55,
     "metadata": {},
     "output_type": "execute_result"
    }
   ],
   "source": [
    "macro_price_indexes_columns = ['cpi', 'ppi', 'rts', 'micex', 'micex_rgbi_tr', 'micex_cbi_tr', 'fixed_basket']\n",
    "train_df.loc[:2, macro_price_indexes_columns]"
   ]
  },
  {
   "cell_type": "markdown",
   "metadata": {
    "heading_collapsed": true,
    "hidden": true
   },
   "source": [
    "### Trade"
   ]
  },
  {
   "cell_type": "code",
   "execution_count": 56,
   "metadata": {
    "hidden": true
   },
   "outputs": [
    {
     "data": {
      "text/html": [
       "<div>\n",
       "<table border=\"1\" class=\"dataframe\">\n",
       "  <thead>\n",
       "    <tr style=\"text-align: right;\">\n",
       "      <th></th>\n",
       "      <th>balance_trade</th>\n",
       "      <th>balance_trade_growth</th>\n",
       "      <th>net_capital_export</th>\n",
       "      <th>retail_trade_turnover</th>\n",
       "      <th>retail_trade_turnover_per_cap</th>\n",
       "      <th>retail_trade_turnover_growth</th>\n",
       "    </tr>\n",
       "  </thead>\n",
       "  <tbody>\n",
       "    <tr>\n",
       "      <th>0</th>\n",
       "      <td>15.459</td>\n",
       "      <td>10.1</td>\n",
       "      <td>0.301811</td>\n",
       "      <td>3322.047</td>\n",
       "      <td>286.952</td>\n",
       "      <td>106.6</td>\n",
       "    </tr>\n",
       "    <tr>\n",
       "      <th>1</th>\n",
       "      <td>15.459</td>\n",
       "      <td>10.1</td>\n",
       "      <td>0.301811</td>\n",
       "      <td>3322.047</td>\n",
       "      <td>286.952</td>\n",
       "      <td>106.6</td>\n",
       "    </tr>\n",
       "    <tr>\n",
       "      <th>2</th>\n",
       "      <td>15.459</td>\n",
       "      <td>10.1</td>\n",
       "      <td>0.301811</td>\n",
       "      <td>3322.047</td>\n",
       "      <td>286.952</td>\n",
       "      <td>106.6</td>\n",
       "    </tr>\n",
       "  </tbody>\n",
       "</table>\n",
       "</div>"
      ],
      "text/plain": [
       "   balance_trade  balance_trade_growth  net_capital_export  \\\n",
       "0         15.459                  10.1            0.301811   \n",
       "1         15.459                  10.1            0.301811   \n",
       "2         15.459                  10.1            0.301811   \n",
       "\n",
       "   retail_trade_turnover  retail_trade_turnover_per_cap  \\\n",
       "0               3322.047                        286.952   \n",
       "1               3322.047                        286.952   \n",
       "2               3322.047                        286.952   \n",
       "\n",
       "   retail_trade_turnover_growth  \n",
       "0                         106.6  \n",
       "1                         106.6  \n",
       "2                         106.6  "
      ]
     },
     "execution_count": 56,
     "metadata": {},
     "output_type": "execute_result"
    }
   ],
   "source": [
    "macro_price_indexes_columns = ['balance_trade', 'balance_trade_growth', 'net_capital_export', 'retail_trade_turnover',\n",
    "                               'retail_trade_turnover_per_cap', 'retail_trade_turnover_growth']\n",
    "train_df.loc[:2, macro_price_indexes_columns]"
   ]
  },
  {
   "cell_type": "markdown",
   "metadata": {
    "heading_collapsed": true,
    "hidden": true
   },
   "source": [
    "### Exchange rates"
   ]
  },
  {
   "cell_type": "code",
   "execution_count": 57,
   "metadata": {
    "hidden": true
   },
   "outputs": [
    {
     "data": {
      "text/html": [
       "<div>\n",
       "<table border=\"1\" class=\"dataframe\">\n",
       "  <thead>\n",
       "    <tr style=\"text-align: right;\">\n",
       "      <th></th>\n",
       "      <th>usdrub</th>\n",
       "      <th>eurrub</th>\n",
       "    </tr>\n",
       "  </thead>\n",
       "  <tbody>\n",
       "    <tr>\n",
       "      <th>0</th>\n",
       "      <td>29.0048</td>\n",
       "      <td>41.7681</td>\n",
       "    </tr>\n",
       "    <tr>\n",
       "      <th>1</th>\n",
       "      <td>28.9525</td>\n",
       "      <td>41.7537</td>\n",
       "    </tr>\n",
       "    <tr>\n",
       "      <th>2</th>\n",
       "      <td>28.8082</td>\n",
       "      <td>41.7114</td>\n",
       "    </tr>\n",
       "  </tbody>\n",
       "</table>\n",
       "</div>"
      ],
      "text/plain": [
       "    usdrub   eurrub\n",
       "0  29.0048  41.7681\n",
       "1  28.9525  41.7537\n",
       "2  28.8082  41.7114"
      ]
     },
     "execution_count": 57,
     "metadata": {},
     "output_type": "execute_result"
    }
   ],
   "source": [
    "macro_exchange_rates_columns = ['usdrub', 'eurrub']\n",
    "train_df.loc[:2, macro_exchange_rates_columns]"
   ]
  },
  {
   "cell_type": "markdown",
   "metadata": {
    "heading_collapsed": true,
    "hidden": true
   },
   "source": [
    "### Build Contract"
   ]
  },
  {
   "cell_type": "code",
   "execution_count": 58,
   "metadata": {
    "hidden": true
   },
   "outputs": [
    {
     "data": {
      "text/html": [
       "<div>\n",
       "<table border=\"1\" class=\"dataframe\">\n",
       "  <thead>\n",
       "    <tr style=\"text-align: right;\">\n",
       "      <th></th>\n",
       "      <th>usdrub</th>\n",
       "      <th>eurrub</th>\n",
       "    </tr>\n",
       "  </thead>\n",
       "  <tbody>\n",
       "    <tr>\n",
       "      <th>0</th>\n",
       "      <td>29.0048</td>\n",
       "      <td>41.7681</td>\n",
       "    </tr>\n",
       "    <tr>\n",
       "      <th>1</th>\n",
       "      <td>28.9525</td>\n",
       "      <td>41.7537</td>\n",
       "    </tr>\n",
       "    <tr>\n",
       "      <th>2</th>\n",
       "      <td>28.8082</td>\n",
       "      <td>41.7114</td>\n",
       "    </tr>\n",
       "  </tbody>\n",
       "</table>\n",
       "</div>"
      ],
      "text/plain": [
       "    usdrub   eurrub\n",
       "0  29.0048  41.7681\n",
       "1  28.9525  41.7537\n",
       "2  28.8082  41.7114"
      ]
     },
     "execution_count": 58,
     "metadata": {},
     "output_type": "execute_result"
    }
   ],
   "source": [
    "macro_build_contract_columns = ['average_provision_of_build_contract', 'average_provision_of_build_contract_moscow']\n",
    "train_df.loc[:2, macro_exchange_rates_columns]"
   ]
  },
  {
   "cell_type": "markdown",
   "metadata": {
    "heading_collapsed": true,
    "hidden": true
   },
   "source": [
    "### Deposits and Mortgages"
   ]
  },
  {
   "cell_type": "code",
   "execution_count": 59,
   "metadata": {
    "hidden": true
   },
   "outputs": [
    {
     "data": {
      "text/html": [
       "<div>\n",
       "<table border=\"1\" class=\"dataframe\">\n",
       "  <thead>\n",
       "    <tr style=\"text-align: right;\">\n",
       "      <th></th>\n",
       "      <th>deposits_value</th>\n",
       "      <th>deposits_growth</th>\n",
       "      <th>deposits_rate</th>\n",
       "      <th>mortgage_value</th>\n",
       "      <th>mortgage_growth</th>\n",
       "      <th>mortgage_rate</th>\n",
       "    </tr>\n",
       "  </thead>\n",
       "  <tbody>\n",
       "    <tr>\n",
       "      <th>0</th>\n",
       "      <td>10618898</td>\n",
       "      <td>0.00974</td>\n",
       "      <td>4.1</td>\n",
       "      <td>323275</td>\n",
       "      <td>1.051914</td>\n",
       "      <td>11.84</td>\n",
       "    </tr>\n",
       "    <tr>\n",
       "      <th>1</th>\n",
       "      <td>10618898</td>\n",
       "      <td>0.00974</td>\n",
       "      <td>4.1</td>\n",
       "      <td>323275</td>\n",
       "      <td>1.051914</td>\n",
       "      <td>11.84</td>\n",
       "    </tr>\n",
       "    <tr>\n",
       "      <th>2</th>\n",
       "      <td>10618898</td>\n",
       "      <td>0.00974</td>\n",
       "      <td>4.1</td>\n",
       "      <td>323275</td>\n",
       "      <td>1.051914</td>\n",
       "      <td>11.84</td>\n",
       "    </tr>\n",
       "  </tbody>\n",
       "</table>\n",
       "</div>"
      ],
      "text/plain": [
       "   deposits_value  deposits_growth  deposits_rate  mortgage_value  \\\n",
       "0        10618898          0.00974            4.1          323275   \n",
       "1        10618898          0.00974            4.1          323275   \n",
       "2        10618898          0.00974            4.1          323275   \n",
       "\n",
       "   mortgage_growth  mortgage_rate  \n",
       "0         1.051914          11.84  \n",
       "1         1.051914          11.84  \n",
       "2         1.051914          11.84  "
      ]
     },
     "execution_count": 59,
     "metadata": {},
     "output_type": "execute_result"
    }
   ],
   "source": [
    "macro_deposits_morgages_columns = ['deposits_value', 'deposits_growth', 'deposits_rate', 'mortgage_value', 'mortgage_growth', 'mortgage_rate']\n",
    "train_df.loc[:2, macro_deposits_morgages_columns]"
   ]
  },
  {
   "cell_type": "markdown",
   "metadata": {
    "heading_collapsed": true,
    "hidden": true
   },
   "source": [
    "### Demographics"
   ]
  },
  {
   "cell_type": "code",
   "execution_count": 60,
   "metadata": {
    "hidden": true
   },
   "outputs": [
    {
     "data": {
      "text/html": [
       "<div>\n",
       "<table border=\"1\" class=\"dataframe\">\n",
       "  <thead>\n",
       "    <tr style=\"text-align: right;\">\n",
       "      <th></th>\n",
       "      <th>labor_force</th>\n",
       "      <th>unemployment</th>\n",
       "      <th>employment</th>\n",
       "      <th>marriages_per_1000_cap</th>\n",
       "      <th>divorce_rate</th>\n",
       "      <th>pop_natural_increase</th>\n",
       "      <th>pop_migration</th>\n",
       "      <th>pop_total_inc</th>\n",
       "      <th>childbirth</th>\n",
       "      <th>mortality</th>\n",
       "      <th>average_life_exp</th>\n",
       "      <th>infant_mortarity_per_1000_cap</th>\n",
       "      <th>perinatal_mort_per_1000_cap</th>\n",
       "      <th>incidence_population</th>\n",
       "    </tr>\n",
       "  </thead>\n",
       "  <tbody>\n",
       "    <tr>\n",
       "      <th>0</th>\n",
       "      <td>6643.626</td>\n",
       "      <td>0.014</td>\n",
       "      <td>0.708</td>\n",
       "      <td>8.5</td>\n",
       "      <td>3.8</td>\n",
       "      <td>1.1</td>\n",
       "      <td>5.1</td>\n",
       "      <td>6.2</td>\n",
       "      <td>10.8</td>\n",
       "      <td>9.7</td>\n",
       "      <td>75.79</td>\n",
       "      <td>6.2</td>\n",
       "      <td>5.53</td>\n",
       "      <td>715.1</td>\n",
       "    </tr>\n",
       "    <tr>\n",
       "      <th>1</th>\n",
       "      <td>6643.626</td>\n",
       "      <td>0.014</td>\n",
       "      <td>0.708</td>\n",
       "      <td>8.5</td>\n",
       "      <td>3.8</td>\n",
       "      <td>1.1</td>\n",
       "      <td>5.1</td>\n",
       "      <td>6.2</td>\n",
       "      <td>10.8</td>\n",
       "      <td>9.7</td>\n",
       "      <td>75.79</td>\n",
       "      <td>6.2</td>\n",
       "      <td>5.53</td>\n",
       "      <td>715.1</td>\n",
       "    </tr>\n",
       "    <tr>\n",
       "      <th>2</th>\n",
       "      <td>6643.626</td>\n",
       "      <td>0.014</td>\n",
       "      <td>0.708</td>\n",
       "      <td>8.5</td>\n",
       "      <td>3.8</td>\n",
       "      <td>1.1</td>\n",
       "      <td>5.1</td>\n",
       "      <td>6.2</td>\n",
       "      <td>10.8</td>\n",
       "      <td>9.7</td>\n",
       "      <td>75.79</td>\n",
       "      <td>6.2</td>\n",
       "      <td>5.53</td>\n",
       "      <td>715.1</td>\n",
       "    </tr>\n",
       "  </tbody>\n",
       "</table>\n",
       "</div>"
      ],
      "text/plain": [
       "   labor_force  unemployment  employment  marriages_per_1000_cap  \\\n",
       "0     6643.626         0.014       0.708                     8.5   \n",
       "1     6643.626         0.014       0.708                     8.5   \n",
       "2     6643.626         0.014       0.708                     8.5   \n",
       "\n",
       "   divorce_rate  pop_natural_increase  pop_migration  pop_total_inc  \\\n",
       "0           3.8                   1.1            5.1            6.2   \n",
       "1           3.8                   1.1            5.1            6.2   \n",
       "2           3.8                   1.1            5.1            6.2   \n",
       "\n",
       "   childbirth  mortality  average_life_exp  infant_mortarity_per_1000_cap  \\\n",
       "0        10.8        9.7             75.79                            6.2   \n",
       "1        10.8        9.7             75.79                            6.2   \n",
       "2        10.8        9.7             75.79                            6.2   \n",
       "\n",
       "   perinatal_mort_per_1000_cap  incidence_population  \n",
       "0                         5.53                 715.1  \n",
       "1                         5.53                 715.1  \n",
       "2                         5.53                 715.1  "
      ]
     },
     "execution_count": 60,
     "metadata": {},
     "output_type": "execute_result"
    }
   ],
   "source": [
    "macro_demographics_columns = ['labor_force', 'unemployment', 'employment', 'marriages_per_1000_cap', 'divorce_rate', 'pop_natural_increase', \n",
    "                              'pop_migration', 'pop_total_inc', 'childbirth', 'mortality', 'average_life_exp', 'infant_mortarity_per_1000_cap',\n",
    "                              'perinatal_mort_per_1000_cap', 'incidence_population']\n",
    "train_df.loc[:2, macro_demographics_columns]"
   ]
  },
  {
   "cell_type": "markdown",
   "metadata": {
    "heading_collapsed": true,
    "hidden": true
   },
   "source": [
    "### Investments and Enterprises"
   ]
  },
  {
   "cell_type": "code",
   "execution_count": 61,
   "metadata": {
    "hidden": true
   },
   "outputs": [
    {
     "data": {
      "text/html": [
       "<div>\n",
       "<table border=\"1\" class=\"dataframe\">\n",
       "  <thead>\n",
       "    <tr style=\"text-align: right;\">\n",
       "      <th></th>\n",
       "      <th>invest_fixed_capital_per_cap</th>\n",
       "      <th>invest_fixed_assets</th>\n",
       "      <th>invest_fixed_assets_phys</th>\n",
       "      <th>profitable_enterpr_share</th>\n",
       "      <th>unprofitable_enterpr_share</th>\n",
       "      <th>share_own_revenues</th>\n",
       "      <th>overdue_wages_per_cap</th>\n",
       "      <th>fin_res_per_cap</th>\n",
       "    </tr>\n",
       "  </thead>\n",
       "  <tbody>\n",
       "    <tr>\n",
       "      <th>0</th>\n",
       "      <td>73976.19863</td>\n",
       "      <td>856.424079</td>\n",
       "      <td>106.6</td>\n",
       "      <td>0.708</td>\n",
       "      <td>0.292</td>\n",
       "      <td>0.891478</td>\n",
       "      <td>53636.0</td>\n",
       "      <td>226.214157</td>\n",
       "    </tr>\n",
       "    <tr>\n",
       "      <th>1</th>\n",
       "      <td>73976.19863</td>\n",
       "      <td>856.424079</td>\n",
       "      <td>106.6</td>\n",
       "      <td>0.708</td>\n",
       "      <td>0.292</td>\n",
       "      <td>0.891478</td>\n",
       "      <td>53636.0</td>\n",
       "      <td>226.214157</td>\n",
       "    </tr>\n",
       "    <tr>\n",
       "      <th>2</th>\n",
       "      <td>73976.19863</td>\n",
       "      <td>856.424079</td>\n",
       "      <td>106.6</td>\n",
       "      <td>0.708</td>\n",
       "      <td>0.292</td>\n",
       "      <td>0.891478</td>\n",
       "      <td>53636.0</td>\n",
       "      <td>226.214157</td>\n",
       "    </tr>\n",
       "  </tbody>\n",
       "</table>\n",
       "</div>"
      ],
      "text/plain": [
       "   invest_fixed_capital_per_cap  invest_fixed_assets  \\\n",
       "0                   73976.19863           856.424079   \n",
       "1                   73976.19863           856.424079   \n",
       "2                   73976.19863           856.424079   \n",
       "\n",
       "   invest_fixed_assets_phys  profitable_enterpr_share  \\\n",
       "0                     106.6                     0.708   \n",
       "1                     106.6                     0.708   \n",
       "2                     106.6                     0.708   \n",
       "\n",
       "   unprofitable_enterpr_share  share_own_revenues  overdue_wages_per_cap  \\\n",
       "0                       0.292            0.891478                53636.0   \n",
       "1                       0.292            0.891478                53636.0   \n",
       "2                       0.292            0.891478                53636.0   \n",
       "\n",
       "   fin_res_per_cap  \n",
       "0       226.214157  \n",
       "1       226.214157  \n",
       "2       226.214157  "
      ]
     },
     "execution_count": 61,
     "metadata": {},
     "output_type": "execute_result"
    }
   ],
   "source": [
    "macro_invest_enterprises_columns = ['invest_fixed_capital_per_cap', 'invest_fixed_assets', 'invest_fixed_assets_phys', 'profitable_enterpr_share', 'unprofitable_enterpr_share', \n",
    "                                    'share_own_revenues', 'overdue_wages_per_cap', 'fin_res_per_cap']\n",
    "train_df.loc[:2, macro_invest_enterprises_columns]"
   ]
  },
  {
   "cell_type": "markdown",
   "metadata": {
    "heading_collapsed": true,
    "hidden": true
   },
   "source": [
    "### Housing"
   ]
  },
  {
   "cell_type": "code",
   "execution_count": 62,
   "metadata": {
    "hidden": true
   },
   "outputs": [
    {
     "data": {
      "text/html": [
       "<div>\n",
       "<table border=\"1\" class=\"dataframe\">\n",
       "  <thead>\n",
       "    <tr style=\"text-align: right;\">\n",
       "      <th></th>\n",
       "      <th>housing_fund_sqm</th>\n",
       "      <th>lodging_sqm_per_cap</th>\n",
       "      <th>water_pipes_share</th>\n",
       "      <th>baths_share</th>\n",
       "      <th>sewerage_share</th>\n",
       "      <th>gas_share</th>\n",
       "      <th>hot_water_share</th>\n",
       "      <th>electric_stove_share</th>\n",
       "      <th>heating_share</th>\n",
       "      <th>old_house_share</th>\n",
       "      <th>rent_price_4+room_bus</th>\n",
       "      <th>rent_price_3room_bus</th>\n",
       "      <th>rent_price_2room_bus</th>\n",
       "      <th>rent_price_1room_bus</th>\n",
       "      <th>rent_price_3room_eco</th>\n",
       "      <th>rent_price_2room_eco</th>\n",
       "      <th>rent_price_1room_eco</th>\n",
       "      <th>apartment_build</th>\n",
       "      <th>apartment_fund_sqm</th>\n",
       "    </tr>\n",
       "  </thead>\n",
       "  <tbody>\n",
       "    <tr>\n",
       "      <th>0</th>\n",
       "      <td>218.0</td>\n",
       "      <td>18.772066</td>\n",
       "      <td>99.9</td>\n",
       "      <td>99.8</td>\n",
       "      <td>99.5</td>\n",
       "      <td>43.9</td>\n",
       "      <td>95.7</td>\n",
       "      <td>55.3</td>\n",
       "      <td>99.9</td>\n",
       "      <td>0.3</td>\n",
       "      <td>136.11</td>\n",
       "      <td>77.93</td>\n",
       "      <td>62.89</td>\n",
       "      <td>47.85</td>\n",
       "      <td>41.8</td>\n",
       "      <td>36.77</td>\n",
       "      <td>29.07</td>\n",
       "      <td>23587.0</td>\n",
       "      <td>230310.0</td>\n",
       "    </tr>\n",
       "    <tr>\n",
       "      <th>1</th>\n",
       "      <td>218.0</td>\n",
       "      <td>18.772066</td>\n",
       "      <td>99.9</td>\n",
       "      <td>99.8</td>\n",
       "      <td>99.5</td>\n",
       "      <td>43.9</td>\n",
       "      <td>95.7</td>\n",
       "      <td>55.3</td>\n",
       "      <td>99.9</td>\n",
       "      <td>0.3</td>\n",
       "      <td>136.11</td>\n",
       "      <td>77.93</td>\n",
       "      <td>62.89</td>\n",
       "      <td>47.85</td>\n",
       "      <td>41.8</td>\n",
       "      <td>36.77</td>\n",
       "      <td>29.07</td>\n",
       "      <td>23587.0</td>\n",
       "      <td>230310.0</td>\n",
       "    </tr>\n",
       "    <tr>\n",
       "      <th>2</th>\n",
       "      <td>218.0</td>\n",
       "      <td>18.772066</td>\n",
       "      <td>99.9</td>\n",
       "      <td>99.8</td>\n",
       "      <td>99.5</td>\n",
       "      <td>43.9</td>\n",
       "      <td>95.7</td>\n",
       "      <td>55.3</td>\n",
       "      <td>99.9</td>\n",
       "      <td>0.3</td>\n",
       "      <td>136.11</td>\n",
       "      <td>77.93</td>\n",
       "      <td>62.89</td>\n",
       "      <td>47.85</td>\n",
       "      <td>41.8</td>\n",
       "      <td>36.77</td>\n",
       "      <td>29.07</td>\n",
       "      <td>23587.0</td>\n",
       "      <td>230310.0</td>\n",
       "    </tr>\n",
       "  </tbody>\n",
       "</table>\n",
       "</div>"
      ],
      "text/plain": [
       "   housing_fund_sqm  lodging_sqm_per_cap  water_pipes_share  baths_share  \\\n",
       "0             218.0            18.772066               99.9         99.8   \n",
       "1             218.0            18.772066               99.9         99.8   \n",
       "2             218.0            18.772066               99.9         99.8   \n",
       "\n",
       "   sewerage_share  gas_share  hot_water_share  electric_stove_share  \\\n",
       "0            99.5       43.9             95.7                  55.3   \n",
       "1            99.5       43.9             95.7                  55.3   \n",
       "2            99.5       43.9             95.7                  55.3   \n",
       "\n",
       "   heating_share  old_house_share  rent_price_4+room_bus  \\\n",
       "0           99.9              0.3                 136.11   \n",
       "1           99.9              0.3                 136.11   \n",
       "2           99.9              0.3                 136.11   \n",
       "\n",
       "   rent_price_3room_bus  rent_price_2room_bus  rent_price_1room_bus  \\\n",
       "0                 77.93                 62.89                 47.85   \n",
       "1                 77.93                 62.89                 47.85   \n",
       "2                 77.93                 62.89                 47.85   \n",
       "\n",
       "   rent_price_3room_eco  rent_price_2room_eco  rent_price_1room_eco  \\\n",
       "0                  41.8                 36.77                 29.07   \n",
       "1                  41.8                 36.77                 29.07   \n",
       "2                  41.8                 36.77                 29.07   \n",
       "\n",
       "   apartment_build  apartment_fund_sqm  \n",
       "0          23587.0            230310.0  \n",
       "1          23587.0            230310.0  \n",
       "2          23587.0            230310.0  "
      ]
     },
     "execution_count": 62,
     "metadata": {},
     "output_type": "execute_result"
    }
   ],
   "source": [
    "macro_housing_columns = ['housing_fund_sqm', 'lodging_sqm_per_cap', 'water_pipes_share', 'baths_share', 'sewerage_share', 'gas_share',\n",
    "                         'hot_water_share', 'electric_stove_share', 'heating_share', 'old_house_share', \n",
    "                         'rent_price_4+room_bus', 'rent_price_3room_bus', 'rent_price_2room_bus', 'rent_price_1room_bus', \n",
    "                         'rent_price_3room_eco',  'rent_price_2room_eco', 'rent_price_1room_eco',\n",
    "                         'apartment_build', 'apartment_fund_sqm']\n",
    "train_df.loc[:2, macro_housing_columns]"
   ]
  },
  {
   "cell_type": "markdown",
   "metadata": {
    "heading_collapsed": true,
    "hidden": true
   },
   "source": [
    "### Education"
   ]
  },
  {
   "cell_type": "code",
   "execution_count": 63,
   "metadata": {
    "hidden": true
   },
   "outputs": [
    {
     "data": {
      "text/html": [
       "<div>\n",
       "<table border=\"1\" class=\"dataframe\">\n",
       "  <thead>\n",
       "    <tr style=\"text-align: right;\">\n",
       "      <th></th>\n",
       "      <th>load_of_teachers_preschool_per_teacher</th>\n",
       "      <th>child_on_acc_pre_school</th>\n",
       "      <th>load_of_teachers_school_per_teacher</th>\n",
       "      <th>students_state_oneshift</th>\n",
       "      <th>modern_education_share</th>\n",
       "      <th>old_education_build_share</th>\n",
       "    </tr>\n",
       "  </thead>\n",
       "  <tbody>\n",
       "    <tr>\n",
       "      <th>0</th>\n",
       "      <td>793.319561</td>\n",
       "      <td>#!</td>\n",
       "      <td>1391.710938</td>\n",
       "      <td>89.0495</td>\n",
       "      <td>NaN</td>\n",
       "      <td>NaN</td>\n",
       "    </tr>\n",
       "    <tr>\n",
       "      <th>1</th>\n",
       "      <td>793.319561</td>\n",
       "      <td>#!</td>\n",
       "      <td>1391.710938</td>\n",
       "      <td>89.0495</td>\n",
       "      <td>NaN</td>\n",
       "      <td>NaN</td>\n",
       "    </tr>\n",
       "    <tr>\n",
       "      <th>2</th>\n",
       "      <td>793.319561</td>\n",
       "      <td>#!</td>\n",
       "      <td>1391.710938</td>\n",
       "      <td>89.0495</td>\n",
       "      <td>NaN</td>\n",
       "      <td>NaN</td>\n",
       "    </tr>\n",
       "  </tbody>\n",
       "</table>\n",
       "</div>"
      ],
      "text/plain": [
       "   load_of_teachers_preschool_per_teacher child_on_acc_pre_school  \\\n",
       "0                              793.319561                      #!   \n",
       "1                              793.319561                      #!   \n",
       "2                              793.319561                      #!   \n",
       "\n",
       "   load_of_teachers_school_per_teacher  students_state_oneshift  \\\n",
       "0                          1391.710938                  89.0495   \n",
       "1                          1391.710938                  89.0495   \n",
       "2                          1391.710938                  89.0495   \n",
       "\n",
       "  modern_education_share old_education_build_share  \n",
       "0                    NaN                       NaN  \n",
       "1                    NaN                       NaN  \n",
       "2                    NaN                       NaN  "
      ]
     },
     "execution_count": 63,
     "metadata": {},
     "output_type": "execute_result"
    }
   ],
   "source": [
    "macro_education_columns = ['load_of_teachers_preschool_per_teacher', 'child_on_acc_pre_school', 'load_of_teachers_school_per_teacher',\n",
    "                           'students_state_oneshift', 'modern_education_share', 'old_education_build_share']\n",
    "train_df.loc[:2, macro_education_columns]"
   ]
  },
  {
   "cell_type": "markdown",
   "metadata": {
    "heading_collapsed": true,
    "hidden": true
   },
   "source": [
    "### Healthcare"
   ]
  },
  {
   "cell_type": "code",
   "execution_count": 64,
   "metadata": {
    "hidden": true
   },
   "outputs": [
    {
     "data": {
      "text/html": [
       "<div>\n",
       "<table border=\"1\" class=\"dataframe\">\n",
       "  <thead>\n",
       "    <tr style=\"text-align: right;\">\n",
       "      <th></th>\n",
       "      <th>provision_doctors</th>\n",
       "      <th>provision_nurse</th>\n",
       "      <th>load_on_doctors</th>\n",
       "      <th>power_clinics</th>\n",
       "      <th>hospital_beds_available_per_cap</th>\n",
       "      <th>hospital_bed_occupancy_per_year</th>\n",
       "    </tr>\n",
       "  </thead>\n",
       "  <tbody>\n",
       "    <tr>\n",
       "      <th>0</th>\n",
       "      <td>65.9</td>\n",
       "      <td>99.6</td>\n",
       "      <td>8180.755454</td>\n",
       "      <td>375.8</td>\n",
       "      <td>846.0</td>\n",
       "      <td>302.0</td>\n",
       "    </tr>\n",
       "    <tr>\n",
       "      <th>1</th>\n",
       "      <td>65.9</td>\n",
       "      <td>99.6</td>\n",
       "      <td>8180.755454</td>\n",
       "      <td>375.8</td>\n",
       "      <td>846.0</td>\n",
       "      <td>302.0</td>\n",
       "    </tr>\n",
       "    <tr>\n",
       "      <th>2</th>\n",
       "      <td>65.9</td>\n",
       "      <td>99.6</td>\n",
       "      <td>8180.755454</td>\n",
       "      <td>375.8</td>\n",
       "      <td>846.0</td>\n",
       "      <td>302.0</td>\n",
       "    </tr>\n",
       "  </tbody>\n",
       "</table>\n",
       "</div>"
      ],
      "text/plain": [
       "   provision_doctors  provision_nurse  load_on_doctors  power_clinics  \\\n",
       "0               65.9             99.6      8180.755454          375.8   \n",
       "1               65.9             99.6      8180.755454          375.8   \n",
       "2               65.9             99.6      8180.755454          375.8   \n",
       "\n",
       "   hospital_beds_available_per_cap  hospital_bed_occupancy_per_year  \n",
       "0                            846.0                            302.0  \n",
       "1                            846.0                            302.0  \n",
       "2                            846.0                            302.0  "
      ]
     },
     "execution_count": 64,
     "metadata": {},
     "output_type": "execute_result"
    }
   ],
   "source": [
    "macro_healthcare_columns = ['provision_doctors', 'provision_nurse', 'load_on_doctors', 'power_clinics', \n",
    "                            'hospital_beds_available_per_cap', 'hospital_bed_occupancy_per_year']\n",
    "train_df.loc[:2, macro_healthcare_columns]"
   ]
  },
  {
   "cell_type": "markdown",
   "metadata": {
    "heading_collapsed": true,
    "hidden": true
   },
   "source": [
    "### Retail"
   ]
  },
  {
   "cell_type": "code",
   "execution_count": 65,
   "metadata": {
    "hidden": true
   },
   "outputs": [
    {
     "data": {
      "text/html": [
       "<div>\n",
       "<table border=\"1\" class=\"dataframe\">\n",
       "  <thead>\n",
       "    <tr style=\"text-align: right;\">\n",
       "      <th></th>\n",
       "      <th>provision_retail_space_sqm</th>\n",
       "      <th>provision_retail_space_modern_sqm</th>\n",
       "    </tr>\n",
       "  </thead>\n",
       "  <tbody>\n",
       "    <tr>\n",
       "      <th>0</th>\n",
       "      <td>741.0</td>\n",
       "      <td>271.0</td>\n",
       "    </tr>\n",
       "    <tr>\n",
       "      <th>1</th>\n",
       "      <td>741.0</td>\n",
       "      <td>271.0</td>\n",
       "    </tr>\n",
       "    <tr>\n",
       "      <th>2</th>\n",
       "      <td>741.0</td>\n",
       "      <td>271.0</td>\n",
       "    </tr>\n",
       "  </tbody>\n",
       "</table>\n",
       "</div>"
      ],
      "text/plain": [
       "   provision_retail_space_sqm  provision_retail_space_modern_sqm\n",
       "0                       741.0                              271.0\n",
       "1                       741.0                              271.0\n",
       "2                       741.0                              271.0"
      ]
     },
     "execution_count": 65,
     "metadata": {},
     "output_type": "execute_result"
    }
   ],
   "source": [
    "macro_retail_columns = ['provision_retail_space_sqm', 'provision_retail_space_modern_sqm']\n",
    "train_df.loc[:2, macro_retail_columns]"
   ]
  },
  {
   "cell_type": "markdown",
   "metadata": {
    "heading_collapsed": true,
    "hidden": true
   },
   "source": [
    "### Food and Culture"
   ]
  },
  {
   "cell_type": "code",
   "execution_count": 66,
   "metadata": {
    "hidden": true
   },
   "outputs": [
    {
     "data": {
      "text/html": [
       "<div>\n",
       "<table border=\"1\" class=\"dataframe\">\n",
       "  <thead>\n",
       "    <tr style=\"text-align: right;\">\n",
       "      <th></th>\n",
       "      <th>turnover_catering_per_cap</th>\n",
       "      <th>theaters_viewers_per_1000_cap</th>\n",
       "      <th>seats_theather_rfmin_per_100000_cap</th>\n",
       "      <th>museum_visitis_per_100_cap</th>\n",
       "      <th>bandwidth_sports</th>\n",
       "      <th>population_reg_sports_share</th>\n",
       "      <th>students_reg_sports_share</th>\n",
       "    </tr>\n",
       "  </thead>\n",
       "  <tbody>\n",
       "    <tr>\n",
       "      <th>0</th>\n",
       "      <td>6943.0</td>\n",
       "      <td>565.0</td>\n",
       "      <td>0.45356</td>\n",
       "      <td>1240.0</td>\n",
       "      <td>269768.0</td>\n",
       "      <td>22.37</td>\n",
       "      <td>64.12</td>\n",
       "    </tr>\n",
       "    <tr>\n",
       "      <th>1</th>\n",
       "      <td>6943.0</td>\n",
       "      <td>565.0</td>\n",
       "      <td>0.45356</td>\n",
       "      <td>1240.0</td>\n",
       "      <td>269768.0</td>\n",
       "      <td>22.37</td>\n",
       "      <td>64.12</td>\n",
       "    </tr>\n",
       "    <tr>\n",
       "      <th>2</th>\n",
       "      <td>6943.0</td>\n",
       "      <td>565.0</td>\n",
       "      <td>0.45356</td>\n",
       "      <td>1240.0</td>\n",
       "      <td>269768.0</td>\n",
       "      <td>22.37</td>\n",
       "      <td>64.12</td>\n",
       "    </tr>\n",
       "  </tbody>\n",
       "</table>\n",
       "</div>"
      ],
      "text/plain": [
       "   turnover_catering_per_cap  theaters_viewers_per_1000_cap  \\\n",
       "0                     6943.0                          565.0   \n",
       "1                     6943.0                          565.0   \n",
       "2                     6943.0                          565.0   \n",
       "\n",
       "   seats_theather_rfmin_per_100000_cap  museum_visitis_per_100_cap  \\\n",
       "0                              0.45356                      1240.0   \n",
       "1                              0.45356                      1240.0   \n",
       "2                              0.45356                      1240.0   \n",
       "\n",
       "   bandwidth_sports  population_reg_sports_share  students_reg_sports_share  \n",
       "0          269768.0                        22.37                      64.12  \n",
       "1          269768.0                        22.37                      64.12  \n",
       "2          269768.0                        22.37                      64.12  "
      ]
     },
     "execution_count": 66,
     "metadata": {},
     "output_type": "execute_result"
    }
   ],
   "source": [
    "macro_food_culture_columns = ['turnover_catering_per_cap', 'theaters_viewers_per_1000_cap', 'seats_theather_rfmin_per_100000_cap', 'museum_visitis_per_100_cap',\n",
    "                              'bandwidth_sports', 'population_reg_sports_share', 'students_reg_sports_share']\n",
    "train_df.loc[:2, macro_food_culture_columns]"
   ]
  },
  {
   "cell_type": "markdown",
   "metadata": {},
   "source": [
    "# Modeling\n",
    "[back to top](#Table-of-Contents)"
   ]
  },
  {
   "cell_type": "markdown",
   "metadata": {
    "heading_collapsed": true
   },
   "source": [
    "### Deleting unwanted columns"
   ]
  },
  {
   "cell_type": "code",
   "execution_count": 67,
   "metadata": {
    "hidden": true,
    "scrolled": false
   },
   "outputs": [
    {
     "name": "stdout",
     "output_type": "stream",
     "text": [
      "Deleted:  id\n",
      "Deleted:  price_doc\n",
      "Deleted:  price_doc_euro\n",
      "Deleted:  price_doc_dollars\n",
      "Deleted:  id\n",
      "\n",
      " (7662, 399)\n"
     ]
    }
   ],
   "source": [
    "full = del_columns(train_df, [\"id\", \"price_doc\", \"price_doc_euro\", \"price_doc_dollars\"])\n",
    "full = del_columns(test_df, [\"id\"])\n",
    "print(\"\\n\", full.shape)"
   ]
  },
  {
   "cell_type": "code",
   "execution_count": 68,
   "metadata": {
    "hidden": true
   },
   "outputs": [
    {
     "name": "stdout",
     "output_type": "stream",
     "text": [
      "(30471, 399) to numeric only: (30471, 379)\n"
     ]
    }
   ],
   "source": [
    "numeric_columns = get_numeric_columns(train_df)\n",
    "print(train_df.shape, \"to numeric only:\", train_df[numeric_columns].shape)"
   ]
  },
  {
   "cell_type": "markdown",
   "metadata": {
    "heading_collapsed": true
   },
   "source": [
    "## Train Test Split with last year of training set"
   ]
  },
  {
   "cell_type": "code",
   "execution_count": 69,
   "metadata": {
    "hidden": true
   },
   "outputs": [
    {
     "name": "stdout",
     "output_type": "stream",
     "text": [
      "(20483, 379) (9988, 379)\n"
     ]
    }
   ],
   "source": [
    "val_time = 1407\n",
    "dev_indices = np.where(train_df[\"time_yearmonth\"]<val_time)\n",
    "val_indices = np.where(train_df[\"time_yearmonth\"]>=val_time)\n",
    "dev_X = train_df[numeric_columns].ix[dev_indices]\n",
    "val_X = train_df[numeric_columns].ix[val_indices]\n",
    "dev_y = train_y[dev_indices]\n",
    "val_y = train_y[val_indices]\n",
    "print(dev_X.shape, val_X.shape)"
   ]
  },
  {
   "cell_type": "markdown",
   "metadata": {},
   "source": [
    "## Linear Benchmark"
   ]
  },
  {
   "cell_type": "code",
   "execution_count": null,
   "metadata": {
    "collapsed": true
   },
   "outputs": [],
   "source": []
  },
  {
   "cell_type": "markdown",
   "metadata": {},
   "source": [
    "## XGBoost"
   ]
  },
  {
   "cell_type": "code",
   "execution_count": 70,
   "metadata": {},
   "outputs": [
    {
     "name": "stderr",
     "output_type": "stream",
     "text": [
      "/home/frank/anaconda3/lib/python3.6/site-packages/sklearn/cross_validation.py:44: DeprecationWarning: This module was deprecated in version 0.18 in favor of the model_selection module into which all the refactored classes and functions are moved. Also note that the interface of the new CV iterators are different from that of this module. This module will be removed in 0.20.\n",
      "  \"This module will be removed in 0.20.\", DeprecationWarning)\n"
     ]
    }
   ],
   "source": [
    "import xgboost as xgb"
   ]
  },
  {
   "cell_type": "markdown",
   "metadata": {},
   "source": [
    "## LightGBM"
   ]
  },
  {
   "cell_type": "code",
   "execution_count": null,
   "metadata": {
    "collapsed": true
   },
   "outputs": [],
   "source": []
  },
  {
   "cell_type": "markdown",
   "metadata": {},
   "source": [
    "## Neural Network"
   ]
  },
  {
   "cell_type": "code",
   "execution_count": null,
   "metadata": {
    "collapsed": true
   },
   "outputs": [],
   "source": []
  },
  {
   "cell_type": "markdown",
   "metadata": {},
   "source": [
    "## More models"
   ]
  },
  {
   "cell_type": "code",
   "execution_count": null,
   "metadata": {
    "collapsed": true
   },
   "outputs": [],
   "source": []
  },
  {
   "cell_type": "markdown",
   "metadata": {},
   "source": [
    "# Ensembles\n",
    "[back to top](#Table-of-Contents)"
   ]
  },
  {
   "cell_type": "markdown",
   "metadata": {},
   "source": [
    "### Mean Ensemble"
   ]
  },
  {
   "cell_type": "code",
   "execution_count": null,
   "metadata": {
    "collapsed": true
   },
   "outputs": [],
   "source": []
  },
  {
   "cell_type": "markdown",
   "metadata": {
    "collapsed": true
   },
   "source": [
    "### Stacking"
   ]
  },
  {
   "cell_type": "code",
   "execution_count": null,
   "metadata": {
    "collapsed": true
   },
   "outputs": [],
   "source": []
  }
 ],
 "metadata": {
  "anaconda-cloud": {},
  "kernelspec": {
   "display_name": "Python 3",
   "language": "python",
   "name": "python3"
  },
  "language_info": {
   "codemirror_mode": {
    "name": "ipython",
    "version": 3
   },
   "file_extension": ".py",
   "mimetype": "text/x-python",
   "name": "python",
   "nbconvert_exporter": "python",
   "pygments_lexer": "ipython3",
   "version": "3.6.1"
  },
  "toc": {
   "colors": {
    "hover_highlight": "#DAA520",
    "running_highlight": "#FF0000",
    "selected_highlight": "#FFD700"
   },
   "moveMenuLeft": true,
   "nav_menu": {
    "height": "512px",
    "width": "252px"
   },
   "navigate_menu": true,
   "number_sections": true,
   "sideBar": false,
   "threshold": 4,
   "toc_cell": false,
   "toc_position": {
    "height": "304px",
    "left": "1398px",
    "right": "1645px",
    "top": "27px",
    "width": "365px"
   },
   "toc_section_display": "block",
   "toc_window_display": true,
   "widenNotebook": false
  }
 },
 "nbformat": 4,
 "nbformat_minor": 1
}
